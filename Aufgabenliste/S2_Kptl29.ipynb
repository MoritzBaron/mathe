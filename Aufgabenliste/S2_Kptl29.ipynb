{
 "cells": [
  {
   "cell_type": "code",
   "execution_count": 2,
   "id": "c867e685",
   "metadata": {},
   "outputs": [],
   "source": [
    "from sympy import *"
   ]
  },
  {
   "cell_type": "code",
   "execution_count": 5,
   "id": "c346f993",
   "metadata": {},
   "outputs": [
    {
     "data": {
      "text/latex": [
       "$\\displaystyle \\left[\\begin{matrix}3\\\\5\\end{matrix}\\right]$"
      ],
      "text/plain": [
       "Matrix([\n",
       "[3],\n",
       "[5]])"
      ]
     },
     "execution_count": 5,
     "metadata": {},
     "output_type": "execute_result"
    }
   ],
   "source": [
    "#376\n",
    "A = Matrix([[5, -2, 0],[4,0,1]])\n",
    "v = Matrix([[1],[1],[1]])\n",
    "A*v"
   ]
  },
  {
   "cell_type": "code",
   "execution_count": 6,
   "id": "b68ba8fc",
   "metadata": {},
   "outputs": [
    {
     "data": {
      "text/latex": [
       "$\\displaystyle \\left[\\begin{matrix}5 a - 2\\\\3\\end{matrix}\\right]$"
      ],
      "text/plain": [
       "Matrix([\n",
       "[5*a - 2],\n",
       "[      3]])"
      ]
     },
     "execution_count": 6,
     "metadata": {},
     "output_type": "execute_result"
    }
   ],
   "source": [
    "#377\n",
    "a = symbols(\"a\")\n",
    "A = Matrix([[5*a, -2, 0],[4,0,-1]])\n",
    "v = Matrix([[1],[1],[1]])\n",
    "A*v"
   ]
  },
  {
   "cell_type": "code",
   "execution_count": 7,
   "id": "3ebcba59",
   "metadata": {},
   "outputs": [
    {
     "data": {
      "text/plain": [
       "[2]"
      ]
     },
     "execution_count": 7,
     "metadata": {},
     "output_type": "execute_result"
    }
   ],
   "source": [
    "solve(5*a -2 -8)"
   ]
  },
  {
   "cell_type": "code",
   "execution_count": 10,
   "id": "e2b40829",
   "metadata": {},
   "outputs": [
    {
     "data": {
      "text/plain": [
       "(Matrix([\n",
       " [2],\n",
       " [1]]),\n",
       " Matrix([\n",
       " [ 2],\n",
       " [-4]]))"
      ]
     },
     "execution_count": 10,
     "metadata": {},
     "output_type": "execute_result"
    }
   ],
   "source": [
    "#378\n",
    "v1 = Matrix([[1],[0]])\n",
    "v2 = Matrix([[0],[1]])\n",
    "A = Matrix([[2,2],[1,-4]])\n",
    "A * v1, A * v2 "
   ]
  },
  {
   "cell_type": "code",
   "execution_count": 11,
   "id": "44bc4ae8",
   "metadata": {},
   "outputs": [
    {
     "data": {
      "text/latex": [
       "$\\displaystyle \\left[\\begin{matrix}10\\\\-5\\end{matrix}\\right]$"
      ],
      "text/plain": [
       "Matrix([\n",
       "[10],\n",
       "[-5]])"
      ]
     },
     "execution_count": 11,
     "metadata": {},
     "output_type": "execute_result"
    }
   ],
   "source": [
    "v3 = Matrix([[3],[2]])\n",
    "A * v3"
   ]
  },
  {
   "cell_type": "code",
   "execution_count": null,
   "id": "19e8e26a",
   "metadata": {},
   "outputs": [],
   "source": [
    "#379\n"
   ]
  }
 ],
 "metadata": {
  "kernelspec": {
   "display_name": "Python 3 (ipykernel)",
   "language": "python",
   "name": "python3"
  },
  "language_info": {
   "codemirror_mode": {
    "name": "ipython",
    "version": 3
   },
   "file_extension": ".py",
   "mimetype": "text/x-python",
   "name": "python",
   "nbconvert_exporter": "python",
   "pygments_lexer": "ipython3",
   "version": "3.10.6"
  }
 },
 "nbformat": 4,
 "nbformat_minor": 5
}
