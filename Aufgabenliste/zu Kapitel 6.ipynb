{
 "cells": [
  {
   "cell_type": "markdown",
   "id": "6569f4cc",
   "metadata": {},
   "source": [
    "A58:"
   ]
  },
  {
   "cell_type": "code",
   "execution_count": 1,
   "id": "ff6f02f9",
   "metadata": {},
   "outputs": [
    {
     "data": {
      "text/plain": [
       "54"
      ]
     },
     "execution_count": 1,
     "metadata": {},
     "output_type": "execute_result"
    }
   ],
   "source": [
    "#%27\n",
    "3*9\n",
    "9*6"
   ]
  },
  {
   "cell_type": "markdown",
   "id": "32820fa6",
   "metadata": {},
   "source": [
    "A59:"
   ]
  },
  {
   "cell_type": "code",
   "execution_count": 14,
   "id": "467c7354",
   "metadata": {},
   "outputs": [
    {
     "data": {
      "text/plain": [
       "1640"
      ]
     },
     "execution_count": 14,
     "metadata": {},
     "output_type": "execute_result"
    }
   ],
   "source": [
    "c = 0\n",
    "x = 1\n",
    "for x in range(1, 42):\n",
    "    for a in range(1,42):\n",
    "        if (5*x)%42 != a:\n",
    "            c += 1\n",
    "            \n",
    "c "
   ]
  },
  {
   "cell_type": "code",
   "execution_count": 15,
   "id": "1ce3585d",
   "metadata": {},
   "outputs": [
    {
     "data": {
      "text/plain": [
       "8"
      ]
     },
     "execution_count": 15,
     "metadata": {},
     "output_type": "execute_result"
    }
   ],
   "source": [
    "count = 0\n",
    "for a in range(24):\n",
    "    for x in range(24):\n",
    "        if (a*x)%24 == 1:\n",
    "            count += 1\n",
    "count"
   ]
  },
  {
   "cell_type": "code",
   "execution_count": 20,
   "id": "aba249cf",
   "metadata": {},
   "outputs": [
    {
     "name": "stdout",
     "output_type": "stream",
     "text": [
      "1\n",
      "801\n"
     ]
    },
    {
     "data": {
      "text/plain": [
       "2"
      ]
     },
     "execution_count": 20,
     "metadata": {},
     "output_type": "execute_result"
    }
   ],
   "source": [
    "count = 0\n",
    "for a in range(802):\n",
    "        if (a*a)%802 == 1:\n",
    "            print(a)\n",
    "            count += 1\n",
    "count"
   ]
  },
  {
   "cell_type": "code",
   "execution_count": null,
   "id": "f5ea14af",
   "metadata": {},
   "outputs": [],
   "source": []
  }
 ],
 "metadata": {
  "kernelspec": {
   "display_name": "Python 3 (ipykernel)",
   "language": "python",
   "name": "python3"
  },
  "language_info": {
   "codemirror_mode": {
    "name": "ipython",
    "version": 3
   },
   "file_extension": ".py",
   "mimetype": "text/x-python",
   "name": "python",
   "nbconvert_exporter": "python",
   "pygments_lexer": "ipython3",
   "version": "3.10.6"
  }
 },
 "nbformat": 4,
 "nbformat_minor": 5
}
