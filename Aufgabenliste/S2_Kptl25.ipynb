{
 "cells": [
  {
   "cell_type": "code",
   "execution_count": 2,
   "id": "798dc601",
   "metadata": {},
   "outputs": [],
   "source": [
    "from math import sin, cos, pi\n",
    "from sympy import *"
   ]
  },
  {
   "cell_type": "code",
   "execution_count": 4,
   "id": "a0541c19",
   "metadata": {},
   "outputs": [
    {
     "data": {
      "text/latex": [
       "$\\displaystyle \\left[\\begin{matrix}0\\\\0\\end{matrix}\\right]$"
      ],
      "text/plain": [
       "Matrix([\n",
       "[0],\n",
       "[0]])"
      ]
     },
     "execution_count": 4,
     "metadata": {},
     "output_type": "execute_result"
    }
   ],
   "source": [
    "#355\n",
    "a = Matrix([[cos(pi/2)],[sin(pi/2)]])\n",
    "b = Matrix([[cos(pi)],[sin(pi)]])\n",
    "c = Matrix([[cos(3*pi/2)],[sin(3*pi/2)]])\n",
    "d = Matrix([[1],[0]])\n",
    "v = a+b+c+d\n",
    "v"
   ]
  },
  {
   "cell_type": "code",
   "execution_count": 5,
   "id": "97516add",
   "metadata": {},
   "outputs": [
    {
     "data": {
      "text/plain": [
       "(0, 0)"
      ]
     },
     "execution_count": 5,
     "metadata": {},
     "output_type": "execute_result"
    }
   ],
   "source": [
    "#Probe zu 355\n",
    "a = cos(pi/2) + cos(pi) + cos(3*pi/2) + 1\n",
    "b = sin(pi/2) + sin(pi) + sin(3*pi/2) + 0\n",
    "a,b"
   ]
  },
  {
   "cell_type": "code",
   "execution_count": null,
   "id": "b7176828",
   "metadata": {},
   "outputs": [],
   "source": [
    "#356\n",
    "#verbindungsgeraden heißt nicht nicht zwingend zwischen a und b\n",
    "[][][X][X][X]"
   ]
  },
  {
   "cell_type": "code",
   "execution_count": null,
   "id": "22363b70",
   "metadata": {},
   "outputs": [],
   "source": [
    "#357\n",
    "#verbindungsstrecke heißt zwischen a und b -> faktoren vor a und b müssen im intervall[0,1] sein\n",
    "[][][X][X][]"
   ]
  },
  {
   "cell_type": "code",
   "execution_count": null,
   "id": "e3936e69",
   "metadata": {},
   "outputs": [],
   "source": [
    "#358\n",
    "#punkte in Gleichung p+R*v einsetzen, R finden, a ausrechnen\n",
    "#-> a = 11"
   ]
  },
  {
   "cell_type": "code",
   "execution_count": null,
   "id": "1565e32e",
   "metadata": {},
   "outputs": [],
   "source": [
    "#359\n",
    "#y=m*x+c\n",
    "#punkte berechnen -> in skizze eintragen und m berechnen\n",
    "#einen punkt in geradengleichung einsetzen und nach c auflösen\n",
    "#-> y = 1/3 * x - 4/3 "
   ]
  },
  {
   "cell_type": "code",
   "execution_count": null,
   "id": "486b9f85",
   "metadata": {},
   "outputs": [],
   "source": [
    "#360\n",
    "siehe Aufgabe #359"
   ]
  }
 ],
 "metadata": {
  "kernelspec": {
   "display_name": "Python 3 (ipykernel)",
   "language": "python",
   "name": "python3"
  },
  "language_info": {
   "codemirror_mode": {
    "name": "ipython",
    "version": 3
   },
   "file_extension": ".py",
   "mimetype": "text/x-python",
   "name": "python",
   "nbconvert_exporter": "python",
   "pygments_lexer": "ipython3",
   "version": "3.10.12"
  }
 },
 "nbformat": 4,
 "nbformat_minor": 5
}
