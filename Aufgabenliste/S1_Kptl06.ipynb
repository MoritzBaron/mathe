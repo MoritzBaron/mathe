{
 "cells": [
  {
   "cell_type": "code",
   "execution_count": 27,
   "id": "7b3f028b",
   "metadata": {},
   "outputs": [],
   "source": [
    "#58\n",
    "def div(n):\n",
    "    for a in range(1,n):\n",
    "        for b in range(1,n):\n",
    "            if a*b % n == 0:\n",
    "                return(a, b)\n",
    "    "
   ]
  },
  {
   "cell_type": "code",
   "execution_count": 28,
   "id": "c38101d3",
   "metadata": {},
   "outputs": [
    {
     "data": {
      "text/plain": [
       "(3, 9)"
      ]
     },
     "execution_count": 28,
     "metadata": {},
     "output_type": "execute_result"
    }
   ],
   "source": [
    "div(27)"
   ]
  },
  {
   "cell_type": "code",
   "execution_count": 29,
   "id": "ad93e0d3",
   "metadata": {},
   "outputs": [
    {
     "data": {
      "text/plain": [
       "1722"
      ]
     },
     "execution_count": 29,
     "metadata": {},
     "output_type": "execute_result"
    }
   ],
   "source": [
    "#59\n",
    "c = 0\n",
    "for a in range(42):\n",
    "    for x in range(42):\n",
    "        if 5*x % 42!= a:\n",
    "            c += 1\n",
    "c"
   ]
  },
  {
   "cell_type": "code",
   "execution_count": 30,
   "id": "fdad56c9",
   "metadata": {},
   "outputs": [
    {
     "data": {
      "text/plain": [
       "1722"
      ]
     },
     "execution_count": 30,
     "metadata": {},
     "output_type": "execute_result"
    }
   ],
   "source": [
    "#60\n",
    "c = 0\n",
    "for a in range(42):\n",
    "    for x in range(42):\n",
    "        if ((5*x**2) + 3)% 42 != a:\n",
    "            c += 1\n",
    "c"
   ]
  },
  {
   "cell_type": "code",
   "execution_count": 32,
   "id": "8b874227",
   "metadata": {},
   "outputs": [
    {
     "data": {
      "text/plain": [
       "(2, -5, 1)"
      ]
     },
     "execution_count": 32,
     "metadata": {},
     "output_type": "execute_result"
    }
   ],
   "source": [
    "#61\n",
    "from sympy import gcdex\n",
    "gcdex(23,9)"
   ]
  },
  {
   "cell_type": "code",
   "execution_count": 33,
   "id": "de51b683",
   "metadata": {},
   "outputs": [
    {
     "data": {
      "text/plain": [
       "(-5, 2, 1)"
      ]
     },
     "execution_count": 33,
     "metadata": {},
     "output_type": "execute_result"
    }
   ],
   "source": [
    "gcdex(9,23)"
   ]
  },
  {
   "cell_type": "code",
   "execution_count": 34,
   "id": "633cb8de",
   "metadata": {},
   "outputs": [],
   "source": [
    "#61-63 auf papier"
   ]
  },
  {
   "cell_type": "code",
   "execution_count": 36,
   "id": "e3a9c364",
   "metadata": {},
   "outputs": [
    {
     "name": "stdout",
     "output_type": "stream",
     "text": [
      "0\n",
      "1\n",
      "401\n",
      "402\n"
     ]
    },
    {
     "data": {
      "text/plain": [
       "4"
      ]
     },
     "execution_count": 36,
     "metadata": {},
     "output_type": "execute_result"
    }
   ],
   "source": [
    "#64\n",
    "c = 0\n",
    "for x in range(802):\n",
    "    if (x*x) % 802 == x:\n",
    "        print(x)\n",
    "        c += 1\n",
    "c"
   ]
  },
  {
   "cell_type": "code",
   "execution_count": 39,
   "id": "844b6694",
   "metadata": {},
   "outputs": [
    {
     "name": "stdout",
     "output_type": "stream",
     "text": [
      "1\n",
      "2\n",
      "3\n",
      "6\n",
      "7\n",
      "14\n",
      "21\n",
      "42\n",
      "101\n",
      "202\n",
      "303\n",
      "606\n",
      "707\n",
      "1414\n",
      "2121\n"
     ]
    },
    {
     "data": {
      "text/plain": [
       "15"
      ]
     },
     "execution_count": 39,
     "metadata": {},
     "output_type": "execute_result"
    }
   ],
   "source": [
    "#65\n",
    "c = 0\n",
    "for x in range(1,4242):\n",
    "    if 4242 % x == 0:\n",
    "        c += 1\n",
    "        print(x)\n",
    "c"
   ]
  },
  {
   "cell_type": "code",
   "execution_count": 50,
   "id": "eb1399ab",
   "metadata": {},
   "outputs": [
    {
     "data": {
      "text/plain": [
       "29"
      ]
     },
     "execution_count": 50,
     "metadata": {},
     "output_type": "execute_result"
    }
   ],
   "source": [
    "(6*7)-13"
   ]
  },
  {
   "cell_type": "code",
   "execution_count": 51,
   "id": "4ea29513",
   "metadata": {},
   "outputs": [
    {
     "data": {
      "text/plain": [
       "13"
      ]
     },
     "execution_count": 51,
     "metadata": {},
     "output_type": "execute_result"
    }
   ],
   "source": [
    "6*7-29"
   ]
  },
  {
   "cell_type": "code",
   "execution_count": null,
   "id": "034dae2a",
   "metadata": {},
   "outputs": [],
   "source": []
  }
 ],
 "metadata": {
  "kernelspec": {
   "display_name": "Python 3 (ipykernel)",
   "language": "python",
   "name": "python3"
  },
  "language_info": {
   "codemirror_mode": {
    "name": "ipython",
    "version": 3
   },
   "file_extension": ".py",
   "mimetype": "text/x-python",
   "name": "python",
   "nbconvert_exporter": "python",
   "pygments_lexer": "ipython3",
   "version": "3.10.6"
  }
 },
 "nbformat": 4,
 "nbformat_minor": 5
}
