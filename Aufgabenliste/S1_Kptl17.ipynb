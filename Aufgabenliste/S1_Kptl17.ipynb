{
 "cells": [
  {
   "cell_type": "markdown",
   "id": "4516f74d",
   "metadata": {},
   "source": [
    "Aufgabe 196"
   ]
  },
  {
   "cell_type": "code",
   "execution_count": 38,
   "id": "3c449dcc",
   "metadata": {},
   "outputs": [
    {
     "data": {
      "text/plain": [
       "(450, 450)"
      ]
     },
     "execution_count": 38,
     "metadata": {},
     "output_type": "execute_result"
    }
   ],
   "source": [
    "ceven = set()\n",
    "codd = set()\n",
    "for i in range(100,1000):\n",
    "    if i % 2 == 0:\n",
    "        ceven.add(i)\n",
    "    else:\n",
    "        codd.add(i)\n",
    "len(ceven), len(codd)\n",
    "        \n",
    "    \n",
    "    "
   ]
  },
  {
   "cell_type": "markdown",
   "id": "f0eff6e9",
   "metadata": {},
   "source": [
    "Aufgabe 197 + 198"
   ]
  },
  {
   "cell_type": "code",
   "execution_count": 39,
   "id": "ac05ec72",
   "metadata": {},
   "outputs": [],
   "source": [
    "#{1}"
   ]
  },
  {
   "cell_type": "code",
   "execution_count": 40,
   "id": "8dde78a2",
   "metadata": {},
   "outputs": [],
   "source": [
    "#mächtigkeit = 1"
   ]
  },
  {
   "cell_type": "markdown",
   "id": "6b4d9c47",
   "metadata": {},
   "source": [
    "Aufgabe 199"
   ]
  },
  {
   "cell_type": "code",
   "execution_count": 25,
   "id": "0732ced7",
   "metadata": {},
   "outputs": [],
   "source": [
    "def perms(L):\n",
    "    if len(L) <= 1:\n",
    "        return (L,)\n",
    "    else:\n",
    "        return tuple((L[i],) + P for i in range(len(L))\n",
    "                                 for P in perms(L[:i] + L[i+1:]))"
   ]
  },
  {
   "cell_type": "code",
   "execution_count": 29,
   "id": "7f355082",
   "metadata": {},
   "outputs": [
    {
     "data": {
      "text/plain": [
       "360"
      ]
     },
     "execution_count": 29,
     "metadata": {},
     "output_type": "execute_result"
    }
   ],
   "source": [
    "len(set(perms((2,3,4,4,5,6))))"
   ]
  }
 ],
 "metadata": {
  "kernelspec": {
   "display_name": "Python 3 (ipykernel)",
   "language": "python",
   "name": "python3"
  },
  "language_info": {
   "codemirror_mode": {
    "name": "ipython",
    "version": 3
   },
   "file_extension": ".py",
   "mimetype": "text/x-python",
   "name": "python",
   "nbconvert_exporter": "python",
   "pygments_lexer": "ipython3",
   "version": "3.10.6"
  }
 },
 "nbformat": 4,
 "nbformat_minor": 5
}
