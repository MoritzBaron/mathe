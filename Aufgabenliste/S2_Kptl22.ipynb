{
 "cells": [
  {
   "cell_type": "code",
   "execution_count": 2,
   "id": "1b6970cd",
   "metadata": {},
   "outputs": [],
   "source": [
    "def polar(x, y):\n",
    "    return sqrt(x**2 + y**2) , atan2(y,x) \n",
    "\n",
    "def cartesian(r, phi): \n",
    "    return r*cos(phi) , r*sin(phi)"
   ]
  },
  {
   "cell_type": "code",
   "execution_count": 3,
   "id": "32affbee",
   "metadata": {},
   "outputs": [
    {
     "data": {
      "text/plain": [
       "(5, atan(4/3))"
      ]
     },
     "execution_count": 3,
     "metadata": {},
     "output_type": "execute_result"
    }
   ],
   "source": [
    "polar(3,4)"
   ]
  },
  {
   "cell_type": "code",
   "execution_count": 2,
   "id": "3eacf3ad",
   "metadata": {},
   "outputs": [
    {
     "data": {
      "text/latex": [
       "$\\displaystyle 5$"
      ],
      "text/plain": [
       "5"
      ]
     },
     "execution_count": 2,
     "metadata": {},
     "output_type": "execute_result"
    }
   ],
   "source": [
    "#320\n",
    "from sympy import *\n",
    "sqrt(13**2 - 12**2)\n",
    "#Q (12,5)"
   ]
  },
  {
   "cell_type": "code",
   "execution_count": null,
   "id": "08a31815",
   "metadata": {},
   "outputs": [],
   "source": [
    "#321\n",
    "[][]\n",
    "[][]\n",
    "[X]"
   ]
  },
  {
   "cell_type": "code",
   "execution_count": 83,
   "id": "e301040b",
   "metadata": {},
   "outputs": [
    {
     "data": {
      "text/plain": [
       "8.513422179807298"
      ]
     },
     "execution_count": 83,
     "metadata": {},
     "output_type": "execute_result"
    }
   ],
   "source": [
    "#322\n",
    "from math import sin, cos, pi, acos, asin,atan2,radians,degrees, sqrt, atan\n",
    "8/sin(radians(70))\n",
    "\n"
   ]
  },
  {
   "cell_type": "code",
   "execution_count": 25,
   "id": "5fe1e860",
   "metadata": {},
   "outputs": [
    {
     "data": {
      "text/latex": [
       "$\\displaystyle 7.6572859818825$"
      ],
      "text/plain": [
       "7.65728598188250"
      ]
     },
     "execution_count": 25,
     "metadata": {},
     "output_type": "execute_result"
    }
   ],
   "source": [
    "#323\n",
    "tan(radians(15))* ((cos(radians(45))*35)/cos(radians(30)))"
   ]
  },
  {
   "cell_type": "code",
   "execution_count": 26,
   "id": "88d787e5",
   "metadata": {},
   "outputs": [
    {
     "data": {
      "text/latex": [
       "$\\displaystyle 14.7927405783631$"
      ],
      "text/plain": [
       "14.7927405783631"
      ]
     },
     "execution_count": 26,
     "metadata": {},
     "output_type": "execute_result"
    }
   ],
   "source": [
    "#324\n",
    "tan(radians(30))* ((cos(radians(45))*35)/cos(radians(15)))"
   ]
  },
  {
   "cell_type": "code",
   "execution_count": 42,
   "id": "58788f62",
   "metadata": {},
   "outputs": [
    {
     "data": {
      "text/plain": [
       "2.9999999999999987"
      ]
     },
     "execution_count": 42,
     "metadata": {},
     "output_type": "execute_result"
    }
   ],
   "source": [
    "#325\n",
    "sqrt(7*7 - sqrt(6*6 + 2*2)**2)"
   ]
  },
  {
   "cell_type": "code",
   "execution_count": 31,
   "id": "fa56f198",
   "metadata": {},
   "outputs": [
    {
     "data": {
      "text/plain": [
       "18.0"
      ]
     },
     "execution_count": 31,
     "metadata": {},
     "output_type": "execute_result"
    }
   ],
   "source": [
    "#326\n",
    "90/5\n"
   ]
  },
  {
   "cell_type": "code",
   "execution_count": 32,
   "id": "5366e017",
   "metadata": {},
   "outputs": [
    {
     "data": {
      "text/plain": [
       "54"
      ]
     },
     "execution_count": 32,
     "metadata": {},
     "output_type": "execute_result"
    }
   ],
   "source": [
    "3*18"
   ]
  },
  {
   "cell_type": "code",
   "execution_count": 33,
   "id": "fa5754e2",
   "metadata": {},
   "outputs": [
    {
     "data": {
      "text/plain": [
       "58.778525229247315"
      ]
     },
     "execution_count": 33,
     "metadata": {},
     "output_type": "execute_result"
    }
   ],
   "source": [
    "cos(radians(54))*100"
   ]
  },
  {
   "cell_type": "code",
   "execution_count": 4,
   "id": "58102cc5",
   "metadata": {},
   "outputs": [
    {
     "data": {
      "text/latex": [
       "$\\displaystyle 1$"
      ],
      "text/plain": [
       "1"
      ]
     },
     "execution_count": 4,
     "metadata": {},
     "output_type": "execute_result"
    }
   ],
   "source": [
    "#327\n",
    "(sqrt(2)*sqrt(2))/2"
   ]
  },
  {
   "cell_type": "code",
   "execution_count": 40,
   "id": "99f23095",
   "metadata": {},
   "outputs": [
    {
     "data": {
      "text/plain": [
       "4.330127018922194"
      ]
     },
     "execution_count": 40,
     "metadata": {},
     "output_type": "execute_result"
    }
   ],
   "source": [
    "#328\n",
    "sqrt(5**2 - 2.5*2.5)"
   ]
  },
  {
   "cell_type": "code",
   "execution_count": 47,
   "id": "3b8a9efc",
   "metadata": {},
   "outputs": [
    {
     "data": {
      "text/plain": [
       "8.660254037844387"
      ]
     },
     "execution_count": 47,
     "metadata": {},
     "output_type": "execute_result"
    }
   ],
   "source": [
    "sqrt(7.5*7.5 + sqrt(5**2 - 2.5*2.5)**2)"
   ]
  },
  {
   "cell_type": "code",
   "execution_count": 50,
   "id": "20a81305",
   "metadata": {},
   "outputs": [],
   "source": [
    "#329\n"
   ]
  },
  {
   "cell_type": "code",
   "execution_count": null,
   "id": "2d3bd4c1",
   "metadata": {},
   "outputs": [],
   "source": []
  },
  {
   "cell_type": "code",
   "execution_count": 59,
   "id": "4fcc4b41",
   "metadata": {},
   "outputs": [
    {
     "data": {
      "text/plain": [
       "16.242692454827438"
      ]
     },
     "execution_count": 59,
     "metadata": {},
     "output_type": "execute_result"
    }
   ],
   "source": [
    "#330\n",
    "(5/sin(radians(19)))/cos(radians(19))"
   ]
  },
  {
   "cell_type": "code",
   "execution_count": 53,
   "id": "fb397536",
   "metadata": {},
   "outputs": [
    {
     "data": {
      "text/plain": [
       "60.0"
      ]
     },
     "execution_count": 53,
     "metadata": {},
     "output_type": "execute_result"
    }
   ],
   "source": [
    "#331\n",
    "5*sqrt(13*13 - 5*5)"
   ]
  },
  {
   "cell_type": "code",
   "execution_count": 51,
   "id": "7f9933dd",
   "metadata": {},
   "outputs": [
    {
     "data": {
      "text/plain": [
       "360.0"
      ]
     },
     "execution_count": 51,
     "metadata": {},
     "output_type": "execute_result"
    }
   ],
   "source": [
    "#332\n",
    "sqrt(41*41 - 9*9)*9"
   ]
  },
  {
   "cell_type": "code",
   "execution_count": null,
   "id": "e15825cf",
   "metadata": {},
   "outputs": [],
   "source": [
    "#333\n",
    "#-> 16\n"
   ]
  },
  {
   "cell_type": "code",
   "execution_count": 55,
   "id": "9214ddcd",
   "metadata": {},
   "outputs": [
    {
     "data": {
      "text/plain": [
       "12.0"
      ]
     },
     "execution_count": 55,
     "metadata": {},
     "output_type": "execute_result"
    }
   ],
   "source": [
    "#334\n",
    "sqrt(10*10 - 8*8)*2"
   ]
  },
  {
   "cell_type": "code",
   "execution_count": 80,
   "id": "c0598d74",
   "metadata": {},
   "outputs": [
    {
     "data": {
      "text/plain": [
       "4.568925512662975"
      ]
     },
     "execution_count": 80,
     "metadata": {},
     "output_type": "execute_result"
    }
   ],
   "source": [
    "#336\n",
    "(7/cos(radians(40)))/2"
   ]
  },
  {
   "cell_type": "code",
   "execution_count": null,
   "id": "22120637",
   "metadata": {},
   "outputs": [],
   "source": []
  },
  {
   "cell_type": "code",
   "execution_count": 62,
   "id": "9acf9972",
   "metadata": {},
   "outputs": [
    {
     "data": {
      "text/plain": [
       "35.0"
      ]
     },
     "execution_count": 62,
     "metadata": {},
     "output_type": "execute_result"
    }
   ],
   "source": [
    "#338\n",
    "sqrt(37*37 - 12*12)"
   ]
  },
  {
   "cell_type": "code",
   "execution_count": 73,
   "id": "37b2d210",
   "metadata": {},
   "outputs": [
    {
     "data": {
      "text/plain": [
       "3.7587704831436333"
      ]
     },
     "execution_count": 73,
     "metadata": {},
     "output_type": "execute_result"
    }
   ],
   "source": [
    "((sin(radians(35))*4)*(cos(radians(35))*4))/2"
   ]
  },
  {
   "cell_type": "code",
   "execution_count": 76,
   "id": "99388615",
   "metadata": {},
   "outputs": [
    {
     "data": {
      "text/plain": [
       "23.382685902179844"
      ]
     },
     "execution_count": 76,
     "metadata": {},
     "output_type": "execute_result"
    }
   ],
   "source": [
    "#339\n",
    "1.5*sqrt(3*3 -1.5*1.5)*6"
   ]
  },
  {
   "cell_type": "code",
   "execution_count": 89,
   "id": "30e788fc",
   "metadata": {},
   "outputs": [
    {
     "data": {
      "text/plain": [
       "71.56505117707799"
      ]
     },
     "execution_count": 89,
     "metadata": {},
     "output_type": "execute_result"
    }
   ],
   "source": [
    "#340\n",
    "degrees(atan(3))"
   ]
  },
  {
   "cell_type": "code",
   "execution_count": 91,
   "id": "b9a68100",
   "metadata": {},
   "outputs": [
    {
     "data": {
      "text/plain": [
       "67.79234570140352"
      ]
     },
     "execution_count": 91,
     "metadata": {},
     "output_type": "execute_result"
    }
   ],
   "source": [
    "degrees(atan(sqrt(6)/1))"
   ]
  },
  {
   "cell_type": "code",
   "execution_count": null,
   "id": "4e0081aa",
   "metadata": {},
   "outputs": [],
   "source": []
  },
  {
   "cell_type": "code",
   "execution_count": null,
   "id": "10cbdc99",
   "metadata": {},
   "outputs": [],
   "source": []
  }
 ],
 "metadata": {
  "kernelspec": {
   "display_name": "Python 3 (ipykernel)",
   "language": "python",
   "name": "python3"
  },
  "language_info": {
   "codemirror_mode": {
    "name": "ipython",
    "version": 3
   },
   "file_extension": ".py",
   "mimetype": "text/x-python",
   "name": "python",
   "nbconvert_exporter": "python",
   "pygments_lexer": "ipython3",
   "version": "3.10.6"
  }
 },
 "nbformat": 4,
 "nbformat_minor": 5
}
