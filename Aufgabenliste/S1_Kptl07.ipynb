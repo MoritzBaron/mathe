{
 "cells": [
  {
   "cell_type": "code",
   "execution_count": 3,
   "id": "e1782013",
   "metadata": {},
   "outputs": [],
   "source": [
    "#71\n",
    "from sympy.ntheory.modular import crt"
   ]
  },
  {
   "cell_type": "code",
   "execution_count": 4,
   "id": "69fad96d",
   "metadata": {},
   "outputs": [
    {
     "data": {
      "text/plain": [
       "(27, 140)"
      ]
     },
     "execution_count": 4,
     "metadata": {},
     "output_type": "execute_result"
    }
   ],
   "source": [
    "crt([5,4,7],[2,3,6])"
   ]
  },
  {
   "cell_type": "code",
   "execution_count": 7,
   "id": "553678da",
   "metadata": {},
   "outputs": [
    {
     "data": {
      "text/plain": [
       "(62, 84)"
      ]
     },
     "execution_count": 7,
     "metadata": {},
     "output_type": "execute_result"
    }
   ],
   "source": [
    "#72\n",
    "crt([3,4,7],[2,2,6])"
   ]
  },
  {
   "cell_type": "code",
   "execution_count": 8,
   "id": "1500003a",
   "metadata": {},
   "outputs": [
    {
     "data": {
      "text/plain": [
       "-22"
      ]
     },
     "execution_count": 8,
     "metadata": {},
     "output_type": "execute_result"
    }
   ],
   "source": [
    "62-84"
   ]
  },
  {
   "cell_type": "code",
   "execution_count": 9,
   "id": "254e44cf",
   "metadata": {},
   "outputs": [],
   "source": [
    "#73-75\n",
    "#Kongruenzsystem hat eine Lösung wenn Module untereinander teilerfremd sind; \n",
    "#andersrum, sollten zwei oder mehr module einen gemeinsamen Teiler haben besitzt das K-System KEINE Lösung"
   ]
  },
  {
   "cell_type": "code",
   "execution_count": null,
   "id": "5638c11d",
   "metadata": {},
   "outputs": [],
   "source": []
  }
 ],
 "metadata": {
  "kernelspec": {
   "display_name": "Python 3 (ipykernel)",
   "language": "python",
   "name": "python3"
  },
  "language_info": {
   "codemirror_mode": {
    "name": "ipython",
    "version": 3
   },
   "file_extension": ".py",
   "mimetype": "text/x-python",
   "name": "python",
   "nbconvert_exporter": "python",
   "pygments_lexer": "ipython3",
   "version": "3.10.6"
  }
 },
 "nbformat": 4,
 "nbformat_minor": 5
}
