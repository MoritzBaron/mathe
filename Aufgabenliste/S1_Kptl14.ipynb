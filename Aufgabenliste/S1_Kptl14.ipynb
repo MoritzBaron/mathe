{
 "cells": [
  {
   "cell_type": "code",
   "execution_count": null,
   "id": "c72988ad",
   "metadata": {},
   "outputs": [],
   "source": [
    "#133\n",
    "Brüche lassen sich octal nur dann mit endlich vielen Nachkommastellen darstellen wenn ihr Nenner durch 2 Teilbar ist\n",
    "[X]\n",
    "[]\n",
    "[X]\n",
    "[X]\n",
    "[]"
   ]
  },
  {
   "cell_type": "code",
   "execution_count": null,
   "id": "43fcb382",
   "metadata": {},
   "outputs": [],
   "source": [
    "#134\n",
    "[]\n",
    "[]\n",
    "[X]\n",
    "[]\n",
    "[X]"
   ]
  },
  {
   "cell_type": "code",
   "execution_count": null,
   "id": "df956035",
   "metadata": {},
   "outputs": [],
   "source": [
    "#135\n",
    "[]\n",
    "[X]\n",
    "[]\n",
    "[X]\n",
    "[X]\n",
    "[]"
   ]
  },
  {
   "cell_type": "code",
   "execution_count": null,
   "id": "5a71d08c",
   "metadata": {},
   "outputs": [],
   "source": [
    "#136\n",
    "[X]\n",
    "[]\n",
    "[X]\n",
    "[]\n",
    "[X]\n",
    "[]"
   ]
  },
  {
   "cell_type": "code",
   "execution_count": null,
   "id": "b28cae9a",
   "metadata": {},
   "outputs": [],
   "source": [
    "#137\n",
    "[X]\n",
    "[X]\n",
    "[]\n",
    "[]\n",
    "[X]\n",
    "[]"
   ]
  },
  {
   "cell_type": "code",
   "execution_count": null,
   "id": "46a3293b",
   "metadata": {},
   "outputs": [],
   "source": [
    "#138\n",
    "[X]\n",
    "[X]\n",
    "[X]\n",
    "[]\n",
    "[X]\n",
    "[X]\n",
    "[]"
   ]
  },
  {
   "cell_type": "code",
   "execution_count": null,
   "id": "e011a159",
   "metadata": {},
   "outputs": [],
   "source": [
    "#139\n",
    "[]\n",
    "[X]\n",
    "[X]\n",
    "[]\n",
    "[]"
   ]
  },
  {
   "cell_type": "code",
   "execution_count": 4,
   "id": "8635071f",
   "metadata": {},
   "outputs": [
    {
     "data": {
      "text/latex": [
       "$\\displaystyle \\text{True}$"
      ],
      "text/plain": [
       "True"
      ]
     },
     "execution_count": 4,
     "metadata": {},
     "output_type": "execute_result"
    }
   ],
   "source": [
    "#140\n",
    "from sympy import sqrt\n",
    "a = sqrt(3).evalf(10)\n",
    "a - sqrt(3) < 10**-4"
   ]
  },
  {
   "cell_type": "code",
   "execution_count": 11,
   "id": "684f0dfb",
   "metadata": {},
   "outputs": [
    {
     "name": "stdout",
     "output_type": "stream",
     "text": [
      "21/16\n",
      "25/19\n",
      "29/22\n",
      "21/16\n",
      "46/35\n",
      "25/19\n",
      "54/41\n",
      "29/22\n",
      "62/47\n",
      "21/16\n",
      "67/51\n",
      "71/54\n",
      "25/19\n",
      "79/60\n",
      "83/63\n",
      "21/16\n",
      "29/22\n",
      "88/67\n",
      "91/69\n",
      "46/35\n",
      "95/72\n",
      "96/73\n"
     ]
    }
   ],
   "source": [
    "#141\n",
    "from fractions import Fraction\n",
    "for num in range(1,100):\n",
    "    for den in range(1,100):\n",
    "        if (abs(Fraction(num, den)**2 - sqrt(3)) < 10**-2):\n",
    "            print(Fraction(num,den))\n",
    "            break"
   ]
  },
  {
   "cell_type": "code",
   "execution_count": 12,
   "id": "65960539",
   "metadata": {},
   "outputs": [
    {
     "data": {
      "text/latex": [
       "$\\displaystyle \\text{True}$"
      ],
      "text/plain": [
       "True"
      ]
     },
     "execution_count": 12,
     "metadata": {},
     "output_type": "execute_result"
    }
   ],
   "source": [
    "Fraction(21/16)-sqrt(3) < 10**-2"
   ]
  },
  {
   "cell_type": "code",
   "execution_count": 17,
   "id": "b0ee4d5b",
   "metadata": {},
   "outputs": [
    {
     "name": "stdout",
     "output_type": "stream",
     "text": [
      "4/7\n"
     ]
    }
   ],
   "source": [
    "#142\n",
    "for num in range(1,50):\n",
    "    for den in range(1,10):\n",
    "        if(abs(Fraction(num,den)-(1/sqrt(3)))<10**-2):\n",
    "            print(Fraction(num,den))"
   ]
  },
  {
   "cell_type": "code",
   "execution_count": 20,
   "id": "c2974f0d",
   "metadata": {},
   "outputs": [
    {
     "data": {
      "text/plain": [
       "755"
      ]
     },
     "execution_count": 20,
     "metadata": {},
     "output_type": "execute_result"
    }
   ],
   "source": [
    "#143\n",
    "from math import pi\n",
    "c = 0\n",
    "for num in range(1,50):\n",
    "    for den in range(1,20):\n",
    "        if(Fraction(num, den)< abs((pi - 3)-sqrt(10)-3 )):\n",
    "            c += 1\n",
    "c"
   ]
  },
  {
   "cell_type": "code",
   "execution_count": 29,
   "id": "7c1435c2",
   "metadata": {},
   "outputs": [],
   "source": [
    "#144 ???\n",
    "for num in range(1,50):\n",
    "    for den in range(1,50):\n",
    "        if(Fraction(num, den) > sqrt(5) and abs(q-sqrt(5)) < 10**-4 and den < 100000):\n",
    "           print(Fraction(num,den))"
   ]
  },
  {
   "cell_type": "code",
   "execution_count": null,
   "id": "4e129079",
   "metadata": {},
   "outputs": [],
   "source": []
  }
 ],
 "metadata": {
  "kernelspec": {
   "display_name": "Python 3 (ipykernel)",
   "language": "python",
   "name": "python3"
  },
  "language_info": {
   "codemirror_mode": {
    "name": "ipython",
    "version": 3
   },
   "file_extension": ".py",
   "mimetype": "text/x-python",
   "name": "python",
   "nbconvert_exporter": "python",
   "pygments_lexer": "ipython3",
   "version": "3.10.6"
  }
 },
 "nbformat": 4,
 "nbformat_minor": 5
}
