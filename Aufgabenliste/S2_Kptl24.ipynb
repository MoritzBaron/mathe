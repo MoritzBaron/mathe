{
 "cells": [
  {
   "cell_type": "code",
   "execution_count": 2,
   "id": "f8b4eab2",
   "metadata": {},
   "outputs": [],
   "source": [
    "from math import sin,asin,acos,cos,tan,atan2,atan,pi, degrees, radians\n",
    "from sympy import *"
   ]
  },
  {
   "cell_type": "code",
   "execution_count": 3,
   "id": "03a55ea5",
   "metadata": {},
   "outputs": [
    {
     "data": {
      "text/latex": [
       "$\\displaystyle - \\frac{2 \\pi}{3}$"
      ],
      "text/plain": [
       "-2*pi/3"
      ]
     },
     "execution_count": 3,
     "metadata": {},
     "output_type": "execute_result"
    }
   ],
   "source": [
    "#348\n",
    "import math\n",
    "atan2(-sqrt(3),-1)"
   ]
  },
  {
   "cell_type": "code",
   "execution_count": 65,
   "id": "c302406d",
   "metadata": {},
   "outputs": [
    {
     "data": {
      "text/plain": [
       "150.0"
      ]
     },
     "execution_count": 65,
     "metadata": {},
     "output_type": "execute_result"
    }
   ],
   "source": [
    "#349\n",
    "degrees(atan2(1, -sqrt(3)))"
   ]
  },
  {
   "cell_type": "code",
   "execution_count": 41,
   "id": "65ab864b",
   "metadata": {},
   "outputs": [
    {
     "data": {
      "text/plain": [
       "[-10*sqrt(17)/17, 10*sqrt(17)/17]"
      ]
     },
     "execution_count": 41,
     "metadata": {},
     "output_type": "execute_result"
    }
   ],
   "source": [
    "#350\n",
    "x = symbols(\"x\")\n",
    "y = -4*x\n",
    "r = 10\n",
    "solve(r-sqrt((x**2) + (y**2)),x)"
   ]
  },
  {
   "cell_type": "code",
   "execution_count": 42,
   "id": "6dba4fe5",
   "metadata": {},
   "outputs": [
    {
     "data": {
      "text/latex": [
       "$\\displaystyle 2.42535625036333$"
      ],
      "text/plain": [
       "2.42535625036333"
      ]
     },
     "execution_count": 42,
     "metadata": {},
     "output_type": "execute_result"
    }
   ],
   "source": [
    "(10*sqrt(17)/17).evalf()"
   ]
  },
  {
   "cell_type": "code",
   "execution_count": 36,
   "id": "9af8fe3c",
   "metadata": {},
   "outputs": [
    {
     "data": {
      "text/latex": [
       "$\\displaystyle -9.70142500145332$"
      ],
      "text/plain": [
       "-9.70142500145332"
      ]
     },
     "execution_count": 36,
     "metadata": {},
     "output_type": "execute_result"
    }
   ],
   "source": [
    "-4*(10*sqrt(17)/17).evalf()"
   ]
  },
  {
   "cell_type": "code",
   "execution_count": 43,
   "id": "7a1bde3a",
   "metadata": {},
   "outputs": [
    {
     "data": {
      "text/plain": [
       "[-9*sqrt(26)/26, 9*sqrt(26)/26]"
      ]
     },
     "execution_count": 43,
     "metadata": {},
     "output_type": "execute_result"
    }
   ],
   "source": [
    "#351\n",
    "r = 9\n",
    "y = -5*x\n",
    "x = symbols(\"x\")\n",
    "solve(r-sqrt((x**2) + (y**2)),x)"
   ]
  },
  {
   "cell_type": "code",
   "execution_count": 44,
   "id": "7ddbe92b",
   "metadata": {},
   "outputs": [
    {
     "data": {
      "text/latex": [
       "$\\displaystyle 1.76504521624366$"
      ],
      "text/plain": [
       "1.76504521624366"
      ]
     },
     "execution_count": 44,
     "metadata": {},
     "output_type": "execute_result"
    }
   ],
   "source": [
    "(9*sqrt(26)/26).evalf()\n"
   ]
  },
  {
   "cell_type": "code",
   "execution_count": 45,
   "id": "6cb903e4",
   "metadata": {},
   "outputs": [
    {
     "data": {
      "text/latex": [
       "$\\displaystyle -8.82522608121828$"
      ],
      "text/plain": [
       "-8.82522608121828"
      ]
     },
     "execution_count": 45,
     "metadata": {},
     "output_type": "execute_result"
    }
   ],
   "source": [
    "-5*(9*sqrt(26)/26).evalf()"
   ]
  },
  {
   "cell_type": "code",
   "execution_count": 5,
   "id": "37f5e072",
   "metadata": {},
   "outputs": [
    {
     "data": {
      "text/plain": [
       "60.00000000000001"
      ]
     },
     "execution_count": 5,
     "metadata": {},
     "output_type": "execute_result"
    }
   ],
   "source": [
    "#352\n",
    "r = 6\n",
    "x = 3\n",
    "y = sqrt(36-9)\n",
    "degrees(atan2(y,x))"
   ]
  },
  {
   "cell_type": "code",
   "execution_count": 4,
   "id": "fe0ff318",
   "metadata": {},
   "outputs": [
    {
     "data": {
      "text/latex": [
       "$\\displaystyle 118.684202905651$"
      ],
      "text/plain": [
       "118.684202905651"
      ]
     },
     "execution_count": 4,
     "metadata": {},
     "output_type": "execute_result"
    }
   ],
   "source": [
    "#353\n",
    "a = cos(radians(10))*20\n",
    "a1 = cos(radians(20))*30\n",
    "b = sin(radians(10))*20\n",
    "b1 = sin(radians(20))*30\n",
    "c = sqrt((70+a+a1)**2 + (b+b1)**2)\n",
    "c"
   ]
  },
  {
   "cell_type": "code",
   "execution_count": null,
   "id": "acffe168",
   "metadata": {},
   "outputs": [],
   "source": [
    "#354\n"
   ]
  }
 ],
 "metadata": {
  "kernelspec": {
   "display_name": "Python 3 (ipykernel)",
   "language": "python",
   "name": "python3"
  },
  "language_info": {
   "codemirror_mode": {
    "name": "ipython",
    "version": 3
   },
   "file_extension": ".py",
   "mimetype": "text/x-python",
   "name": "python",
   "nbconvert_exporter": "python",
   "pygments_lexer": "ipython3",
   "version": "3.10.6"
  }
 },
 "nbformat": 4,
 "nbformat_minor": 5
}
