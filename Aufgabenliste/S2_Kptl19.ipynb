{
 "cells": [
  {
   "cell_type": "code",
   "execution_count": null,
   "id": "85d376f4",
   "metadata": {},
   "outputs": [],
   "source": [
    "#271\n",
    "[]\n",
    "[X]\n",
    "[X]\n",
    "[X]\n",
    "[X]"
   ]
  },
  {
   "cell_type": "code",
   "execution_count": 1,
   "id": "f773351a",
   "metadata": {},
   "outputs": [
    {
     "data": {
      "text/plain": [
       "3574215"
      ]
     },
     "execution_count": 1,
     "metadata": {},
     "output_type": "execute_result"
    }
   ],
   "source": [
    "#272\n",
    "f = lambda x: 5 * x\n",
    "g = lambda z: z + 3\n",
    "h = lambda a: f(g(a))\n",
    "h(h(h(h(h(h(h(42)))))))"
   ]
  },
  {
   "cell_type": "code",
   "execution_count": null,
   "id": "26a12fa8",
   "metadata": {},
   "outputs": [],
   "source": [
    "#273\n",
    "f(x)= 2*x\n",
    "g(x)= x + 3\n",
    "\n",
    "[X] h(x)= 2*x + 3+x \n",
    "[] h(x)= 2*x * x + 3= 2*x**2 + 6x\n",
    "[X] h(x)= f(g(x))\n",
    "[X] h(x)= g(f(x))"
   ]
  },
  {
   "cell_type": "code",
   "execution_count": null,
   "id": "40b25e30",
   "metadata": {},
   "outputs": [],
   "source": [
    "#274\n",
    "f(x)= 2x - 4\n",
    "g(x)= -2x -4\n",
    "\n",
    "[] h(x)= 2x-4 + (-2x)-4= -8\n",
    "[X] h(x)= f(g(x))\n",
    "[] h(x)=-4x**2 +16\n",
    "[X] h(x)= g(f(x))"
   ]
  },
  {
   "cell_type": "code",
   "execution_count": null,
   "id": "46927fcb",
   "metadata": {},
   "outputs": [],
   "source": [
    "#275\n",
    "f(x)= 2x\n",
    "g(x)= x**2\n",
    "\n",
    "[X] h(x)= 2*x**3\n",
    "[] h(x)= 2*x + x**2\n",
    "[] h(x)= g(f(x))\n",
    "[] h(x)= f(g(x))"
   ]
  },
  {
   "cell_type": "code",
   "execution_count": null,
   "id": "37ffa90b",
   "metadata": {},
   "outputs": [],
   "source": [
    "#276\n",
    "f(x)= x**2\n",
    "g(x)= x**3\n",
    "\n",
    "[X] h(x)= x**5\n",
    "[] h(x)=\n",
    "[] h(x)=\n",
    "[X] h(x)= "
   ]
  },
  {
   "cell_type": "code",
   "execution_count": null,
   "id": "86eff31b",
   "metadata": {},
   "outputs": [],
   "source": [
    "#277\n",
    "[]\n",
    "[]\n",
    "[]\n",
    "[X]\n"
   ]
  },
  {
   "cell_type": "code",
   "execution_count": null,
   "id": "bb2cfa7f",
   "metadata": {},
   "outputs": [],
   "source": [
    "#278\n",
    "[X]  \n",
    "[] \n",
    "[X] \n",
    "[] "
   ]
  },
  {
   "cell_type": "code",
   "execution_count": null,
   "id": "8763c203",
   "metadata": {},
   "outputs": [],
   "source": [
    "#279\n",
    "[X]  \n",
    "[] \n",
    "[?] \n",
    "[] "
   ]
  },
  {
   "cell_type": "code",
   "execution_count": null,
   "id": "aba38275",
   "metadata": {},
   "outputs": [],
   "source": [
    "#280\n",
    "[X]  \n",
    "[] \n",
    "[X] \n",
    "[]"
   ]
  },
  {
   "cell_type": "code",
   "execution_count": null,
   "id": "faca43f0",
   "metadata": {},
   "outputs": [],
   "source": [
    "#281\n",
    "[X]  \n",
    "[] \n",
    "[] \n",
    "[X]"
   ]
  },
  {
   "cell_type": "code",
   "execution_count": null,
   "id": "6f74525a",
   "metadata": {},
   "outputs": [],
   "source": [
    "#282\n",
    "[]  \n",
    "[] \n",
    "[] \n",
    "[]"
   ]
  },
  {
   "cell_type": "code",
   "execution_count": null,
   "id": "f76d8ee8",
   "metadata": {},
   "outputs": [],
   "source": [
    "#283\n",
    "[]  \n",
    "[] \n",
    "[] \n",
    "[]"
   ]
  },
  {
   "cell_type": "code",
   "execution_count": null,
   "id": "70e35310",
   "metadata": {},
   "outputs": [],
   "source": [
    "#284\n",
    "[]  \n",
    "[] \n",
    "[] \n",
    "[]"
   ]
  },
  {
   "cell_type": "code",
   "execution_count": null,
   "id": "c2bc5f8f",
   "metadata": {},
   "outputs": [],
   "source": [
    "#285\n",
    "[]  \n",
    "[] \n",
    "[X] \n"
   ]
  }
 ],
 "metadata": {
  "kernelspec": {
   "display_name": "Python 3 (ipykernel)",
   "language": "python",
   "name": "python3"
  },
  "language_info": {
   "codemirror_mode": {
    "name": "ipython",
    "version": 3
   },
   "file_extension": ".py",
   "mimetype": "text/x-python",
   "name": "python",
   "nbconvert_exporter": "python",
   "pygments_lexer": "ipython3",
   "version": "3.10.6"
  }
 },
 "nbformat": 4,
 "nbformat_minor": 5
}
