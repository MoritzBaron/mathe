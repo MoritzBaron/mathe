{
 "cells": [
  {
   "cell_type": "code",
   "execution_count": null,
   "id": "5d55ab23",
   "metadata": {},
   "outputs": [],
   "source": [
    "#160\n",
    "zb: (1,2), (1,3), (2,1), (3,1)"
   ]
  },
  {
   "cell_type": "code",
   "execution_count": null,
   "id": "9f145f25",
   "metadata": {},
   "outputs": [],
   "source": [
    "#161\n",
    "sqrt(2), sqrt(-2), 0\n",
    "-> Mächtigkeit = 3"
   ]
  },
  {
   "cell_type": "code",
   "execution_count": null,
   "id": "c8fec4f0",
   "metadata": {},
   "outputs": [],
   "source": [
    "#162\n",
    "B = {0, -1, 1, -2, 2, -3, 3, -4, 4, -6, 6, 9}\n",
    "|B| = 12"
   ]
  },
  {
   "cell_type": "code",
   "execution_count": 9,
   "id": "b964993d",
   "metadata": {},
   "outputs": [
    {
     "data": {
      "text/plain": [
       "{2,\n",
       " 3,\n",
       " 5,\n",
       " 7,\n",
       " 11,\n",
       " 13,\n",
       " 17,\n",
       " 19,\n",
       " 23,\n",
       " 29,\n",
       " 31,\n",
       " 37,\n",
       " 41,\n",
       " 43,\n",
       " 47,\n",
       " 53,\n",
       " 59,\n",
       " 61,\n",
       " 67,\n",
       " 71,\n",
       " 73,\n",
       " 79}"
      ]
     },
     "execution_count": 9,
     "metadata": {},
     "output_type": "execute_result"
    }
   ],
   "source": [
    "#163\n",
    "from sympy import primepi\n",
    "M = {prime(1), prime(2), prime(3), prime(4), prime(5), prime(6), prime(7), prime(8), prime(9), prime(10), prime(11), prime(12), prime(13), prime(14), prime(15), prime(16), prime(17), prime(18), prime(19), prime(20), prime(21), prime(22)}\n",
    "M"
   ]
  },
  {
   "cell_type": "code",
   "execution_count": 16,
   "id": "73efffea",
   "metadata": {},
   "outputs": [
    {
     "data": {
      "text/plain": [
       "463"
      ]
     },
     "execution_count": 16,
     "metadata": {},
     "output_type": "execute_result"
    }
   ],
   "source": [
    "from fractions import Fraction\n",
    "D = set()\n",
    "for num in M:\n",
    "    for den in M:\n",
    "        if Fraction(num,den) not in D:\n",
    "            D.add(Fraction(num,den))\n",
    "len(D)"
   ]
  },
  {
   "cell_type": "code",
   "execution_count": null,
   "id": "b7641ef9",
   "metadata": {},
   "outputs": [],
   "source": [
    "#164\n",
    "gcd von Primmzahlen immer 1:\n",
    "-> 23*1 = 23"
   ]
  },
  {
   "cell_type": "code",
   "execution_count": 19,
   "id": "f0b99a6e",
   "metadata": {},
   "outputs": [],
   "source": [
    "#165\n",
    "def sieve(n):\n",
    "    primes = []\n",
    "    numbers = list(range(2,n))\n",
    "    c = 2\n",
    "    while c*c < n:\n",
    "        for k in range(c,n,c):\n",
    "            if k in numbers:\n",
    "                numbers.remove(k)\n",
    "        primes.append(c)\n",
    "        c = numbers[0]\n",
    "    return primes + numbers"
   ]
  },
  {
   "cell_type": "code",
   "execution_count": 23,
   "id": "94a2e59b",
   "metadata": {},
   "outputs": [
    {
     "data": {
      "text/plain": [
       "40"
      ]
     },
     "execution_count": 23,
     "metadata": {},
     "output_type": "execute_result"
    }
   ],
   "source": [
    "M = sieve(174)\n",
    "len(M)"
   ]
  },
  {
   "cell_type": "code",
   "execution_count": 24,
   "id": "f0a6d6d4",
   "metadata": {},
   "outputs": [
    {
     "data": {
      "text/plain": [
       "820"
      ]
     },
     "execution_count": 24,
     "metadata": {},
     "output_type": "execute_result"
    }
   ],
   "source": [
    "D = set()\n",
    "for m in M:\n",
    "    for n in M:\n",
    "        D.add(m*n)\n",
    "len(D)"
   ]
  },
  {
   "cell_type": "code",
   "execution_count": 27,
   "id": "5a84359c",
   "metadata": {},
   "outputs": [
    {
     "data": {
      "text/plain": [
       "43"
      ]
     },
     "execution_count": 27,
     "metadata": {},
     "output_type": "execute_result"
    }
   ],
   "source": [
    "#169\n",
    "#keine\n",
    "A = {(n, n+1, n+2) for n in range(43)}\n",
    "len(A)"
   ]
  },
  {
   "cell_type": "code",
   "execution_count": null,
   "id": "b783079c",
   "metadata": {},
   "outputs": [],
   "source": [
    "#170\n",
    "Mächtigkeit von B = 42"
   ]
  },
  {
   "cell_type": "code",
   "execution_count": null,
   "id": "34782ffc",
   "metadata": {},
   "outputs": [],
   "source": [
    "#171\n",
    "absteigend:\n",
    "B - E - A - D - C"
   ]
  },
  {
   "cell_type": "code",
   "execution_count": null,
   "id": "a4a8c448",
   "metadata": {},
   "outputs": [],
   "source": [
    "#172\n",
    "|B geschnitten C| = 9"
   ]
  },
  {
   "cell_type": "code",
   "execution_count": null,
   "id": "fb54d5de",
   "metadata": {},
   "outputs": [],
   "source": [
    "#173\n",
    "500+500+200-225-100-100+50 = 825"
   ]
  },
  {
   "cell_type": "code",
   "execution_count": 9,
   "id": "708a846d",
   "metadata": {},
   "outputs": [
    {
     "data": {
      "text/plain": [
       "1352"
      ]
     },
     "execution_count": 9,
     "metadata": {},
     "output_type": "execute_result"
    }
   ],
   "source": [
    "#174\n",
    "letters = \"ABCDEFGH\"\n",
    "M = set()\n",
    "for a in letters:\n",
    "    for b in letters:\n",
    "        for c in letters:\n",
    "            for d in letters:\n",
    "                chain = a + b + c + d \n",
    "                if chain[0] == \"A\" or chain[1] == \"B\" or chain[2] == \"C\":\n",
    "                    M.add(chain)\n",
    "len(M)"
   ]
  },
  {
   "cell_type": "code",
   "execution_count": 8,
   "id": "e3fe19b3",
   "metadata": {},
   "outputs": [
    {
     "data": {
      "text/plain": [
       "1152"
      ]
     },
     "execution_count": 8,
     "metadata": {},
     "output_type": "execute_result"
    }
   ],
   "source": [
    "#175\n",
    "letters = \"ABCDEF\"\n",
    "M = set()\n",
    "for a in letters:\n",
    "    for b in letters:\n",
    "        for c in letters:\n",
    "            for d in letters:\n",
    "                chain = a + b + c + d\n",
    "                if chain[0] == \"A\" or chain[1] == \"B\" or chain[0] != chain[1]:\n",
    "                    M.add(chain)\n",
    "len(M)"
   ]
  },
  {
   "cell_type": "code",
   "execution_count": 7,
   "id": "e1068e16",
   "metadata": {},
   "outputs": [
    {
     "data": {
      "text/plain": [
       "1352"
      ]
     },
     "execution_count": 7,
     "metadata": {},
     "output_type": "execute_result"
    }
   ],
   "source": [
    "#176\n",
    "letters = \"ABCDEFGH\"\n",
    "M = set()\n",
    "for a in letters:\n",
    "    for b in letters:\n",
    "        for c in letters:\n",
    "            for d in letters:\n",
    "                chain = a+b+c+d\n",
    "                if chain[0] == \"A\" or chain[1] == \"B\" or chain[2] == chain[3]:\n",
    "                    M.add(chain)\n",
    "len(M)"
   ]
  },
  {
   "cell_type": "code",
   "execution_count": 10,
   "id": "34a03606",
   "metadata": {},
   "outputs": [
    {
     "data": {
      "text/plain": [
       "3704"
      ]
     },
     "execution_count": 10,
     "metadata": {},
     "output_type": "execute_result"
    }
   ],
   "source": [
    "#177\n",
    "letters = \"ABCDEFGH\"\n",
    "M = set()\n",
    "for a in letters:\n",
    "    for b in letters:\n",
    "        for c in letters:\n",
    "            for d in letters:\n",
    "                chain = a+b+c+d\n",
    "                if chain[0] == \"A\" or chain[1] == \"B\" or chain[2] != chain[3]:\n",
    "                    M.add(chain)\n",
    "len(M)"
   ]
  },
  {
   "cell_type": "code",
   "execution_count": 13,
   "id": "ef2e5d50",
   "metadata": {},
   "outputs": [
    {
     "data": {
      "text/plain": [
       "1753"
      ]
     },
     "execution_count": 13,
     "metadata": {},
     "output_type": "execute_result"
    }
   ],
   "source": [
    "#178\n",
    "letters = \"ABCDEFG\"\n",
    "M = set()\n",
    "for a in letters:\n",
    "    for b in letters:\n",
    "        for c in letters:\n",
    "            for d in letters:\n",
    "                chain = a+b+c+d\n",
    "                if chain[0] == \"A\" or chain[1] == \"B\" or chain[0] != chain[1] != chain[2] != chain[3]:\n",
    "                    M.add(chain)\n",
    "len(M)"
   ]
  },
  {
   "cell_type": "code",
   "execution_count": 14,
   "id": "047ac4c7",
   "metadata": {},
   "outputs": [
    {
     "data": {
      "text/plain": [
       "15573"
      ]
     },
     "execution_count": 14,
     "metadata": {},
     "output_type": "execute_result"
    }
   ],
   "source": [
    "#179\n",
    "sum = 0\n",
    "for k in range(3,177):\n",
    "    sum += k\n",
    "sum"
   ]
  },
  {
   "cell_type": "code",
   "execution_count": 15,
   "id": "76dcb20c",
   "metadata": {},
   "outputs": [
    {
     "data": {
      "text/plain": [
       "1023"
      ]
     },
     "execution_count": 15,
     "metadata": {},
     "output_type": "execute_result"
    }
   ],
   "source": [
    "#180\n",
    "sum = 0\n",
    "for k in range(12, 45):\n",
    "    sum += k + 3\n",
    "sum"
   ]
  },
  {
   "cell_type": "code",
   "execution_count": 19,
   "id": "65c27ff6",
   "metadata": {},
   "outputs": [
    {
     "data": {
      "text/plain": [
       "20855"
      ]
     },
     "execution_count": 19,
     "metadata": {},
     "output_type": "execute_result"
    }
   ],
   "source": [
    "#181\n",
    "sum = 0\n",
    "for k in range(30, 456, 5):\n",
    "    sum += k\n",
    "sum"
   ]
  },
  {
   "cell_type": "code",
   "execution_count": 30,
   "id": "e2c4edf8",
   "metadata": {},
   "outputs": [
    {
     "name": "stdout",
     "output_type": "stream",
     "text": [
      "45\n",
      "425546\n"
     ]
    }
   ],
   "source": [
    "#182\n",
    "sum = 0\n",
    "for k in range(110, 0, -1):\n",
    "    sum += ((k**2) + k + 1)\n",
    "    if sum == 425546:\n",
    "        break\n",
    "print(k)\n",
    "print(sum)"
   ]
  },
  {
   "cell_type": "code",
   "execution_count": 32,
   "id": "dbaa983b",
   "metadata": {},
   "outputs": [
    {
     "name": "stdout",
     "output_type": "stream",
     "text": [
      "142\n",
      "950309\n"
     ]
    }
   ],
   "source": [
    "#183\n",
    "sum = 0\n",
    "for k in range(42, 1000):\n",
    "    sum += ((k**2)+ k + 3)\n",
    "    if sum == 950309:\n",
    "        break\n",
    "print(k)\n",
    "print(sum)"
   ]
  },
  {
   "cell_type": "code",
   "execution_count": 43,
   "id": "08d89ee0",
   "metadata": {},
   "outputs": [
    {
     "name": "stdout",
     "output_type": "stream",
     "text": [
      "142\n",
      "950309*a\n"
     ]
    }
   ],
   "source": [
    "#184\n",
    "from sympy import *\n",
    "a = symbols(\"a\")\n",
    "sum = 0\n",
    "for n in range(42, 150):\n",
    "    sum += ((a*(n**2))+ (a*n) + (3*a))\n",
    "    if sum == (950309*a):\n",
    "        break\n",
    "print(n)\n",
    "print(sum)\n",
    "            "
   ]
  },
  {
   "cell_type": "code",
   "execution_count": 46,
   "id": "035a6022",
   "metadata": {},
   "outputs": [],
   "source": [
    "#185\n"
   ]
  },
  {
   "cell_type": "code",
   "execution_count": null,
   "id": "cb18f8b0",
   "metadata": {},
   "outputs": [],
   "source": [
    "#186\n",
    "a = n"
   ]
  },
  {
   "cell_type": "code",
   "execution_count": null,
   "id": "93a0f9d3",
   "metadata": {},
   "outputs": [],
   "source": [
    "#187\n",
    "hängt von c ab"
   ]
  },
  {
   "cell_type": "code",
   "execution_count": 64,
   "id": "e831d2a7",
   "metadata": {},
   "outputs": [
    {
     "name": "stdout",
     "output_type": "stream",
     "text": [
      "1\n",
      "36\n",
      "1225\n",
      "41616\n"
     ]
    },
    {
     "data": {
      "text/plain": [
       "500"
      ]
     },
     "execution_count": 64,
     "metadata": {},
     "output_type": "execute_result"
    }
   ],
   "source": [
    "#188\n",
    "sum = 0\n",
    "c = 0\n",
    "L = set()\n",
    "for n in range(1, 501):\n",
    "    sum += n\n",
    "    L.add(sum)\n",
    "    if sqrt(sum)%1 == 0:\n",
    "        c += 1\n",
    "        print(sum)\n",
    "len(L)"
   ]
  },
  {
   "cell_type": "code",
   "execution_count": 65,
   "id": "97e97910",
   "metadata": {},
   "outputs": [
    {
     "data": {
      "text/plain": [
       "3"
      ]
     },
     "execution_count": 65,
     "metadata": {},
     "output_type": "execute_result"
    }
   ],
   "source": [
    "#189\n",
    "M = set()\n",
    "for i in range(100):\n",
    "    if i**2 in L:\n",
    "        M.add(i**2)\n",
    "len(M)"
   ]
  },
  {
   "cell_type": "code",
   "execution_count": null,
   "id": "63f8f8a3",
   "metadata": {},
   "outputs": [],
   "source": [
    "#190\n",
    "----"
   ]
  },
  {
   "cell_type": "code",
   "execution_count": 2,
   "id": "2d96183c",
   "metadata": {},
   "outputs": [],
   "source": [
    "#191\n",
    "Rational(5,42)"
   ]
  },
  {
   "cell_type": "code",
   "execution_count": null,
   "id": "2bc74058",
   "metadata": {},
   "outputs": [],
   "source": [
    "#192\n",
    "Rational(3,43)"
   ]
  },
  {
   "cell_type": "code",
   "execution_count": null,
   "id": "8a9eaa84",
   "metadata": {},
   "outputs": [],
   "source": [
    "#193\n",
    "n!*a**n"
   ]
  },
  {
   "cell_type": "code",
   "execution_count": null,
   "id": "c33c8462",
   "metadata": {},
   "outputs": [],
   "source": [
    "#194\n",
    "(2*n)! * a**2n"
   ]
  },
  {
   "cell_type": "code",
   "execution_count": 15,
   "id": "a12a3a2a",
   "metadata": {},
   "outputs": [
    {
     "data": {
      "text/latex": [
       "$\\displaystyle \\left(- a\\right)^{2 n} \\left(2 n\\right)!$"
      ],
      "text/plain": [
       "(-a)**(2*n)*factorial(2*n)"
      ]
     },
     "execution_count": 15,
     "metadata": {},
     "output_type": "execute_result"
    }
   ],
   "source": [
    "#195\n",
    "from sympy import symbols, Product, factorial\n",
    "n, k, a = symbols(\"n k a\")\n",
    "Product((-k*a), (k,1,2*n)).doit()\n",
    "#-(2*n)! * a**2n"
   ]
  },
  {
   "cell_type": "code",
   "execution_count": 17,
   "id": "dc0e0342",
   "metadata": {},
   "outputs": [
    {
     "data": {
      "text/latex": [
       "$\\displaystyle 286$"
      ],
      "text/plain": [
       "286"
      ]
     },
     "execution_count": 17,
     "metadata": {},
     "output_type": "execute_result"
    }
   ],
   "source": [
    "#196\n",
    "Product((factorial(k-1)/factorial(k)),(k,3,142)).doit() * factorial(143)"
   ]
  },
  {
   "cell_type": "code",
   "execution_count": null,
   "id": "6fd03c40",
   "metadata": {},
   "outputs": [],
   "source": []
  }
 ],
 "metadata": {
  "kernelspec": {
   "display_name": "Python 3 (ipykernel)",
   "language": "python",
   "name": "python3"
  },
  "language_info": {
   "codemirror_mode": {
    "name": "ipython",
    "version": 3
   },
   "file_extension": ".py",
   "mimetype": "text/x-python",
   "name": "python",
   "nbconvert_exporter": "python",
   "pygments_lexer": "ipython3",
   "version": "3.10.6"
  }
 },
 "nbformat": 4,
 "nbformat_minor": 5
}
