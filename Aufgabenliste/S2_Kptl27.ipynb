{
 "cells": [
  {
   "cell_type": "code",
   "execution_count": 2,
   "id": "1c93c48b",
   "metadata": {},
   "outputs": [],
   "source": [
    "from sympy import *"
   ]
  },
  {
   "cell_type": "code",
   "execution_count": 3,
   "id": "4d560ca1",
   "metadata": {},
   "outputs": [
    {
     "data": {
      "text/latex": [
       "$\\displaystyle \\left\\{\\left( 23, \\  -47, \\  33\\right)\\right\\}$"
      ],
      "text/plain": [
       "{(23, -47, 33)}"
      ]
     },
     "execution_count": 3,
     "metadata": {},
     "output_type": "execute_result"
    }
   ],
   "source": [
    "#371\n",
    "x,y,z = symbols(\"x y z\")\n",
    "A = Matrix([[3,2,1,8],[1,4,5,0],[2,1,1,32]])\n",
    "linsolve(A,[x,y,z])"
   ]
  },
  {
   "cell_type": "code",
   "execution_count": 7,
   "id": "e79e2fe4",
   "metadata": {},
   "outputs": [
    {
     "data": {
      "text/latex": [
       "$\\displaystyle \\left\\{\\left( 1, \\  0, \\  1\\right)\\right\\}$"
      ],
      "text/plain": [
       "{(1, 0, 1)}"
      ]
     },
     "execution_count": 7,
     "metadata": {},
     "output_type": "execute_result"
    }
   ],
   "source": [
    "#372\n",
    "x,y,z,a = symbols(\"x y z a\")\n",
    "A = Matrix([[a,1,1,(1+a)],[1,0,1,2],[1,0,-1,0]])\n",
    "linsolve(A,[x,y,z])\n",
    "#-> a = 2"
   ]
  },
  {
   "cell_type": "code",
   "execution_count": 8,
   "id": "0a09225a",
   "metadata": {},
   "outputs": [
    {
     "data": {
      "text/latex": [
       "$\\displaystyle \\left\\{\\left( 1, \\  - a, \\  1\\right)\\right\\}$"
      ],
      "text/plain": [
       "{(1, -a, 1)}"
      ]
     },
     "execution_count": 8,
     "metadata": {},
     "output_type": "execute_result"
    }
   ],
   "source": [
    "#373\n",
    "x,y,z,a = symbols(\"x y z a\")\n",
    "A = Matrix([[a,1,1,1],[1,0,1,2],[1,0,-1,0]])\n",
    "linsolve(A,[x,y,z])"
   ]
  },
  {
   "cell_type": "code",
   "execution_count": null,
   "id": "4c1cde0f",
   "metadata": {},
   "outputs": [],
   "source": [
    "#374\n",
    "y = a = 2"
   ]
  },
  {
   "cell_type": "code",
   "execution_count": null,
   "id": "773d825b",
   "metadata": {},
   "outputs": [],
   "source": [
    "#375\n",
    "[][][X]"
   ]
  }
 ],
 "metadata": {
  "kernelspec": {
   "display_name": "Python 3 (ipykernel)",
   "language": "python",
   "name": "python3"
  },
  "language_info": {
   "codemirror_mode": {
    "name": "ipython",
    "version": 3
   },
   "file_extension": ".py",
   "mimetype": "text/x-python",
   "name": "python",
   "nbconvert_exporter": "python",
   "pygments_lexer": "ipython3",
   "version": "3.10.6"
  }
 },
 "nbformat": 4,
 "nbformat_minor": 5
}
