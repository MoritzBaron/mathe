{
 "cells": [
  {
   "cell_type": "code",
   "execution_count": null,
   "id": "16e4ab6c",
   "metadata": {},
   "outputs": [],
   "source": [
    "#297\n",
    "[X]\n",
    "[]\n",
    "[]\n",
    "[]"
   ]
  },
  {
   "cell_type": "code",
   "execution_count": null,
   "id": "89714ccf",
   "metadata": {},
   "outputs": [],
   "source": [
    "#298\n",
    "[X]\n",
    "[X]\n",
    "[X]\n",
    "[X]"
   ]
  },
  {
   "cell_type": "code",
   "execution_count": null,
   "id": "dcfb7392",
   "metadata": {},
   "outputs": [],
   "source": [
    "#299\n",
    "#der Grenzwert der funktion ist 6 / - Fraction(1,7) -> -42"
   ]
  },
  {
   "cell_type": "code",
   "execution_count": null,
   "id": "7b5db211",
   "metadata": {},
   "outputs": [],
   "source": [
    "#300\n",
    "a = 21"
   ]
  },
  {
   "cell_type": "code",
   "execution_count": null,
   "id": "0250cca5",
   "metadata": {},
   "outputs": [],
   "source": [
    "#301\n",
    "[X] -> a\n",
    "[]\n",
    "[]\n",
    "[]\n",
    "[]\n",
    "[]"
   ]
  },
  {
   "cell_type": "code",
   "execution_count": null,
   "id": "1075fb14",
   "metadata": {},
   "outputs": [],
   "source": [
    "#302\n",
    "k = 4"
   ]
  },
  {
   "cell_type": "code",
   "execution_count": 8,
   "id": "cfa87b84",
   "metadata": {},
   "outputs": [],
   "source": [
    "#303"
   ]
  },
  {
   "cell_type": "code",
   "execution_count": null,
   "id": "080e2ba0",
   "metadata": {},
   "outputs": [],
   "source": []
  },
  {
   "cell_type": "code",
   "execution_count": null,
   "id": "12c760a9",
   "metadata": {},
   "outputs": [],
   "source": []
  }
 ],
 "metadata": {
  "kernelspec": {
   "display_name": "Python 3 (ipykernel)",
   "language": "python",
   "name": "python3"
  },
  "language_info": {
   "codemirror_mode": {
    "name": "ipython",
    "version": 3
   },
   "file_extension": ".py",
   "mimetype": "text/x-python",
   "name": "python",
   "nbconvert_exporter": "python",
   "pygments_lexer": "ipython3",
   "version": "3.10.6"
  }
 },
 "nbformat": 4,
 "nbformat_minor": 5
}
