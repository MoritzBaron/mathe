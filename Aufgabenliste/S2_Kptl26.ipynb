{
 "cells": [
  {
   "cell_type": "code",
   "execution_count": 2,
   "id": "008c0c0d",
   "metadata": {},
   "outputs": [],
   "source": [
    "from sympy import *"
   ]
  },
  {
   "cell_type": "code",
   "execution_count": null,
   "id": "c78825e6",
   "metadata": {},
   "outputs": [],
   "source": [
    "#361\n",
    "A*C\n",
    "B*A\n",
    "B*B\n",
    "C*A\n",
    "C*B"
   ]
  },
  {
   "cell_type": "code",
   "execution_count": 4,
   "id": "0aa88c29",
   "metadata": {},
   "outputs": [
    {
     "data": {
      "text/latex": [
       "$\\displaystyle \\left[\\begin{matrix}a^{4} & 0 & 0\\\\a^{3} + 0.5 a^{2} + 3 \\pi a^{2} - 124.5 \\pi a + 27.25 a - 1106.875 + 5310.75 \\pi & 47243.3125 & -226372.125\\\\\\pi a^{3} - 42 \\pi a^{2} + 9 a^{2} - 373.5 a + 1791 \\pi a - 76342.5 \\pi + 15932.25 & -679116.375 & 3254181.75\\end{matrix}\\right]$"
      ],
      "text/plain": [
       "Matrix([\n",
       "[                                                                       a**4,           0,           0],\n",
       "[ a**3 + 0.5*a**2 + 3*pi*a**2 - 124.5*pi*a + 27.25*a - 1106.875 + 5310.75*pi,  47243.3125, -226372.125],\n",
       "[pi*a**3 - 42*pi*a**2 + 9*a**2 - 373.5*a + 1791*pi*a - 76342.5*pi + 15932.25, -679116.375,  3254181.75]])"
      ]
     },
     "execution_count": 4,
     "metadata": {},
     "output_type": "execute_result"
    }
   ],
   "source": [
    "#362\n",
    "a = symbols(\"a\")\n",
    "M = Matrix([[a,0,0],[1,1/2,3],[pi,9,-42]])\n",
    "M**4"
   ]
  },
  {
   "cell_type": "code",
   "execution_count": 5,
   "id": "abf809b1",
   "metadata": {},
   "outputs": [
    {
     "data": {
      "text/latex": [
       "$\\displaystyle \\left[\\begin{matrix}16 & 0 & 0\\\\30 & 1 & 0\\\\0 & 0 & 1\\end{matrix}\\right]$"
      ],
      "text/plain": [
       "Matrix([\n",
       "[16, 0, 0],\n",
       "[30, 1, 0],\n",
       "[ 0, 0, 1]])"
      ]
     },
     "execution_count": 5,
     "metadata": {},
     "output_type": "execute_result"
    }
   ],
   "source": [
    "#363\n",
    "M = Matrix([[2,0,0],[2,1,0],[0,0,1]])\n",
    "M**4\n",
    "#-> 2**(n+1) - 2"
   ]
  },
  {
   "cell_type": "code",
   "execution_count": null,
   "id": "a580beb5",
   "metadata": {},
   "outputs": [],
   "source": [
    "#364\n",
    "#gespiegelte Werte an diagonale müssen gleich sein\n",
    "[1][7][2]"
   ]
  },
  {
   "cell_type": "code",
   "execution_count": null,
   "id": "f7fcbea5",
   "metadata": {},
   "outputs": [],
   "source": [
    "#365\n",
    "d = a - 2*b\n",
    "b = 2*a\n",
    "a = 2\n",
    "#-> d = -6"
   ]
  },
  {
   "cell_type": "code",
   "execution_count": null,
   "id": "0c356655",
   "metadata": {},
   "outputs": [],
   "source": [
    "#366\n",
    "#367\n",
    "#368\n",
    "#369"
   ]
  },
  {
   "cell_type": "code",
   "execution_count": null,
   "id": "49c423a5",
   "metadata": {},
   "outputs": [],
   "source": [
    "#370\n",
    "[]\n",
    "[X]\n",
    "[X]\n",
    "[X]\n",
    "[]"
   ]
  }
 ],
 "metadata": {
  "kernelspec": {
   "display_name": "Python 3 (ipykernel)",
   "language": "python",
   "name": "python3"
  },
  "language_info": {
   "codemirror_mode": {
    "name": "ipython",
    "version": 3
   },
   "file_extension": ".py",
   "mimetype": "text/x-python",
   "name": "python",
   "nbconvert_exporter": "python",
   "pygments_lexer": "ipython3",
   "version": "3.10.6"
  }
 },
 "nbformat": 4,
 "nbformat_minor": 5
}
