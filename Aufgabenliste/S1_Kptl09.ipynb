{
 "cells": [
  {
   "cell_type": "code",
   "execution_count": null,
   "id": "12d90b91",
   "metadata": {},
   "outputs": [],
   "source": [
    "#107\n",
    "[X]\n",
    "[]\n",
    "[]\n",
    "[]\n"
   ]
  },
  {
   "cell_type": "code",
   "execution_count": null,
   "id": "11223fe9",
   "metadata": {},
   "outputs": [],
   "source": [
    "#108\n",
    "[X]\n",
    "[]\n",
    "[X]\n",
    "[]"
   ]
  },
  {
   "cell_type": "code",
   "execution_count": null,
   "id": "d9803068",
   "metadata": {},
   "outputs": [],
   "source": [
    "#109\n"
   ]
  },
  {
   "cell_type": "code",
   "execution_count": 1,
   "id": "fe2d35b4",
   "metadata": {},
   "outputs": [
    {
     "data": {
      "text/plain": [
       "(4200420042, -1298839223, 1)"
      ]
     },
     "execution_count": 1,
     "metadata": {},
     "output_type": "execute_result"
    }
   ],
   "source": [
    "#110\n",
    "from sympy import gcdex\n",
    "gcdex(853662459626,2760727302517)\n"
   ]
  },
  {
   "cell_type": "code",
   "execution_count": 3,
   "id": "261169bb",
   "metadata": {},
   "outputs": [
    {
     "data": {
      "text/plain": [
       "1"
      ]
     },
     "execution_count": 3,
     "metadata": {},
     "output_type": "execute_result"
    }
   ],
   "source": [
    "#zu 110\n",
    "(853662459626*4200420042)%2760727302517"
   ]
  },
  {
   "cell_type": "code",
   "execution_count": 21,
   "id": "8baaf3e0",
   "metadata": {},
   "outputs": [
    {
     "data": {
      "text/plain": [
       "18"
      ]
     },
     "execution_count": 21,
     "metadata": {},
     "output_type": "execute_result"
    }
   ],
   "source": [
    "#111\n",
    "p= 3\n",
    "c = 0\n",
    "for n in range(p**p):\n",
    "    c += pow(n, p-1, p)\n",
    "c\n",
    "\n",
    "#der kleine satz von Fermat sagt dass bei p = prim (n**p-1)%p immer 1 ist. in diesem Fall würde also p**p mal, \n",
    "#die eins zu c addiert was bedeutet dass c den wert p**p hat."
   ]
  },
  {
   "cell_type": "code",
   "execution_count": 13,
   "id": "d81e4dd0",
   "metadata": {},
   "outputs": [
    {
     "data": {
      "text/plain": [
       "8"
      ]
     },
     "execution_count": 13,
     "metadata": {},
     "output_type": "execute_result"
    }
   ],
   "source": [
    "pow(2,3)"
   ]
  },
  {
   "cell_type": "code",
   "execution_count": 14,
   "id": "f1439c8a",
   "metadata": {},
   "outputs": [
    {
     "data": {
      "text/plain": [
       "3"
      ]
     },
     "execution_count": 14,
     "metadata": {},
     "output_type": "execute_result"
    }
   ],
   "source": [
    "pow(2,3,5)"
   ]
  },
  {
   "cell_type": "code",
   "execution_count": null,
   "id": "7d83ec4e",
   "metadata": {},
   "outputs": [],
   "source": []
  }
 ],
 "metadata": {
  "kernelspec": {
   "display_name": "Python 3 (ipykernel)",
   "language": "python",
   "name": "python3"
  },
  "language_info": {
   "codemirror_mode": {
    "name": "ipython",
    "version": 3
   },
   "file_extension": ".py",
   "mimetype": "text/x-python",
   "name": "python",
   "nbconvert_exporter": "python",
   "pygments_lexer": "ipython3",
   "version": "3.10.6"
  }
 },
 "nbformat": 4,
 "nbformat_minor": 5
}
