{
 "cells": [
  {
   "cell_type": "code",
   "execution_count": 23,
   "id": "ac45173c",
   "metadata": {},
   "outputs": [
    {
     "data": {
      "text/latex": [
       "$\\displaystyle \\frac{n \\left(\\frac{n^{2}}{2} + \\frac{n}{2}\\right)}{n + 1}$"
      ],
      "text/plain": [
       "n*(n**2/2 + n/2)/(n + 1)"
      ]
     },
     "execution_count": 23,
     "metadata": {},
     "output_type": "execute_result"
    }
   ],
   "source": [
    "#286\n",
    "from sympy import *\n",
    "n, k = symbols(\"n k\")\n",
    "Sum(((n*k)/(n + 1)), (k,1,n)).doit()"
   ]
  },
  {
   "cell_type": "code",
   "execution_count": 25,
   "id": "07bd1529",
   "metadata": {},
   "outputs": [
    {
     "data": {
      "text/plain": [
       "[0, 42]"
      ]
     },
     "execution_count": 25,
     "metadata": {},
     "output_type": "execute_result"
    }
   ],
   "source": [
    "solve(((n*((n**2/2)+(n/2)))/(n+1))- (21*n))"
   ]
  },
  {
   "cell_type": "code",
   "execution_count": 27,
   "id": "d87340e3",
   "metadata": {},
   "outputs": [
    {
     "data": {
      "text/latex": [
       "$\\displaystyle - 21 n + \\frac{n \\left(\\frac{n^{2}}{2} + \\frac{n}{2}\\right)}{n + 1}$"
      ],
      "text/plain": [
       "-21*n + n*(n**2/2 + n/2)/(n + 1)"
      ]
     },
     "execution_count": 27,
     "metadata": {},
     "output_type": "execute_result"
    }
   ],
   "source": [
    "(n*((n**2/2)+(n/2)))/(n+1)- (21*n)"
   ]
  },
  {
   "cell_type": "code",
   "execution_count": 29,
   "id": "f828d6ef",
   "metadata": {},
   "outputs": [
    {
     "data": {
      "text/plain": [
       "[0, 42]"
      ]
     },
     "execution_count": 29,
     "metadata": {},
     "output_type": "execute_result"
    }
   ],
   "source": [
    "solve(Sum(((n*k)/(n + 1)), (k,1,n)).doit()- (21*n))"
   ]
  },
  {
   "cell_type": "code",
   "execution_count": 11,
   "id": "1be7f3aa",
   "metadata": {},
   "outputs": [
    {
     "data": {
      "text/latex": [
       "$\\displaystyle 2.23606797749978969640917366873128$"
      ],
      "text/plain": [
       "2.23606797749978969640917366873128"
      ]
     },
     "execution_count": 11,
     "metadata": {},
     "output_type": "execute_result"
    }
   ],
   "source": [
    "#287\n",
    "sqrt(5).evalf(33)"
   ]
  },
  {
   "cell_type": "code",
   "execution_count": 13,
   "id": "48829508",
   "metadata": {},
   "outputs": [
    {
     "data": {
      "text/latex": [
       "$\\displaystyle 2.236067977499789696409173668731$"
      ],
      "text/plain": [
       "2.236067977499789696409173668731"
      ]
     },
     "execution_count": 13,
     "metadata": {},
     "output_type": "execute_result"
    }
   ],
   "source": [
    "sqrt(5).evalf(31)"
   ]
  },
  {
   "cell_type": "code",
   "execution_count": 14,
   "id": "e7f63c2a",
   "metadata": {},
   "outputs": [
    {
     "data": {
      "text/latex": [
       "$\\displaystyle 1.471979528 \\cdot 10^{11}$"
      ],
      "text/plain": [
       "1.471979528e+11"
      ]
     },
     "execution_count": 14,
     "metadata": {},
     "output_type": "execute_result"
    }
   ],
   "source": [
    "#288\n",
    "E**(pi*sqrt(67)).evalf(10)"
   ]
  },
  {
   "cell_type": "code",
   "execution_count": 15,
   "id": "19697655",
   "metadata": {},
   "outputs": [
    {
     "data": {
      "text/latex": [
       "$\\displaystyle e^{\\sqrt{67} \\pi}$"
      ],
      "text/plain": [
       "exp(sqrt(67)*pi)"
      ]
     },
     "execution_count": 15,
     "metadata": {},
     "output_type": "execute_result"
    }
   ],
   "source": [
    "E**(pi*sqrt(67))"
   ]
  },
  {
   "cell_type": "code",
   "execution_count": 16,
   "id": "7309896d",
   "metadata": {},
   "outputs": [
    {
     "data": {
      "text/latex": [
       "$\\displaystyle 0.77459666924148337704$"
      ],
      "text/plain": [
       "0.77459666924148337704"
      ]
     },
     "execution_count": 16,
     "metadata": {},
     "output_type": "execute_result"
    }
   ],
   "source": [
    "#289\n",
    "sqrt(Rational(3,5)).evalf(20)"
   ]
  },
  {
   "cell_type": "code",
   "execution_count": 18,
   "id": "4ec83730",
   "metadata": {},
   "outputs": [
    {
     "data": {
      "text/latex": [
       "$\\displaystyle 2.625374127 \\cdot 10^{17}$"
      ],
      "text/plain": [
       "2.625374127e+17"
      ]
     },
     "execution_count": 18,
     "metadata": {},
     "output_type": "execute_result"
    }
   ],
   "source": [
    "#290\n",
    "E**(pi*sqrt(163)).evalf(10)"
   ]
  },
  {
   "cell_type": "code",
   "execution_count": 21,
   "id": "f162fc5f",
   "metadata": {},
   "outputs": [
    {
     "data": {
      "text/latex": [
       "$\\displaystyle 5.825952238457324527$"
      ],
      "text/plain": [
       "5.8259522384573245270"
      ]
     },
     "execution_count": 21,
     "metadata": {},
     "output_type": "execute_result"
    }
   ],
   "source": [
    "#291\n",
    "k = symbols(\"k\")\n",
    "Sum((1/k), (k,30,10000)).doit().evalf(20)"
   ]
  },
  {
   "cell_type": "code",
   "execution_count": null,
   "id": "424d5e41",
   "metadata": {},
   "outputs": [],
   "source": [
    "#292\n"
   ]
  },
  {
   "cell_type": "code",
   "execution_count": 30,
   "id": "df94794c",
   "metadata": {},
   "outputs": [],
   "source": [
    "#293"
   ]
  },
  {
   "cell_type": "code",
   "execution_count": 33,
   "id": "065f3d17",
   "metadata": {},
   "outputs": [
    {
     "data": {
      "text/latex": [
       "$\\displaystyle - 2 n^{3} + 3 n^{2} + 4$"
      ],
      "text/plain": [
       "-2*n**3 + 3*n**2 + 4"
      ]
     },
     "execution_count": 33,
     "metadata": {},
     "output_type": "execute_result"
    }
   ],
   "source": [
    "#294\n",
    "((n**4)+4*(n**2)+(4))-Sum((4*(k**3)),(k,1,n)).doit()"
   ]
  },
  {
   "cell_type": "code",
   "execution_count": 3,
   "id": "87a4a221",
   "metadata": {},
   "outputs": [
    {
     "data": {
      "text/plain": [
       "(-0.99999999999999999900,\n",
       " -0.99999999999999999000,\n",
       " -0.99999999999999999718,\n",
       " -0.99999999924368013310)"
      ]
     },
     "execution_count": 3,
     "metadata": {},
     "output_type": "execute_result"
    }
   ],
   "source": [
    "#295\n",
    "from sympy import *\n",
    "a = sympify(\"-1 + 10**(-18)\").evalf(20)\n",
    "b = sympify(\"-1 + 10**(-17)\").evalf(20)\n",
    "c = sympify(\"cos(pi* (cos(log(pi+20))))\").evalf(20)\n",
    "d = sympify(\"cos(log(pi+20))\").evalf(20)\n",
    "a, b, c, d #a"
   ]
  },
  {
   "cell_type": "code",
   "execution_count": 48,
   "id": "c78a33df",
   "metadata": {},
   "outputs": [
    {
     "data": {
      "text/plain": [
       "(-0.99999999924368013310,\n",
       " -0.99999999999999999718,\n",
       " 0.55578918129810040401,\n",
       " -0.99999998135449299000)"
      ]
     },
     "execution_count": 48,
     "metadata": {},
     "output_type": "execute_result"
    }
   ],
   "source": [
    "#296\n",
    "a = sympify(\"cos(log(pi+20))\").evalf(20)\n",
    "b = sympify(\"cos(pi*cos(log(pi+20)))\").evalf(20)\n",
    "c = sin((2017) * (2**sympify(1)/5)).evalf(20)\n",
    "d = sympify(\"-9 * 2071723 * 5363222257 * 10**(-17)\").evalf(20)\n",
    "a, b, c, d #b"
   ]
  },
  {
   "cell_type": "code",
   "execution_count": 47,
   "id": "5fab170d",
   "metadata": {},
   "outputs": [
    {
     "data": {
      "text/latex": [
       "$\\displaystyle -0.99999999999999997857$"
      ],
      "text/plain": [
       "-0.99999999999999997857"
      ]
     },
     "execution_count": 47,
     "metadata": {},
     "output_type": "execute_result"
    }
   ],
   "source": [
    "sin(2017*2**(Rational(1,5))).evalf(20)"
   ]
  },
  {
   "cell_type": "code",
   "execution_count": null,
   "id": "535c1238",
   "metadata": {},
   "outputs": [],
   "source": []
  }
 ],
 "metadata": {
  "kernelspec": {
   "display_name": "Python 3 (ipykernel)",
   "language": "python",
   "name": "python3"
  },
  "language_info": {
   "codemirror_mode": {
    "name": "ipython",
    "version": 3
   },
   "file_extension": ".py",
   "mimetype": "text/x-python",
   "name": "python",
   "nbconvert_exporter": "python",
   "pygments_lexer": "ipython3",
   "version": "3.10.6"
  }
 },
 "nbformat": 4,
 "nbformat_minor": 5
}
