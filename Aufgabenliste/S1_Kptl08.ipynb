{
 "cells": [
  {
   "cell_type": "code",
   "execution_count": 2,
   "id": "423d3f4d",
   "metadata": {},
   "outputs": [],
   "source": [
    "from sympy import factorint"
   ]
  },
  {
   "cell_type": "code",
   "execution_count": 5,
   "id": "7585989c",
   "metadata": {},
   "outputs": [
    {
     "name": "stdout",
     "output_type": "stream",
     "text": [
      "8 125\n",
      "125 8\n"
     ]
    }
   ],
   "source": [
    "#77\n",
    "for a in range(10001):\n",
    "    for b in range(1001):\n",
    "        if a*b == 1000 and a%10 != 0 and b % 10 != 0:\n",
    "            print(a,b)\n",
    "            break"
   ]
  },
  {
   "cell_type": "code",
   "execution_count": 6,
   "id": "98293953",
   "metadata": {},
   "outputs": [
    {
     "data": {
      "text/plain": [
       "{3: 2, 11: 1, 101: 1}"
      ]
     },
     "execution_count": 6,
     "metadata": {},
     "output_type": "execute_result"
    }
   ],
   "source": [
    "#78\n",
    "factorint(9999)"
   ]
  },
  {
   "cell_type": "code",
   "execution_count": 7,
   "id": "25a4f194",
   "metadata": {},
   "outputs": [
    {
     "data": {
      "text/plain": [
       "{2: 3, 3: 1, 7: 2, 59: 1}"
      ]
     },
     "execution_count": 7,
     "metadata": {},
     "output_type": "execute_result"
    }
   ],
   "source": [
    "#79\n",
    "factorint(69384)"
   ]
  },
  {
   "cell_type": "code",
   "execution_count": 3,
   "id": "5c53b31e",
   "metadata": {},
   "outputs": [
    {
     "data": {
      "text/plain": [
       "{2: 3, 3: 1, 7: 2, 59: 1}"
      ]
     },
     "execution_count": 3,
     "metadata": {},
     "output_type": "execute_result"
    }
   ],
   "source": [
    "#80\n",
    "factorint(69384)\n",
    "4 verschiedene Primteiler"
   ]
  },
  {
   "cell_type": "code",
   "execution_count": 8,
   "id": "da7bfcaf",
   "metadata": {},
   "outputs": [
    {
     "name": "stdout",
     "output_type": "stream",
     "text": [
      "4200\n",
      "4410\n"
     ]
    }
   ],
   "source": [
    "#81\n",
    "from sympy import primefactors\n",
    "a = [2, 3, 5, 7]\n",
    "for x in range(4000,5000):\n",
    "    if primefactors(x) == a:\n",
    "        print(x)"
   ]
  },
  {
   "cell_type": "code",
   "execution_count": 9,
   "id": "48fdda20",
   "metadata": {},
   "outputs": [
    {
     "data": {
      "text/plain": [
       "181"
      ]
     },
     "execution_count": 9,
     "metadata": {},
     "output_type": "execute_result"
    }
   ],
   "source": [
    "#82\n",
    "from sympy import prime\n",
    "prime(42)"
   ]
  },
  {
   "cell_type": "code",
   "execution_count": 11,
   "id": "8cb75ed9",
   "metadata": {},
   "outputs": [
    {
     "data": {
      "text/latex": [
       "$\\displaystyle 6$"
      ],
      "text/plain": [
       "6"
      ]
     },
     "execution_count": 11,
     "metadata": {},
     "output_type": "execute_result"
    }
   ],
   "source": [
    "#83\n",
    "from sympy import gcd\n",
    "p1 = 2\n",
    "p2 = 3\n",
    "p3 = 5\n",
    "gcd(p1**2*p2*p3**3, p1*p2**3)\n",
    "#Lösung: p1*p2"
   ]
  },
  {
   "cell_type": "code",
   "execution_count": 14,
   "id": "24b727b6",
   "metadata": {},
   "outputs": [
    {
     "data": {
      "text/plain": [
       "8"
      ]
     },
     "execution_count": 14,
     "metadata": {},
     "output_type": "execute_result"
    }
   ],
   "source": [
    "#84\n",
    "from sympy import divisors\n",
    "len(set(divisors(5**7)))"
   ]
  },
  {
   "cell_type": "code",
   "execution_count": 15,
   "id": "dffbfadc",
   "metadata": {},
   "outputs": [
    {
     "data": {
      "text/plain": [
       "6"
      ]
     },
     "execution_count": 15,
     "metadata": {},
     "output_type": "execute_result"
    }
   ],
   "source": [
    "#85\n",
    "p1 = 3\n",
    "p2 = 5\n",
    "len(set(divisors(p1**2*p2)))"
   ]
  },
  {
   "cell_type": "code",
   "execution_count": 20,
   "id": "24f1bd7d",
   "metadata": {},
   "outputs": [
    {
     "name": "stdout",
     "output_type": "stream",
     "text": [
      "500 40\n"
     ]
    },
    {
     "data": {
      "text/plain": [
       "False"
      ]
     },
     "execution_count": 20,
     "metadata": {},
     "output_type": "execute_result"
    }
   ],
   "source": [
    "#86\n",
    "p1 = 2\n",
    "p2 = 5\n",
    "a = p1**2*p2**3\n",
    "b = p1**3*p2\n",
    "print (a,b)\n",
    "a%b==0\n",
    "[X][X][X][]\n"
   ]
  },
  {
   "cell_type": "code",
   "execution_count": null,
   "id": "9d501453",
   "metadata": {},
   "outputs": [],
   "source": [
    "#87\n",
    "[][][X][X]"
   ]
  },
  {
   "cell_type": "code",
   "execution_count": 24,
   "id": "cd41dd7a",
   "metadata": {},
   "outputs": [
    {
     "data": {
      "text/latex": [
       "$\\displaystyle 9$"
      ],
      "text/plain": [
       "9"
      ]
     },
     "execution_count": 24,
     "metadata": {},
     "output_type": "execute_result"
    }
   ],
   "source": [
    "from sympy import primepi\n",
    "primepi(23) "
   ]
  },
  {
   "cell_type": "code",
   "execution_count": 26,
   "id": "c832ff42",
   "metadata": {},
   "outputs": [
    {
     "data": {
      "text/plain": [
       "0.05428681023790647"
      ]
     },
     "execution_count": 26,
     "metadata": {},
     "output_type": "execute_result"
    }
   ],
   "source": [
    "from math import log\n",
    "(10**8/log(10**8))/10**8"
   ]
  },
  {
   "cell_type": "code",
   "execution_count": 29,
   "id": "4c05aebe",
   "metadata": {},
   "outputs": [
    {
     "data": {
      "text/plain": [
       "0.05428681023790647"
      ]
     },
     "execution_count": 29,
     "metadata": {},
     "output_type": "execute_result"
    }
   ],
   "source": [
    "1/log(10**8)"
   ]
  },
  {
   "cell_type": "code",
   "execution_count": null,
   "id": "dee2dfe7",
   "metadata": {},
   "outputs": [],
   "source": [
    "#88\n",
    "primepi(10**8)/ 10**8 = 1/log(10**8)"
   ]
  },
  {
   "cell_type": "code",
   "execution_count": 30,
   "id": "692a1ae0",
   "metadata": {},
   "outputs": [
    {
     "data": {
      "text/plain": [
       "3102103442166.0845"
      ]
     },
     "execution_count": 30,
     "metadata": {},
     "output_type": "execute_result"
    }
   ],
   "source": [
    "#89\n",
    "10**14/log(10**14)"
   ]
  },
  {
   "cell_type": "code",
   "execution_count": 31,
   "id": "ba99e2b0",
   "metadata": {},
   "outputs": [
    {
     "data": {
      "text/latex": [
       "$\\displaystyle 22344479$"
      ],
      "text/plain": [
       "22344479"
      ]
     },
     "execution_count": 31,
     "metadata": {},
     "output_type": "execute_result"
    }
   ],
   "source": [
    "#90\n",
    "primepi(420000000)"
   ]
  },
  {
   "cell_type": "code",
   "execution_count": 34,
   "id": "2c30c5e7",
   "metadata": {},
   "outputs": [
    {
     "data": {
      "text/latex": [
       "$\\displaystyle 94.6656513814248$"
      ],
      "text/plain": [
       "94.6656513814248"
      ]
     },
     "execution_count": 34,
     "metadata": {},
     "output_type": "execute_result"
    }
   ],
   "source": [
    "((420000000/log(420000000))/primepi(420000000))*100\n",
    "#Lösung: ca 5,3%"
   ]
  },
  {
   "cell_type": "code",
   "execution_count": 36,
   "id": "41060fa6",
   "metadata": {},
   "outputs": [
    {
     "data": {
      "text/plain": [
       "3223619130191664.0"
      ]
     },
     "execution_count": 36,
     "metadata": {},
     "output_type": "execute_result"
    }
   ],
   "source": [
    "#91\n",
    "n = 10**14\n",
    "n*log(n)"
   ]
  },
  {
   "cell_type": "code",
   "execution_count": 50,
   "id": "15f87b37",
   "metadata": {},
   "outputs": [
    {
     "data": {
      "text/plain": [
       "2.187763121679772e+30"
      ]
     },
     "execution_count": 50,
     "metadata": {},
     "output_type": "execute_result"
    }
   ],
   "source": [
    "#92\n",
    "n= (2**107)-1\n",
    "n/log(n)"
   ]
  },
  {
   "cell_type": "code",
   "execution_count": 51,
   "id": "46406c0c",
   "metadata": {},
   "outputs": [],
   "source": [
    "#93\n"
   ]
  },
  {
   "cell_type": "code",
   "execution_count": 54,
   "id": "739fa07d",
   "metadata": {},
   "outputs": [
    {
     "data": {
      "text/plain": [
       "1.8509217204924305e+19"
      ]
     },
     "execution_count": 54,
     "metadata": {},
     "output_type": "execute_result"
    }
   ],
   "source": [
    "#95\n",
    "(10**21 / log(10**21)) - (10**20 / log(10**20))"
   ]
  },
  {
   "cell_type": "code",
   "execution_count": 62,
   "id": "c918e4eb",
   "metadata": {},
   "outputs": [
    {
     "data": {
      "text/plain": [
       "2.171472409516259e+18"
      ]
     },
     "execution_count": 62,
     "metadata": {},
     "output_type": "execute_result"
    }
   ],
   "source": [
    "#96\n",
    "a = 10**20/log(10**20)\n",
    "a"
   ]
  },
  {
   "cell_type": "code",
   "execution_count": 65,
   "id": "d2733682",
   "metadata": {},
   "outputs": [],
   "source": [
    "#prime(10**20)/log(prime(10**20)) - a"
   ]
  },
  {
   "cell_type": "code",
   "execution_count": 81,
   "id": "81228066",
   "metadata": {},
   "outputs": [
    {
     "data": {
      "text/plain": [
       "0.024127471216847322"
      ]
     },
     "execution_count": 81,
     "metadata": {},
     "output_type": "execute_result"
    }
   ],
   "source": [
    "#97\n",
    "from sympy import isprime\n",
    "n = 10**5\n",
    "c = 0\n",
    "for i in range(n):\n",
    "    if isprime(i):\n",
    "        c += 1\n",
    "c/n\n",
    "\n",
    "(10**18/log(10**18))/10**18"
   ]
  },
  {
   "cell_type": "code",
   "execution_count": 82,
   "id": "17d57146",
   "metadata": {},
   "outputs": [
    {
     "data": {
      "text/plain": [
       "4.144653167389282e+19"
      ]
     },
     "execution_count": 82,
     "metadata": {},
     "output_type": "execute_result"
    }
   ],
   "source": [
    "#98\n",
    "(10**18)*log(10**18)"
   ]
  },
  {
   "cell_type": "code",
   "execution_count": 83,
   "id": "933351a0",
   "metadata": {},
   "outputs": [
    {
     "data": {
      "text/plain": [
       "1.2978915551131663e+28"
      ]
     },
     "execution_count": 83,
     "metadata": {},
     "output_type": "execute_result"
    }
   ],
   "source": [
    "#99\n",
    "((10**30)-1)/log((10**30)-1) - ((10**29)/log(10**29))"
   ]
  },
  {
   "cell_type": "code",
   "execution_count": 88,
   "id": "ee5f68ee",
   "metadata": {},
   "outputs": [
    {
     "data": {
      "text/plain": [
       "2.4127471216847324e+16"
      ]
     },
     "execution_count": 88,
     "metadata": {},
     "output_type": "execute_result"
    }
   ],
   "source": [
    "#100\n",
    "(10**18)/ log(10**18)"
   ]
  },
  {
   "cell_type": "code",
   "execution_count": null,
   "id": "0b8b5f62",
   "metadata": {},
   "outputs": [],
   "source": []
  },
  {
   "cell_type": "code",
   "execution_count": null,
   "id": "f98b8333",
   "metadata": {},
   "outputs": [],
   "source": []
  }
 ],
 "metadata": {
  "kernelspec": {
   "display_name": "Python 3 (ipykernel)",
   "language": "python",
   "name": "python3"
  },
  "language_info": {
   "codemirror_mode": {
    "name": "ipython",
    "version": 3
   },
   "file_extension": ".py",
   "mimetype": "text/x-python",
   "name": "python",
   "nbconvert_exporter": "python",
   "pygments_lexer": "ipython3",
   "version": "3.10.6"
  }
 },
 "nbformat": 4,
 "nbformat_minor": 5
}
