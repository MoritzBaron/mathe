{
 "cells": [
  {
   "cell_type": "code",
   "execution_count": 1,
   "id": "eca212b6",
   "metadata": {},
   "outputs": [],
   "source": [
    "#145\n",
    "from fractions import Fraction\n",
    "from math import pi\n",
    "div = 10\n",
    "\n",
    "for num in range(1,100):\n",
    "    for den in range(1,51):\n",
    "        div = abs(Fraction(num,den) - pi)\n",
    "        if(Fraction(num,den)< div):\n",
    "            "
   ]
  },
  {
   "cell_type": "code",
   "execution_count": null,
   "id": "6a956e74",
   "metadata": {},
   "outputs": [],
   "source": [
    "#146\n",
    "[][][X][][X]"
   ]
  },
  {
   "cell_type": "code",
   "execution_count": null,
   "id": "68f30fe8",
   "metadata": {},
   "outputs": [],
   "source": [
    "#147\n",
    "[X][X][][][]"
   ]
  },
  {
   "cell_type": "code",
   "execution_count": null,
   "id": "054181a3",
   "metadata": {},
   "outputs": [],
   "source": [
    "#148\n",
    "A\n",
    "B\n",
    "E"
   ]
  },
  {
   "cell_type": "code",
   "execution_count": null,
   "id": "f9190130",
   "metadata": {},
   "outputs": [],
   "source": [
    "#149\n",
    "[X][X][][X][]"
   ]
  },
  {
   "cell_type": "code",
   "execution_count": null,
   "id": "572b8878",
   "metadata": {},
   "outputs": [],
   "source": [
    "#150\n",
    "[][X][][][X]"
   ]
  },
  {
   "cell_type": "code",
   "execution_count": null,
   "id": "914c9d63",
   "metadata": {},
   "outputs": [],
   "source": [
    "#151\n",
    "A - C\n",
    "B - E ??\n",
    "D - I\n",
    "J - F\n",
    "H - G"
   ]
  },
  {
   "cell_type": "code",
   "execution_count": null,
   "id": "febbae4a",
   "metadata": {},
   "outputs": [],
   "source": [
    "#152\n",
    "A - C\n",
    "D - G\n",
    "F - J\n",
    "H - I\n",
    "B - E\n"
   ]
  },
  {
   "cell_type": "code",
   "execution_count": null,
   "id": "eb0bb3cf",
   "metadata": {},
   "outputs": [],
   "source": [
    "#153\n",
    "A - G\n",
    "B - J\n",
    "C - F\n",
    "D - H\n",
    "E - J"
   ]
  },
  {
   "cell_type": "code",
   "execution_count": null,
   "id": "5d0cc03f",
   "metadata": {},
   "outputs": [],
   "source": [
    "#154\n",
    "A - G\n",
    "B - D\n",
    "C - F\n",
    "E - J\n",
    "H - I"
   ]
  },
  {
   "cell_type": "code",
   "execution_count": null,
   "id": "c0a8e406",
   "metadata": {},
   "outputs": [],
   "source": [
    "#155\n",
    "[X]\n",
    "[]\n",
    "[]\n",
    "[X]\n"
   ]
  },
  {
   "cell_type": "code",
   "execution_count": null,
   "id": "d68fccc6",
   "metadata": {},
   "outputs": [],
   "source": [
    "#156\n",
    "7"
   ]
  },
  {
   "cell_type": "code",
   "execution_count": null,
   "id": "05243d94",
   "metadata": {},
   "outputs": [],
   "source": [
    "#157\n",
    "[X][X][]\n",
    "[][][]"
   ]
  },
  {
   "cell_type": "code",
   "execution_count": null,
   "id": "39949077",
   "metadata": {},
   "outputs": [],
   "source": [
    "#158\n",
    "[]\n",
    "[X]\n",
    "[]\n",
    "[]\n",
    "[X]\n",
    "[]\n",
    "[X]"
   ]
  },
  {
   "cell_type": "code",
   "execution_count": null,
   "id": "18033602",
   "metadata": {},
   "outputs": [],
   "source": [
    "#159\n",
    "[]\n",
    "[]\n",
    "[]\n",
    "[]\n",
    "[]\n",
    "[]"
   ]
  }
 ],
 "metadata": {
  "kernelspec": {
   "display_name": "Python 3 (ipykernel)",
   "language": "python",
   "name": "python3"
  },
  "language_info": {
   "codemirror_mode": {
    "name": "ipython",
    "version": 3
   },
   "file_extension": ".py",
   "mimetype": "text/x-python",
   "name": "python",
   "nbconvert_exporter": "python",
   "pygments_lexer": "ipython3",
   "version": "3.10.6"
  }
 },
 "nbformat": 4,
 "nbformat_minor": 5
}
