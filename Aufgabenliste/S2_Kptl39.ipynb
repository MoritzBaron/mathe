{
 "cells": [
  {
   "cell_type": "code",
   "execution_count": null,
   "id": "1460f688",
   "metadata": {},
   "outputs": [],
   "source": [
    "#312\n",
    "[]\n",
    "[X]\n",
    "[]\n",
    "[X]\n",
    "[X]"
   ]
  },
  {
   "cell_type": "code",
   "execution_count": null,
   "id": "10d9c6e4",
   "metadata": {},
   "outputs": [],
   "source": [
    "#313\n",
    "[X]\n",
    "[]\n",
    "[X]\n",
    "[X]\n",
    "[X]"
   ]
  },
  {
   "cell_type": "code",
   "execution_count": null,
   "id": "697aa01a",
   "metadata": {},
   "outputs": [],
   "source": [
    "#314\n",
    "[X]\n",
    "[]\n",
    "[X]\n",
    "[]\n",
    "[X]"
   ]
  },
  {
   "cell_type": "code",
   "execution_count": null,
   "id": "6b3c70dd",
   "metadata": {},
   "outputs": [],
   "source": [
    "#315\n",
    "[]\n",
    "[]\n",
    "[X]\n",
    "[]\n",
    "[X]"
   ]
  },
  {
   "cell_type": "code",
   "execution_count": null,
   "id": "44d92331",
   "metadata": {},
   "outputs": [],
   "source": [
    "#316\n",
    "[]\n",
    "[]\n",
    "[X]\n",
    "[X]\n",
    "[X]"
   ]
  },
  {
   "cell_type": "code",
   "execution_count": null,
   "id": "82910b7b",
   "metadata": {},
   "outputs": [],
   "source": [
    "#317\n",
    "[]\n",
    "[X]\n",
    "[X]\n",
    "[]\n",
    "[X]"
   ]
  },
  {
   "cell_type": "code",
   "execution_count": null,
   "id": "c5bc3298",
   "metadata": {},
   "outputs": [],
   "source": [
    "#318\n",
    "[]\n",
    "[]\n",
    "[X]\n",
    "[]\n",
    "[]"
   ]
  },
  {
   "cell_type": "code",
   "execution_count": 5,
   "id": "d556cd72",
   "metadata": {},
   "outputs": [
    {
     "data": {
      "text/latex": [
       "$\\displaystyle 2^{2 n + 42}$"
      ],
      "text/plain": [
       "2**(2*n + 42)"
      ]
     },
     "execution_count": 5,
     "metadata": {},
     "output_type": "execute_result"
    }
   ],
   "source": [
    "#319\n",
    "from sympy import *\n",
    "n = symbols(\"n\")\n",
    "2**(2*n + 42) = 4**n\n",
    "2**3*n = 8**n\n",
    "3**2*n = 9**n\n",
    "#a = 8"
   ]
  },
  {
   "cell_type": "code",
   "execution_count": null,
   "id": "b9efaf57",
   "metadata": {},
   "outputs": [],
   "source": []
  }
 ],
 "metadata": {
  "kernelspec": {
   "display_name": "Python 3 (ipykernel)",
   "language": "python",
   "name": "python3"
  },
  "language_info": {
   "codemirror_mode": {
    "name": "ipython",
    "version": 3
   },
   "file_extension": ".py",
   "mimetype": "text/x-python",
   "name": "python",
   "nbconvert_exporter": "python",
   "pygments_lexer": "ipython3",
   "version": "3.10.6"
  }
 },
 "nbformat": 4,
 "nbformat_minor": 5
}
