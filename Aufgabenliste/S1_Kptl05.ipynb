{
 "cells": [
  {
   "cell_type": "code",
   "execution_count": 6,
   "id": "81bfced9",
   "metadata": {},
   "outputs": [],
   "source": [
    "from sympy import gcd\n",
    "from sympy import gcdex"
   ]
  },
  {
   "cell_type": "code",
   "execution_count": 5,
   "id": "c34ed97f",
   "metadata": {},
   "outputs": [
    {
     "data": {
      "text/latex": [
       "$\\displaystyle 43$"
      ],
      "text/plain": [
       "43"
      ]
     },
     "execution_count": 5,
     "metadata": {},
     "output_type": "execute_result"
    }
   ],
   "source": [
    "#56\n",
    "gcd(gcd(471694074821,471766128373), 471757130107)"
   ]
  },
  {
   "cell_type": "code",
   "execution_count": 7,
   "id": "8e8def0f",
   "metadata": {},
   "outputs": [
    {
     "data": {
      "text/plain": [
       "(-3, 5, 1)"
      ]
     },
     "execution_count": 7,
     "metadata": {},
     "output_type": "execute_result"
    }
   ],
   "source": [
    "#57\n",
    "#auf papier nur eine MÖGLICHE linearkomb.\n",
    "gcdex(18,11)"
   ]
  },
  {
   "cell_type": "code",
   "execution_count": null,
   "id": "19d045e3",
   "metadata": {},
   "outputs": [],
   "source": []
  }
 ],
 "metadata": {
  "kernelspec": {
   "display_name": "Python 3 (ipykernel)",
   "language": "python",
   "name": "python3"
  },
  "language_info": {
   "codemirror_mode": {
    "name": "ipython",
    "version": 3
   },
   "file_extension": ".py",
   "mimetype": "text/x-python",
   "name": "python",
   "nbconvert_exporter": "python",
   "pygments_lexer": "ipython3",
   "version": "3.10.6"
  }
 },
 "nbformat": 4,
 "nbformat_minor": 5
}
