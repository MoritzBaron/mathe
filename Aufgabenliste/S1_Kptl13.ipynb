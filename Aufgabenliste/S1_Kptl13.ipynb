{
 "cells": [
  {
   "cell_type": "code",
   "execution_count": 2,
   "id": "b2ac2259",
   "metadata": {},
   "outputs": [],
   "source": [
    "#115\n",
    "from fractions import Fraction\n",
    "0b0.1011 = Fraction(0b1011, 0b10000) = Fraction(22,32) = Fraction(11, 16)"
   ]
  },
  {
   "cell_type": "code",
   "execution_count": null,
   "id": "adbded10",
   "metadata": {},
   "outputs": [],
   "source": [
    "#116\n",
    "#perioden in binär ist das gleiche prinzip wie in dezimal, nur dass 9en zu 1en werden\n",
    "0b0.001010101.. = 1/10 *(1/11)= Fraction(1,6)"
   ]
  },
  {
   "cell_type": "code",
   "execution_count": null,
   "id": "8cac62d0",
   "metadata": {},
   "outputs": [],
   "source": [
    "#117\n",
    "#es lassen sich nur Brüche deren Nenner den Faktor 2 enthalten in binärsystem mit endlich vielen\n",
    "#Nachkommastellen darstellen\n",
    "[X][][][X][]"
   ]
  },
  {
   "cell_type": "code",
   "execution_count": null,
   "id": "abf62763",
   "metadata": {},
   "outputs": [],
   "source": [
    "#118\n",
    "#siehe Aufgabe 117\n",
    "[][X][X][][]"
   ]
  },
  {
   "cell_type": "code",
   "execution_count": null,
   "id": "17f55fb9",
   "metadata": {},
   "outputs": [],
   "source": [
    "#119\n",
    "#von dezimal in binär wird mit 2 multipliziert. ist das ergebnis > 1 merke 1 anderfalls merke 0. Die gemerkten \n",
    "#zahlen von oben nach unten ergeben die binärzahl. wiederholung bedeutet periodisch\n",
    "0.7*2 = 1,4\n",
    "0.4*2 = 0.8\n",
    "0.8*2 = 1.6\n",
    "0.6*2 = 1.2\n",
    "0.2*2 = 0.4\n",
    "-> \"0.1 periode 0110\""
   ]
  },
  {
   "cell_type": "code",
   "execution_count": null,
   "id": "688017a1",
   "metadata": {},
   "outputs": [],
   "source": [
    "#120\n",
    "[X]\n",
    "[]\n",
    "[X]\n",
    "[]\n"
   ]
  },
  {
   "cell_type": "code",
   "execution_count": null,
   "id": "558d0cc9",
   "metadata": {},
   "outputs": [],
   "source": [
    "#121\n",
    "[X]\n",
    "[]\n",
    "[X]\n",
    "[]\n",
    "[]"
   ]
  },
  {
   "cell_type": "code",
   "execution_count": null,
   "id": "a970ee4f",
   "metadata": {},
   "outputs": [],
   "source": [
    "#122\n",
    "[]\n",
    "[]\n",
    "[X]\n",
    "[]\n",
    "[]\n"
   ]
  },
  {
   "cell_type": "code",
   "execution_count": null,
   "id": "c072d364",
   "metadata": {},
   "outputs": [],
   "source": [
    "#123\n",
    "[X]\n",
    "[]\n",
    "[]"
   ]
  },
  {
   "cell_type": "code",
   "execution_count": null,
   "id": "d159373e",
   "metadata": {},
   "outputs": [],
   "source": [
    "#124\n",
    "[X]\n",
    "[]\n",
    "[]\n",
    "[]"
   ]
  },
  {
   "cell_type": "code",
   "execution_count": 4,
   "id": "4825c534",
   "metadata": {},
   "outputs": [
    {
     "data": {
      "text/plain": [
       "Fraction(141, 100)"
      ]
     },
     "execution_count": 4,
     "metadata": {},
     "output_type": "execute_result"
    }
   ],
   "source": [
    "from fractions import Fraction\n",
    "Fraction(141, 100)"
   ]
  },
  {
   "cell_type": "code",
   "execution_count": null,
   "id": "9efcf1e4",
   "metadata": {},
   "outputs": [],
   "source": [
    "#125\n",
    "[][X][X][X][X][]"
   ]
  },
  {
   "cell_type": "code",
   "execution_count": null,
   "id": "737c6f7f",
   "metadata": {},
   "outputs": [],
   "source": [
    "#126\n",
    "[X][][X][][][]"
   ]
  },
  {
   "cell_type": "code",
   "execution_count": null,
   "id": "836fb552",
   "metadata": {},
   "outputs": [],
   "source": [
    "#127\n",
    "[]\n",
    "[]\n",
    "[]\n",
    "[]\n",
    "[X]\n",
    "[]"
   ]
  },
  {
   "cell_type": "code",
   "execution_count": null,
   "id": "9234d68f",
   "metadata": {},
   "outputs": [],
   "source": [
    "#128\n",
    "[]\n",
    "[X]\n",
    "[]\n",
    "[]\n",
    "[]\n",
    "[]\n",
    "[]\n",
    "[]"
   ]
  },
  {
   "cell_type": "code",
   "execution_count": null,
   "id": "3bc91079",
   "metadata": {},
   "outputs": [],
   "source": [
    "#129\n",
    "[X]\n",
    "[]\n",
    "[]\n",
    "[X]\n",
    "[]\n",
    "[]\n"
   ]
  },
  {
   "cell_type": "code",
   "execution_count": null,
   "id": "c4613e2c",
   "metadata": {},
   "outputs": [],
   "source": [
    "#130\n",
    "#arbeit mit Simulator"
   ]
  },
  {
   "cell_type": "code",
   "execution_count": 14,
   "id": "55e23ba8",
   "metadata": {},
   "outputs": [
    {
     "data": {
      "text/plain": [
       "23.0"
      ]
     },
     "execution_count": 14,
     "metadata": {},
     "output_type": "execute_result"
    }
   ],
   "source": [
    "#131\n",
    "sqrt(529)"
   ]
  },
  {
   "cell_type": "code",
   "execution_count": 18,
   "id": "ae2898e8",
   "metadata": {},
   "outputs": [
    {
     "data": {
      "text/plain": [
       "9007199254741015"
      ]
     },
     "execution_count": 18,
     "metadata": {},
     "output_type": "execute_result"
    }
   ],
   "source": [
    "2**53 + 23"
   ]
  },
  {
   "cell_type": "code",
   "execution_count": 20,
   "id": "14fac1b5",
   "metadata": {},
   "outputs": [
    {
     "data": {
      "text/plain": [
       "Fraction(2, 155)"
      ]
     },
     "execution_count": 20,
     "metadata": {},
     "output_type": "execute_result"
    }
   ],
   "source": [
    "Fraction(116221925867626, 9007199254741015)#???"
   ]
  },
  {
   "cell_type": "code",
   "execution_count": null,
   "id": "09ad279c",
   "metadata": {},
   "outputs": [],
   "source": []
  }
 ],
 "metadata": {
  "kernelspec": {
   "display_name": "Python 3 (ipykernel)",
   "language": "python",
   "name": "python3"
  },
  "language_info": {
   "codemirror_mode": {
    "name": "ipython",
    "version": 3
   },
   "file_extension": ".py",
   "mimetype": "text/x-python",
   "name": "python",
   "nbconvert_exporter": "python",
   "pygments_lexer": "ipython3",
   "version": "3.10.6"
  }
 },
 "nbformat": 4,
 "nbformat_minor": 5
}
