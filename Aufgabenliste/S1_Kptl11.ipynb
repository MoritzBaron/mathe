{
 "cells": [
  {
   "cell_type": "code",
   "execution_count": null,
   "id": "5d761230",
   "metadata": {},
   "outputs": [],
   "source": [
    "#112\n",
    "x = 0.472727272... als gekürtzten Bruch\n",
    "#Komma zur periode schieben: x = Fraction(1,10) * 4,72727272...\n",
    "#Periode als Bruch schreiben: x = Fraction(1, 10) * (4 + Fraction(72, 99))\n",
    "#Bruch berechnen: x = Fraction(1,10) * Fraction(52, 11) = Fraction(26,55)\n"
   ]
  },
  {
   "cell_type": "code",
   "execution_count": 2,
   "id": "849aa718",
   "metadata": {},
   "outputs": [
    {
     "data": {
      "text/plain": [
       "Fraction(26, 55)"
      ]
     },
     "execution_count": 2,
     "metadata": {},
     "output_type": "execute_result"
    }
   ],
   "source": [
    "from fractions import Fraction\n",
    "Fraction(234, 495)\n",
    "Fraction(468,990)"
   ]
  },
  {
   "cell_type": "code",
   "execution_count": null,
   "id": "79ac5dab",
   "metadata": {},
   "outputs": [],
   "source": [
    "#113\n",
    "x = 1,372727272..\n",
    "#1 x = Fraction(1,10) * (13 + Fraction(72,99))\n",
    "#2 x = Fraction(1,10) * Fraction(151,11)\n",
    "#3 x = Fraction(151,110)"
   ]
  },
  {
   "cell_type": "code",
   "execution_count": null,
   "id": "bdd5acf6",
   "metadata": {},
   "outputs": [],
   "source": [
    "#114\n",
    "#ein gekürzter Bruch kann nurd dann mit endlich vielen Nachkommastellen dargestellt werden wenn der Nenner nur \n",
    "#die Primfaktoren 2 und 5 besitzt\n",
    "[X][X][X][][X]"
   ]
  }
 ],
 "metadata": {
  "kernelspec": {
   "display_name": "Python 3 (ipykernel)",
   "language": "python",
   "name": "python3"
  },
  "language_info": {
   "codemirror_mode": {
    "name": "ipython",
    "version": 3
   },
   "file_extension": ".py",
   "mimetype": "text/x-python",
   "name": "python",
   "nbconvert_exporter": "python",
   "pygments_lexer": "ipython3",
   "version": "3.10.6"
  }
 },
 "nbformat": 4,
 "nbformat_minor": 5
}
