{
 "cells": [
  {
   "cell_type": "code",
   "execution_count": 7,
   "id": "36d872d6",
   "metadata": {},
   "outputs": [],
   "source": [
    "from fractions import Fraction"
   ]
  },
  {
   "cell_type": "code",
   "execution_count": 9,
   "id": "f4052398",
   "metadata": {},
   "outputs": [
    {
     "data": {
      "text/plain": [
       "Fraction(13, 16)"
      ]
     },
     "execution_count": 9,
     "metadata": {},
     "output_type": "execute_result"
    }
   ],
   "source": [
    "Fraction(0b1101, 0b10000)"
   ]
  },
  {
   "cell_type": "code",
   "execution_count": 10,
   "id": "9c8fb860",
   "metadata": {},
   "outputs": [
    {
     "data": {
      "text/plain": [
       "Fraction(17, 32)"
      ]
     },
     "execution_count": 10,
     "metadata": {},
     "output_type": "execute_result"
    }
   ],
   "source": [
    "Fraction(0b10001,0b100000)"
   ]
  },
  {
   "cell_type": "code",
   "execution_count": 11,
   "id": "16f876f9",
   "metadata": {},
   "outputs": [
    {
     "data": {
      "text/plain": [
       "Fraction(53, 16)"
      ]
     },
     "execution_count": 11,
     "metadata": {},
     "output_type": "execute_result"
    }
   ],
   "source": [
    "Fraction(0b110101, 0b10000)"
   ]
  },
  {
   "cell_type": "code",
   "execution_count": 12,
   "id": "8c2efdc4",
   "metadata": {},
   "outputs": [
    {
     "data": {
      "text/plain": [
       "Fraction(47, 28)"
      ]
     },
     "execution_count": 12,
     "metadata": {},
     "output_type": "execute_result"
    }
   ],
   "source": [
    "Fraction(1,4)*(6+Fraction(5,7))"
   ]
  },
  {
   "cell_type": "code",
   "execution_count": 13,
   "id": "cffdd95d",
   "metadata": {},
   "outputs": [
    {
     "data": {
      "text/plain": [
       "Fraction(11, 16)"
      ]
     },
     "execution_count": 13,
     "metadata": {},
     "output_type": "execute_result"
    }
   ],
   "source": [
    "Fraction(0b1011,0b10000)"
   ]
  },
  {
   "cell_type": "code",
   "execution_count": 14,
   "id": "85435e39",
   "metadata": {},
   "outputs": [
    {
     "data": {
      "text/plain": [
       "Fraction(1, 6)"
      ]
     },
     "execution_count": 14,
     "metadata": {},
     "output_type": "execute_result"
    }
   ],
   "source": [
    "Fraction(1,2)*Fraction(1,3)"
   ]
  },
  {
   "cell_type": "code",
   "execution_count": 15,
   "id": "4888980c",
   "metadata": {},
   "outputs": [
    {
     "data": {
      "text/plain": [
       "Fraction(3, 16)"
      ]
     },
     "execution_count": 15,
     "metadata": {},
     "output_type": "execute_result"
    }
   ],
   "source": [
    "Fraction(3,16)"
   ]
  },
  {
   "cell_type": "code",
   "execution_count": 16,
   "id": "1b47cbfb",
   "metadata": {},
   "outputs": [],
   "source": [
    "from sympy import *"
   ]
  },
  {
   "cell_type": "code",
   "execution_count": 17,
   "id": "fc2cec65",
   "metadata": {},
   "outputs": [
    {
     "data": {
      "text/plain": [
       "{2: 4}"
      ]
     },
     "execution_count": 17,
     "metadata": {},
     "output_type": "execute_result"
    }
   ],
   "source": [
    "factorint(16)"
   ]
  },
  {
   "cell_type": "code",
   "execution_count": 19,
   "id": "ad65b8f5",
   "metadata": {},
   "outputs": [
    {
     "data": {
      "text/plain": [
       "52"
      ]
     },
     "execution_count": 19,
     "metadata": {},
     "output_type": "execute_result"
    }
   ],
   "source": [
    "len(\"0011001100110011001100110011001100110011001100110011\")"
   ]
  },
  {
   "cell_type": "code",
   "execution_count": 21,
   "id": "7b92480f",
   "metadata": {},
   "outputs": [
    {
     "ename": "AttributeError",
     "evalue": "'Fraction' object has no attribute 'evalf'",
     "output_type": "error",
     "traceback": [
      "\u001b[0;31m---------------------------------------------------------------------------\u001b[0m",
      "\u001b[0;31mAttributeError\u001b[0m                            Traceback (most recent call last)",
      "Input \u001b[0;32mIn [21]\u001b[0m, in \u001b[0;36m<cell line: 1>\u001b[0;34m()\u001b[0m\n\u001b[0;32m----> 1\u001b[0m \u001b[43mFraction\u001b[49m\u001b[43m(\u001b[49m\u001b[38;5;241;43m4\u001b[39;49m\u001b[43m,\u001b[49m\u001b[38;5;241;43m5\u001b[39;49m\u001b[43m)\u001b[49m\u001b[38;5;241;43m.\u001b[39;49m\u001b[43mevalf\u001b[49m(\u001b[38;5;241m54\u001b[39m)\n",
      "\u001b[0;31mAttributeError\u001b[0m: 'Fraction' object has no attribute 'evalf'"
     ]
    }
   ],
   "source": [
    "Fraction(4,5).evalf(54)"
   ]
  },
  {
   "cell_type": "code",
   "execution_count": 24,
   "id": "69157f0c",
   "metadata": {},
   "outputs": [
    {
     "data": {
      "text/plain": [
       "'0b10000000000000000000000000000000000000000000000000001000'"
      ]
     },
     "execution_count": 24,
     "metadata": {},
     "output_type": "execute_result"
    }
   ],
   "source": [
    "bin(2**55+8)"
   ]
  },
  {
   "cell_type": "code",
   "execution_count": 25,
   "id": "7c44c0f2",
   "metadata": {},
   "outputs": [
    {
     "data": {
      "text/plain": [
       "58"
      ]
     },
     "execution_count": 25,
     "metadata": {},
     "output_type": "execute_result"
    }
   ],
   "source": [
    "len('0b10000000000000000000000000000000000000000000000000001000')"
   ]
  },
  {
   "cell_type": "code",
   "execution_count": 26,
   "id": "20c075da",
   "metadata": {},
   "outputs": [
    {
     "data": {
      "text/plain": [
       "55"
      ]
     },
     "execution_count": 26,
     "metadata": {},
     "output_type": "execute_result"
    }
   ],
   "source": [
    "len('0000000000000000000000000000000000000000000000000001000')"
   ]
  },
  {
   "cell_type": "code",
   "execution_count": 27,
   "id": "0e4a20ab",
   "metadata": {},
   "outputs": [
    {
     "ename": "TypeError",
     "evalue": "'float' object cannot be interpreted as an integer",
     "output_type": "error",
     "traceback": [
      "\u001b[0;31m---------------------------------------------------------------------------\u001b[0m",
      "\u001b[0;31mTypeError\u001b[0m                                 Traceback (most recent call last)",
      "Input \u001b[0;32mIn [27]\u001b[0m, in \u001b[0;36m<cell line: 1>\u001b[0;34m()\u001b[0m\n\u001b[0;32m----> 1\u001b[0m \u001b[38;5;28;43mbin\u001b[39;49m\u001b[43m(\u001b[49m\u001b[38;5;241;43m0.375\u001b[39;49m\u001b[43m)\u001b[49m\n",
      "\u001b[0;31mTypeError\u001b[0m: 'float' object cannot be interpreted as an integer"
     ]
    }
   ],
   "source": [
    "bin(0.375)"
   ]
  },
  {
   "cell_type": "code",
   "execution_count": null,
   "id": "a2092790",
   "metadata": {},
   "outputs": [],
   "source": []
  }
 ],
 "metadata": {
  "kernelspec": {
   "display_name": "Python 3 (ipykernel)",
   "language": "python",
   "name": "python3"
  },
  "language_info": {
   "codemirror_mode": {
    "name": "ipython",
    "version": 3
   },
   "file_extension": ".py",
   "mimetype": "text/x-python",
   "name": "python",
   "nbconvert_exporter": "python",
   "pygments_lexer": "ipython3",
   "version": "3.10.6"
  }
 },
 "nbformat": 4,
 "nbformat_minor": 5
}
