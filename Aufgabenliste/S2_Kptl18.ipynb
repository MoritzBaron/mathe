{
 "cells": [
  {
   "cell_type": "code",
   "execution_count": null,
   "id": "cf5de19e",
   "metadata": {},
   "outputs": [],
   "source": [
    "#233\n",
    "[X][X][X][X]"
   ]
  },
  {
   "cell_type": "code",
   "execution_count": null,
   "id": "efc36d5a",
   "metadata": {},
   "outputs": [],
   "source": [
    "#234\n",
    "[X][][X]\n",
    "[X][X][X]"
   ]
  },
  {
   "cell_type": "code",
   "execution_count": null,
   "id": "99ec1fcd",
   "metadata": {},
   "outputs": [],
   "source": [
    "#235\n",
    "[X][X][]\n",
    "[][][]"
   ]
  },
  {
   "cell_type": "code",
   "execution_count": null,
   "id": "08c30339",
   "metadata": {},
   "outputs": [],
   "source": [
    "#236\n",
    "[X][X][]\n",
    "[X][X][X]"
   ]
  },
  {
   "cell_type": "code",
   "execution_count": null,
   "id": "edec59d4",
   "metadata": {},
   "outputs": [],
   "source": [
    "#237\n",
    "[][X][]\n",
    "[][][]"
   ]
  },
  {
   "cell_type": "code",
   "execution_count": null,
   "id": "c70f704f",
   "metadata": {},
   "outputs": [],
   "source": [
    "#238\n",
    "[X][][X]\n",
    "[][][X]"
   ]
  },
  {
   "cell_type": "code",
   "execution_count": null,
   "id": "09a884ba",
   "metadata": {},
   "outputs": [],
   "source": [
    "#239\n",
    "(4,6] geschnitten mit [3,5]"
   ]
  },
  {
   "cell_type": "code",
   "execution_count": 6,
   "id": "f1abbed2",
   "metadata": {},
   "outputs": [
    {
     "data": {
      "text/plain": [
       "4.276909229288297e+38"
      ]
     },
     "execution_count": 6,
     "metadata": {},
     "output_type": "execute_result"
    }
   ],
   "source": [
    "#240\n",
    "from math import log\n",
    "(10**21/log(10**21))**2 #.evalf()\n",
    "#[X][][][]"
   ]
  },
  {
   "cell_type": "code",
   "execution_count": 14,
   "id": "15ecfd5f",
   "metadata": {},
   "outputs": [],
   "source": [
    "#240 andere Möglichkeit\n",
    "x = 10**21/log(10**21)\n",
    "(x * x).evalf()"
   ]
  },
  {
   "cell_type": "code",
   "execution_count": null,
   "id": "4cddb02a",
   "metadata": {},
   "outputs": [],
   "source": [
    "#241\n",
    "A = [-4, -3, -2, -1, 0, 1, 2] #Mächtigkeit = 7\n",
    "2**7 = 128 #Teilmenge Kptl 17"
   ]
  },
  {
   "cell_type": "code",
   "execution_count": 24,
   "id": "da1054c8",
   "metadata": {},
   "outputs": [
    {
     "data": {
      "text/plain": [
       "1002001"
      ]
     },
     "execution_count": 24,
     "metadata": {},
     "output_type": "execute_result"
    }
   ],
   "source": [
    "#242\n",
    "1001**2 "
   ]
  },
  {
   "cell_type": "code",
   "execution_count": 16,
   "id": "ed5e6f79",
   "metadata": {},
   "outputs": [
    {
     "data": {
      "text/plain": [
       "2.068068961444056e+22"
      ]
     },
     "execution_count": 16,
     "metadata": {},
     "output_type": "execute_result"
    }
   ],
   "source": [
    "#243\n",
    "(10**21/log(10**21)*1000)\n",
    "m = 22"
   ]
  },
  {
   "cell_type": "code",
   "execution_count": 17,
   "id": "1ed5eaa9",
   "metadata": {},
   "outputs": [],
   "source": [
    "#244\n"
   ]
  },
  {
   "cell_type": "code",
   "execution_count": 18,
   "id": "646977ad",
   "metadata": {},
   "outputs": [],
   "source": [
    "#245"
   ]
  },
  {
   "cell_type": "code",
   "execution_count": 21,
   "id": "9e81a8c1",
   "metadata": {},
   "outputs": [],
   "source": [
    "#246\n",
    "[][][][][X][]\n",
    "[5, 10)"
   ]
  },
  {
   "cell_type": "code",
   "execution_count": null,
   "id": "b0729038",
   "metadata": {},
   "outputs": [],
   "source": [
    "#247\n",
    "[][][][]\n",
    "[X][][][]\n",
    "(5, 10)"
   ]
  },
  {
   "cell_type": "code",
   "execution_count": null,
   "id": "f5371d7a",
   "metadata": {},
   "outputs": [],
   "source": [
    "#248\n",
    "[][][X][][]\n",
    "[6, 18]"
   ]
  },
  {
   "cell_type": "code",
   "execution_count": 22,
   "id": "169c70e2",
   "metadata": {},
   "outputs": [],
   "source": [
    "#249\n",
    "#Da intervall b kein größtes Element hat, hat auch M kein größtes Element"
   ]
  },
  {
   "cell_type": "code",
   "execution_count": 23,
   "id": "da6946f0",
   "metadata": {},
   "outputs": [],
   "source": [
    "#250\n",
    "#Da a kein größtes Element hat, hat auch M kein größtes Element"
   ]
  },
  {
   "cell_type": "code",
   "execution_count": null,
   "id": "120a96b0",
   "metadata": {},
   "outputs": [],
   "source": [
    "#251\n",
    "[][X][][][][]\n",
    "[-4, 2]"
   ]
  },
  {
   "cell_type": "code",
   "execution_count": null,
   "id": "3bbc8e95",
   "metadata": {},
   "outputs": [],
   "source": [
    "#252\n",
    "[][X][X]\n",
    "[][X][X]"
   ]
  },
  {
   "cell_type": "code",
   "execution_count": null,
   "id": "1dcaafdc",
   "metadata": {},
   "outputs": [],
   "source": [
    "#253\n",
    "[][X][X]\n",
    "[][][]"
   ]
  },
  {
   "cell_type": "code",
   "execution_count": null,
   "id": "c1482d9f",
   "metadata": {},
   "outputs": [],
   "source": [
    "#254\n",
    "[X][][X][]\n",
    "???"
   ]
  },
  {
   "cell_type": "code",
   "execution_count": null,
   "id": "a4214180",
   "metadata": {},
   "outputs": [],
   "source": [
    "#255\n",
    "[A - G]\n",
    "[B - I]\n",
    "[C - E]\n",
    "[D - F]\n",
    "[H - J]"
   ]
  },
  {
   "cell_type": "code",
   "execution_count": null,
   "id": "a309d152",
   "metadata": {},
   "outputs": [],
   "source": [
    "#256\n",
    "[A - E]\n",
    "[B - I]\n",
    "[C - G]\n",
    "[D - F]\n",
    "[H - J]\n"
   ]
  },
  {
   "cell_type": "code",
   "execution_count": null,
   "id": "93a48407",
   "metadata": {},
   "outputs": [],
   "source": [
    "#257"
   ]
  },
  {
   "cell_type": "code",
   "execution_count": null,
   "id": "83155590",
   "metadata": {},
   "outputs": [],
   "source": [
    "#258"
   ]
  },
  {
   "cell_type": "code",
   "execution_count": null,
   "id": "3bd2ba4e",
   "metadata": {},
   "outputs": [],
   "source": [
    "#259\n",
    "33333333334 % 3 = 1\n",
    "s = 1"
   ]
  },
  {
   "cell_type": "code",
   "execution_count": null,
   "id": "a1fd67db",
   "metadata": {},
   "outputs": [],
   "source": [
    "#260 if schleife!\n",
    "def foo():\n",
    "    i = 3\n",
    "    while true:\n",
    "        for m in range (1, ceil(i/2)):\n",
    "            n = i - m\n",
    "            if gcd(m, n):\n",
    "                yield Fraction(m, n)\n",
    "        i += 1"
   ]
  },
  {
   "cell_type": "code",
   "execution_count": null,
   "id": "f4b88774",
   "metadata": {},
   "outputs": [],
   "source": [
    "#261 If schleife!\n",
    "def foo(n = false):\n",
    "    k = 2\n",
    "    while not n or k <= n:\n",
    "        X = True\n",
    "        for p in foo(sqrt(k)):\n",
    "            if k%p == 0:\n",
    "                X = False\n",
    "                break\n",
    "        if X:\n",
    "            yield k\n",
    "        k += 1"
   ]
  },
  {
   "cell_type": "code",
   "execution_count": null,
   "id": "46681076",
   "metadata": {},
   "outputs": [],
   "source": [
    "#262\n",
    "A = {2*x + 1 : x e N}"
   ]
  },
  {
   "cell_type": "code",
   "execution_count": null,
   "id": "eba140d3",
   "metadata": {},
   "outputs": [],
   "source": [
    "#263\n",
    "A = {2 * 3**x : x e N}"
   ]
  },
  {
   "cell_type": "code",
   "execution_count": null,
   "id": "bb173d4f",
   "metadata": {},
   "outputs": [],
   "source": [
    "#264\n",
    "A = {2 * 4**x : x e N}"
   ]
  },
  {
   "cell_type": "code",
   "execution_count": null,
   "id": "7d24dfa3",
   "metadata": {},
   "outputs": [],
   "source": [
    "#265\n",
    "A = {x : x e Q}"
   ]
  },
  {
   "cell_type": "code",
   "execution_count": null,
   "id": "b40bafa7",
   "metadata": {},
   "outputs": [],
   "source": [
    "#266\n",
    "A = {x! : x e N}"
   ]
  },
  {
   "cell_type": "code",
   "execution_count": null,
   "id": "3e92dfa5",
   "metadata": {},
   "outputs": [],
   "source": [
    "#267\n",
    "5"
   ]
  },
  {
   "cell_type": "code",
   "execution_count": null,
   "id": "c2fec3d4",
   "metadata": {},
   "outputs": [],
   "source": [
    "#268\n",
    "0,1,5"
   ]
  },
  {
   "cell_type": "code",
   "execution_count": null,
   "id": "dff44cb8",
   "metadata": {},
   "outputs": [],
   "source": [
    "#269\n",
    "200"
   ]
  },
  {
   "cell_type": "code",
   "execution_count": null,
   "id": "12ca2978",
   "metadata": {},
   "outputs": [],
   "source": []
  }
 ],
 "metadata": {
  "kernelspec": {
   "display_name": "Python 3 (ipykernel)",
   "language": "python",
   "name": "python3"
  },
  "language_info": {
   "codemirror_mode": {
    "name": "ipython",
    "version": 3
   },
   "file_extension": ".py",
   "mimetype": "text/x-python",
   "name": "python",
   "nbconvert_exporter": "python",
   "pygments_lexer": "ipython3",
   "version": "3.10.6"
  }
 },
 "nbformat": 4,
 "nbformat_minor": 5
}
