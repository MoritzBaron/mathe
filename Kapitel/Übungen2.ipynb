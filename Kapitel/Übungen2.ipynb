{
 "cells": [
  {
   "cell_type": "code",
   "execution_count": 1,
   "id": "a98e431a",
   "metadata": {},
   "outputs": [
    {
     "data": {
      "text/plain": [
       "0"
      ]
     },
     "execution_count": 1,
     "metadata": {},
     "output_type": "execute_result"
    }
   ],
   "source": [
    "((7*7)+(10*7))%17"
   ]
  },
  {
   "cell_type": "code",
   "execution_count": 2,
   "id": "0dd4db97",
   "metadata": {},
   "outputs": [
    {
     "data": {
      "text/plain": [
       "999998000001"
      ]
     },
     "execution_count": 2,
     "metadata": {},
     "output_type": "execute_result"
    }
   ],
   "source": [
    "999999**2"
   ]
  },
  {
   "cell_type": "code",
   "execution_count": 3,
   "id": "2e3a14a3",
   "metadata": {},
   "outputs": [
    {
     "data": {
      "text/plain": [
       "'0b1110100011010100100001101000101110000001'"
      ]
     },
     "execution_count": 3,
     "metadata": {},
     "output_type": "execute_result"
    }
   ],
   "source": [
    "bin(999998000001\n",
    "   )"
   ]
  },
  {
   "cell_type": "code",
   "execution_count": 6,
   "id": "921487f7",
   "metadata": {},
   "outputs": [
    {
     "data": {
      "text/plain": [
       "40"
      ]
     },
     "execution_count": 6,
     "metadata": {},
     "output_type": "execute_result"
    }
   ],
   "source": [
    "len(\"1110100011010100100001101000101110000001\")"
   ]
  },
  {
   "cell_type": "code",
   "execution_count": 7,
   "id": "ab6ceeac",
   "metadata": {},
   "outputs": [
    {
     "data": {
      "text/plain": [
       "'-0b101110'"
      ]
     },
     "execution_count": 7,
     "metadata": {},
     "output_type": "execute_result"
    }
   ],
   "source": [
    "bin(-46)"
   ]
  },
  {
   "cell_type": "code",
   "execution_count": 11,
   "id": "bf622628",
   "metadata": {},
   "outputs": [
    {
     "data": {
      "text/plain": [
       "0"
      ]
     },
     "execution_count": 11,
     "metadata": {},
     "output_type": "execute_result"
    }
   ],
   "source": [
    "c = 0\n",
    "k = 1\n",
    "for n in range(2 ** 10):\n",
    "    c += k\n",
    "    k *= -1\n",
    "c"
   ]
  },
  {
   "cell_type": "code",
   "execution_count": 15,
   "id": "7afb0ad5",
   "metadata": {},
   "outputs": [
    {
     "data": {
      "text/plain": [
       "40"
      ]
     },
     "execution_count": 15,
     "metadata": {},
     "output_type": "execute_result"
    }
   ],
   "source": [
    "c, k = 42, 1\n",
    "for n in range(3 ** 11):\n",
    "    k *= -1\n",
    "    c += 2*k\n",
    "c"
   ]
  },
  {
   "cell_type": "markdown",
   "id": "4b213230",
   "metadata": {},
   "source": [
    "A58:"
   ]
  },
  {
   "cell_type": "code",
   "execution_count": 16,
   "id": "e026a19e",
   "metadata": {},
   "outputs": [
    {
     "name": "stdout",
     "output_type": "stream",
     "text": [
      "0 0\n",
      "0 1\n",
      "0 2\n",
      "0 3\n",
      "0 4\n",
      "0 5\n",
      "0 6\n",
      "0 7\n",
      "0 8\n",
      "0 9\n",
      "0 10\n",
      "0 11\n",
      "0 12\n",
      "0 13\n",
      "0 14\n",
      "0 15\n",
      "0 16\n",
      "0 17\n",
      "0 18\n",
      "0 19\n",
      "0 20\n",
      "0 21\n",
      "0 22\n",
      "0 23\n",
      "0 24\n",
      "0 25\n",
      "0 26\n",
      "1 0\n",
      "2 0\n",
      "3 0\n",
      "3 9\n",
      "3 18\n",
      "4 0\n",
      "5 0\n",
      "6 0\n",
      "6 9\n",
      "6 18\n",
      "7 0\n",
      "8 0\n",
      "9 0\n",
      "9 3\n",
      "9 6\n",
      "9 9\n",
      "9 12\n",
      "9 15\n",
      "9 18\n",
      "9 21\n",
      "9 24\n",
      "10 0\n",
      "11 0\n",
      "12 0\n",
      "12 9\n",
      "12 18\n",
      "13 0\n",
      "14 0\n",
      "15 0\n",
      "15 9\n",
      "15 18\n",
      "16 0\n",
      "17 0\n",
      "18 0\n",
      "18 3\n",
      "18 6\n",
      "18 9\n",
      "18 12\n",
      "18 15\n",
      "18 18\n",
      "18 21\n",
      "18 24\n",
      "19 0\n",
      "20 0\n",
      "21 0\n",
      "21 9\n",
      "21 18\n",
      "22 0\n",
      "23 0\n",
      "24 0\n",
      "24 9\n",
      "24 18\n",
      "25 0\n",
      "26 0\n"
     ]
    }
   ],
   "source": [
    "for a in range(27):\n",
    "    for b in range(27):\n",
    "        if a*b % 27 == 0:\n",
    "            print(a, b)"
   ]
  },
  {
   "cell_type": "code",
   "execution_count": 17,
   "id": "a936b008",
   "metadata": {},
   "outputs": [
    {
     "name": "stdout",
     "output_type": "stream",
     "text": [
      "0 0\n",
      "1 0\n",
      "2 0\n",
      "3 0\n",
      "4 0\n",
      "5 0\n",
      "6 0\n",
      "7 0\n",
      "8 0\n",
      "9 0\n",
      "9 3\n",
      "9 6\n",
      "9 9\n",
      "10 0\n",
      "11 0\n",
      "12 0\n",
      "12 9\n",
      "13 0\n",
      "14 0\n",
      "15 0\n",
      "15 9\n",
      "16 0\n",
      "17 0\n",
      "18 0\n",
      "18 3\n",
      "18 6\n",
      "18 9\n",
      "18 12\n",
      "18 15\n",
      "18 18\n",
      "19 0\n",
      "20 0\n",
      "21 0\n",
      "21 9\n",
      "21 18\n",
      "22 0\n",
      "23 0\n",
      "24 0\n",
      "24 9\n",
      "24 18\n",
      "25 0\n",
      "26 0\n"
     ]
    }
   ],
   "source": [
    "for a in range(27):\n",
    "    for b in range(a+1):\n",
    "        if a*b % 27 == 0:\n",
    "            print(a, b)"
   ]
  },
  {
   "cell_type": "markdown",
   "id": "b12a64aa",
   "metadata": {},
   "source": [
    "A59:"
   ]
  },
  {
   "cell_type": "code",
   "execution_count": null,
   "id": "8f0763cf",
   "metadata": {},
   "outputs": [],
   "source": [
    "#falsch\n",
    "x = 0\n",
    "a = 0\n",
    "count = 0\n",
    "while a < 42:\n",
    "    while x < 42:\n",
    "        if 5*x%42 != a:\n",
    "            count += 1\n",
    "        x += 1\n",
    "    a += 1\n",
    "count"
   ]
  },
  {
   "cell_type": "code",
   "execution_count": 18,
   "id": "4c5829a9",
   "metadata": {},
   "outputs": [
    {
     "name": "stdout",
     "output_type": "stream",
     "text": [
      "0 0\n",
      "1 42\n",
      "2 42\n",
      "3 42\n",
      "4 42\n",
      "5 42\n",
      "6 42\n",
      "7 42\n",
      "8 42\n",
      "9 42\n",
      "10 42\n",
      "11 42\n",
      "12 42\n",
      "13 42\n",
      "14 42\n",
      "15 42\n",
      "16 42\n",
      "17 42\n",
      "18 42\n",
      "19 42\n",
      "20 42\n",
      "21 42\n",
      "22 42\n",
      "23 42\n",
      "24 42\n",
      "25 42\n",
      "26 42\n",
      "27 42\n",
      "28 42\n",
      "29 42\n",
      "30 42\n",
      "31 42\n",
      "32 42\n",
      "33 42\n",
      "34 42\n",
      "35 42\n",
      "36 42\n",
      "37 42\n",
      "38 42\n",
      "39 42\n",
      "40 42\n",
      "41 42\n"
     ]
    },
    {
     "data": {
      "text/plain": [
       "41"
      ]
     },
     "execution_count": 18,
     "metadata": {},
     "output_type": "execute_result"
    }
   ],
   "source": [
    "x = 0\n",
    "a = 0\n",
    "count = 0\n",
    "while a < 42:\n",
    "    print(a, x)\n",
    "    while x < 42:\n",
    "        if 5*x%42 != a:\n",
    "            count += 1\n",
    "        x += 1\n",
    "    a += 1\n",
    "count"
   ]
  },
  {
   "cell_type": "code",
   "execution_count": 19,
   "id": "0c66490d",
   "metadata": {},
   "outputs": [
    {
     "data": {
      "text/plain": [
       "1722"
      ]
     },
     "execution_count": 19,
     "metadata": {},
     "output_type": "execute_result"
    }
   ],
   "source": [
    "a = 0\n",
    "count = 0\n",
    "while a < 42:\n",
    "    x = 0\n",
    "    while x < 42:\n",
    "        if 5*x%42 != a:\n",
    "            count += 1\n",
    "        x += 1\n",
    "    a += 1\n",
    "count"
   ]
  },
  {
   "cell_type": "code",
   "execution_count": 20,
   "id": "07ad9f2e",
   "metadata": {},
   "outputs": [],
   "source": [
    "#ist 5*x=a modulo m lösbar?\n",
    "def lösbar(a,m):\n",
    "    for x in range(m):\n",
    "        if 5*x%m == a:\n",
    "            return True\n",
    "    return False"
   ]
  },
  {
   "cell_type": "code",
   "execution_count": 21,
   "id": "472643aa",
   "metadata": {},
   "outputs": [
    {
     "data": {
      "text/plain": [
       "0"
      ]
     },
     "execution_count": 21,
     "metadata": {},
     "output_type": "execute_result"
    }
   ],
   "source": [
    "m = 42\n",
    "count = 0\n",
    "for a in range(m):\n",
    "    if not lösbar(a,m):\n",
    "        count += 1\n",
    "count"
   ]
  },
  {
   "cell_type": "code",
   "execution_count": 24,
   "id": "bcc8c8ec",
   "metadata": {},
   "outputs": [
    {
     "data": {
      "text/plain": [
       "18"
      ]
     },
     "execution_count": 24,
     "metadata": {},
     "output_type": "execute_result"
    }
   ],
   "source": [
    "#aufgabe 61\n",
    "for x in range(23):\n",
    "    if 9*x%23 == 1:\n",
    "        break\n",
    "x"
   ]
  },
  {
   "cell_type": "code",
   "execution_count": 25,
   "id": "89a5d0e0",
   "metadata": {},
   "outputs": [
    {
     "data": {
      "text/plain": [
       "13"
      ]
     },
     "execution_count": 25,
     "metadata": {},
     "output_type": "execute_result"
    }
   ],
   "source": [
    "18*2%23"
   ]
  },
  {
   "cell_type": "code",
   "execution_count": 26,
   "id": "0d48ff5a",
   "metadata": {},
   "outputs": [
    {
     "data": {
      "text/plain": [
       "2"
      ]
     },
     "execution_count": 26,
     "metadata": {},
     "output_type": "execute_result"
    }
   ],
   "source": [
    "9*13%23"
   ]
  },
  {
   "cell_type": "code",
   "execution_count": null,
   "id": "6f390db8",
   "metadata": {},
   "outputs": [],
   "source": [
    "#2/9^1000000 in Z23(A62)\n",
    "pow((13,1000000)%23)"
   ]
  },
  {
   "cell_type": "code",
   "execution_count": 30,
   "id": "a3137e19",
   "metadata": {},
   "outputs": [
    {
     "data": {
      "text/plain": [
       "1"
      ]
     },
     "execution_count": 30,
     "metadata": {},
     "output_type": "execute_result"
    }
   ],
   "source": [
    "#falsch!\n",
    "a = 0\n",
    "b = 0\n",
    "c = 0\n",
    "for x in range(4242):\n",
    "    if a * b % 4242 != 1:\n",
    "        c += 1\n",
    "        a += 1\n",
    "        b += 1\n",
    "c"
   ]
  },
  {
   "cell_type": "code",
   "execution_count": 31,
   "id": "b6f9d7f1",
   "metadata": {},
   "outputs": [
    {
     "data": {
      "text/plain": [
       "3042"
      ]
     },
     "execution_count": 31,
     "metadata": {},
     "output_type": "execute_result"
    }
   ],
   "source": [
    "#A63, Gegenteil zählen\n",
    "sum = 0\n",
    "for a in range(4242):\n",
    "    for b in range(4242):\n",
    "        if (a*b)%4242 == 1:\n",
    "            sum += 1\n",
    "4242-sum"
   ]
  },
  {
   "cell_type": "code",
   "execution_count": 32,
   "id": "e12b3d3b",
   "metadata": {},
   "outputs": [
    {
     "data": {
      "text/plain": [
       "3042"
      ]
     },
     "execution_count": 32,
     "metadata": {},
     "output_type": "execute_result"
    }
   ],
   "source": [
    "#besser\n",
    "sum = 0\n",
    "for a in range(4242):\n",
    "    for b in range(4242):\n",
    "        if (a*b)%4242 == 1:\n",
    "            sum += 1\n",
    "            break\n",
    "4242-sum"
   ]
  },
  {
   "cell_type": "code",
   "execution_count": 33,
   "id": "76103779",
   "metadata": {},
   "outputs": [
    {
     "data": {
      "text/plain": [
       "3042"
      ]
     },
     "execution_count": 33,
     "metadata": {},
     "output_type": "execute_result"
    }
   ],
   "source": [
    "#oder so\n",
    "sum = 0\n",
    "for a in range(4242):\n",
    "    aHatKehrwert = False\n",
    "    for b in range(4242):\n",
    "        if (a*b)%4242 == 1:\n",
    "            aHatKehrwert = True\n",
    "    if aHatKehrwert:\n",
    "        sum += 1\n",
    "4242-sum"
   ]
  },
  {
   "cell_type": "code",
   "execution_count": 35,
   "id": "7315f89b",
   "metadata": {},
   "outputs": [
    {
     "data": {
      "text/plain": [
       "32"
      ]
     },
     "execution_count": 35,
     "metadata": {},
     "output_type": "execute_result"
    }
   ],
   "source": [
    "#A66:\n",
    "L = []\n",
    "for x in range(93):\n",
    "    L.append(x*x%93)\n",
    "c = 0\n",
    "for x in range(93):\n",
    "    if x in L:\n",
    "        c += 1\n",
    "c"
   ]
  },
  {
   "cell_type": "code",
   "execution_count": 36,
   "id": "b35fe24e",
   "metadata": {},
   "outputs": [
    {
     "data": {
      "text/plain": [
       "32"
      ]
     },
     "execution_count": 36,
     "metadata": {},
     "output_type": "execute_result"
    }
   ],
   "source": [
    "#andere Variante zu 66\n",
    "c = 0\n",
    "for x in range(93):\n",
    "    for k in range(93):\n",
    "        if k*k%93 == x:\n",
    "            c += 1\n",
    "            break\n",
    "c"
   ]
  },
  {
   "cell_type": "code",
   "execution_count": 38,
   "id": "030931e0",
   "metadata": {},
   "outputs": [
    {
     "data": {
      "text/plain": [
       "32"
      ]
     },
     "execution_count": 38,
     "metadata": {},
     "output_type": "execute_result"
    }
   ],
   "source": [
    "L = []\n",
    "for x in range(93):\n",
    "    q = x*x%93\n",
    "    if not q in L:\n",
    "        L.append(q)\n",
    "len(L)\n",
    "            "
   ]
  },
  {
   "cell_type": "code",
   "execution_count": 40,
   "id": "822b2592",
   "metadata": {},
   "outputs": [
    {
     "data": {
      "text/plain": [
       "32"
      ]
     },
     "execution_count": 40,
     "metadata": {},
     "output_type": "execute_result"
    }
   ],
   "source": [
    "#für später:\n",
    "len({x*x%93 for x in range(93)})"
   ]
  },
  {
   "cell_type": "code",
   "execution_count": 1,
   "id": "8f8c709e",
   "metadata": {},
   "outputs": [],
   "source": [
    "from sympy.ntheory.modular import crt"
   ]
  },
  {
   "cell_type": "code",
   "execution_count": 2,
   "id": "00f046fb",
   "metadata": {},
   "outputs": [
    {
     "data": {
      "text/plain": [
       "(mpz(27), 140)"
      ]
     },
     "execution_count": 2,
     "metadata": {},
     "output_type": "execute_result"
    }
   ],
   "source": [
    "crt([5,4,7],[2,3,6])"
   ]
  },
  {
   "cell_type": "code",
   "execution_count": null,
   "id": "69e5455a",
   "metadata": {},
   "outputs": [],
   "source": []
  }
 ],
 "metadata": {
  "kernelspec": {
   "display_name": "Python 3 (ipykernel)",
   "language": "python",
   "name": "python3"
  },
  "language_info": {
   "codemirror_mode": {
    "name": "ipython",
    "version": 3
   },
   "file_extension": ".py",
   "mimetype": "text/x-python",
   "name": "python",
   "nbconvert_exporter": "python",
   "pygments_lexer": "ipython3",
   "version": "3.9.10"
  }
 },
 "nbformat": 4,
 "nbformat_minor": 5
}
