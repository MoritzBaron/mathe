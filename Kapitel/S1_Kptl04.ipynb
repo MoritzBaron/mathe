{
 "cells": [
  {
   "cell_type": "markdown",
   "id": "5ba98312",
   "metadata": {},
   "source": [
    "A84:"
   ]
  },
  {
   "cell_type": "code",
   "execution_count": 1,
   "id": "7b389881",
   "metadata": {},
   "outputs": [],
   "source": [
    "def addInv(x, r):\n",
    "    return(x%r)"
   ]
  },
  {
   "cell_type": "code",
   "execution_count": 2,
   "id": "dd23c2b0",
   "metadata": {},
   "outputs": [
    {
     "data": {
      "text/plain": [
       "4"
      ]
     },
     "execution_count": 2,
     "metadata": {},
     "output_type": "execute_result"
    }
   ],
   "source": [
    "addInv(4, 6)"
   ]
  },
  {
   "cell_type": "code",
   "execution_count": 3,
   "id": "e91428be",
   "metadata": {},
   "outputs": [
    {
     "data": {
      "text/plain": [
       "4"
      ]
     },
     "execution_count": 3,
     "metadata": {},
     "output_type": "execute_result"
    }
   ],
   "source": [
    "4 % 6"
   ]
  },
  {
   "cell_type": "code",
   "execution_count": 8,
   "id": "e546114a",
   "metadata": {},
   "outputs": [],
   "source": [
    "def addInv1(x, r):\n",
    "    i = x - r\n",
    "    if i < 0 or i > r:\n",
    "        i *= -1\n",
    "    return(i)"
   ]
  },
  {
   "cell_type": "code",
   "execution_count": 5,
   "id": "fc00ed5c",
   "metadata": {},
   "outputs": [
    {
     "data": {
      "text/plain": [
       "2"
      ]
     },
     "execution_count": 5,
     "metadata": {},
     "output_type": "execute_result"
    }
   ],
   "source": [
    "addInv1(4, 6)"
   ]
  },
  {
   "cell_type": "code",
   "execution_count": 6,
   "id": "c6970805",
   "metadata": {},
   "outputs": [
    {
     "data": {
      "text/plain": [
       "2"
      ]
     },
     "execution_count": 6,
     "metadata": {},
     "output_type": "execute_result"
    }
   ],
   "source": [
    "addInv1(8, 6)"
   ]
  },
  {
   "cell_type": "code",
   "execution_count": 9,
   "id": "b6964d8a",
   "metadata": {},
   "outputs": [
    {
     "data": {
      "text/plain": [
       "-9"
      ]
     },
     "execution_count": 9,
     "metadata": {},
     "output_type": "execute_result"
    }
   ],
   "source": [
    "addInv1(15, 6)"
   ]
  },
  {
   "cell_type": "code",
   "execution_count": 10,
   "id": "1dd5c7cc",
   "metadata": {},
   "outputs": [
    {
     "data": {
      "text/plain": [
       "-10"
      ]
     },
     "execution_count": 10,
     "metadata": {},
     "output_type": "execute_result"
    }
   ],
   "source": [
    "addInv1(19, 9\n",
    "       )"
   ]
  },
  {
   "cell_type": "code",
   "execution_count": 11,
   "id": "571968fc",
   "metadata": {},
   "outputs": [
    {
     "data": {
      "text/plain": [
       "0"
      ]
     },
     "execution_count": 11,
     "metadata": {},
     "output_type": "execute_result"
    }
   ],
   "source": [
    "addInv1(6, 6)"
   ]
  },
  {
   "cell_type": "code",
   "execution_count": 12,
   "id": "2bc514eb",
   "metadata": {},
   "outputs": [
    {
     "data": {
      "text/plain": [
       "1"
      ]
     },
     "execution_count": 12,
     "metadata": {},
     "output_type": "execute_result"
    }
   ],
   "source": [
    "-17%6"
   ]
  },
  {
   "cell_type": "code",
   "execution_count": 13,
   "id": "ff9471f0",
   "metadata": {},
   "outputs": [
    {
     "data": {
      "text/plain": [
       "2"
      ]
     },
     "execution_count": 13,
     "metadata": {},
     "output_type": "execute_result"
    }
   ],
   "source": [
    "-28%6"
   ]
  },
  {
   "cell_type": "code",
   "execution_count": 14,
   "id": "07f96764",
   "metadata": {},
   "outputs": [
    {
     "data": {
      "text/plain": [
       "8"
      ]
     },
     "execution_count": 14,
     "metadata": {},
     "output_type": "execute_result"
    }
   ],
   "source": [
    "-55%9"
   ]
  },
  {
   "cell_type": "code",
   "execution_count": null,
   "id": "f797e0e3",
   "metadata": {},
   "outputs": [],
   "source": []
  }
 ],
 "metadata": {
  "kernelspec": {
   "display_name": "Python 3 (ipykernel)",
   "language": "python",
   "name": "python3"
  },
  "language_info": {
   "codemirror_mode": {
    "name": "ipython",
    "version": 3
   },
   "file_extension": ".py",
   "mimetype": "text/x-python",
   "name": "python",
   "nbconvert_exporter": "python",
   "pygments_lexer": "ipython3",
   "version": "3.10.6"
  }
 },
 "nbformat": 4,
 "nbformat_minor": 5
}
