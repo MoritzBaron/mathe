{
 "cells": [
  {
   "cell_type": "markdown",
   "id": "583b1009",
   "metadata": {},
   "source": [
    "1.\n"
   ]
  },
  {
   "cell_type": "code",
   "execution_count": 6,
   "id": "6c7766c8",
   "metadata": {},
   "outputs": [
    {
     "data": {
      "text/plain": [
       "5525"
      ]
     },
     "execution_count": 6,
     "metadata": {},
     "output_type": "execute_result"
    }
   ],
   "source": [
    "s = 0\n",
    "x = 1\n",
    "while x <= 25:\n",
    "    s += x**2 \n",
    "    x += 1\n",
    "s"
   ]
  },
  {
   "cell_type": "markdown",
   "id": "7223de9c",
   "metadata": {},
   "source": [
    "2."
   ]
  },
  {
   "cell_type": "code",
   "execution_count": 7,
   "id": "1debe738",
   "metadata": {},
   "outputs": [
    {
     "data": {
      "text/plain": [
       "20825"
      ]
     },
     "execution_count": 7,
     "metadata": {},
     "output_type": "execute_result"
    }
   ],
   "source": [
    "s = 0\n",
    "x = 1\n",
    "while x <= 49:\n",
    "    s += x**2\n",
    "    x += 2\n",
    "s"
   ]
  },
  {
   "cell_type": "markdown",
   "id": "2128f3fb",
   "metadata": {},
   "source": [
    "3."
   ]
  },
  {
   "cell_type": "code",
   "execution_count": 8,
   "id": "ad9611b4",
   "metadata": {},
   "outputs": [
    {
     "data": {
      "text/plain": [
       "2500"
      ]
     },
     "execution_count": 8,
     "metadata": {},
     "output_type": "execute_result"
    }
   ],
   "source": [
    "s = 0\n",
    "i = 1\n",
    "while i <= 100:\n",
    "    s += i\n",
    "    i += 2\n",
    "s"
   ]
  },
  {
   "cell_type": "markdown",
   "id": "b722b0ea",
   "metadata": {},
   "source": [
    "4."
   ]
  },
  {
   "cell_type": "code",
   "execution_count": 12,
   "id": "24c8b8de",
   "metadata": {},
   "outputs": [
    {
     "data": {
      "text/plain": [
       "11475"
      ]
     },
     "execution_count": 12,
     "metadata": {},
     "output_type": "execute_result"
    }
   ],
   "source": [
    "s = 0\n",
    "x = 200\n",
    "while x <= 250:\n",
    "    s += x\n",
    "    x += 1\n",
    "s"
   ]
  },
  {
   "cell_type": "markdown",
   "id": "6ccb3ea0",
   "metadata": {},
   "source": [
    "5."
   ]
  },
  {
   "cell_type": "code",
   "execution_count": 15,
   "id": "03cd8ae0",
   "metadata": {},
   "outputs": [
    {
     "data": {
      "text/plain": [
       "85456"
      ]
     },
     "execution_count": 15,
     "metadata": {},
     "output_type": "execute_result"
    }
   ],
   "source": [
    "s = 0\n",
    "x = 1\n",
    "k = 1\n",
    "while x <= 55:\n",
    "    s += k*x**3\n",
    "    x += 1\n",
    "    k *= (-1)\n",
    "s"
   ]
  },
  {
   "cell_type": "markdown",
   "id": "b57b9d7a",
   "metadata": {},
   "source": [
    "6."
   ]
  },
  {
   "cell_type": "code",
   "execution_count": 19,
   "id": "8cd3663d",
   "metadata": {},
   "outputs": [
    {
     "name": "stdout",
     "output_type": "stream",
     "text": [
      "1\n",
      "1\n",
      "3\n",
      "15\n",
      "105\n",
      "945\n",
      "10395\n",
      "135135\n",
      "2027025\n",
      "34459425\n",
      "654729075\n",
      "13749310575\n",
      "316234143225\n",
      "7905853580625\n",
      "213458046676875\n",
      "6190283353629375\n",
      "191898783962510625\n"
     ]
    },
    {
     "data": {
      "text/plain": [
       "6332659870762850625"
      ]
     },
     "execution_count": 19,
     "metadata": {},
     "output_type": "execute_result"
    }
   ],
   "source": [
    "s = 1\n",
    "x = 1\n",
    "while x <= 33:\n",
    "    print (s)\n",
    "    s *= x\n",
    "    x += 2\n",
    "s"
   ]
  },
  {
   "cell_type": "markdown",
   "id": "608a1779",
   "metadata": {},
   "source": [
    "7."
   ]
  },
  {
   "cell_type": "code",
   "execution_count": 21,
   "id": "f346708c",
   "metadata": {},
   "outputs": [
    {
     "data": {
      "text/plain": [
       "2"
      ]
     },
     "execution_count": 21,
     "metadata": {},
     "output_type": "execute_result"
    }
   ],
   "source": [
    "n = 0\n",
    "while n**7 + 1 <= 2**n:\n",
    "    n += 1\n",
    "n"
   ]
  },
  {
   "cell_type": "markdown",
   "id": "df535aea",
   "metadata": {},
   "source": [
    "8.???\n"
   ]
  },
  {
   "cell_type": "code",
   "execution_count": null,
   "id": "0119fd9e",
   "metadata": {},
   "outputs": [],
   "source": []
  }
 ],
 "metadata": {
  "kernelspec": {
   "display_name": "Python 3 (ipykernel)",
   "language": "python",
   "name": "python3"
  },
  "language_info": {
   "codemirror_mode": {
    "name": "ipython",
    "version": 3
   },
   "file_extension": ".py",
   "mimetype": "text/x-python",
   "name": "python",
   "nbconvert_exporter": "python",
   "pygments_lexer": "ipython3",
   "version": "3.10.6"
  }
 },
 "nbformat": 4,
 "nbformat_minor": 5
}
