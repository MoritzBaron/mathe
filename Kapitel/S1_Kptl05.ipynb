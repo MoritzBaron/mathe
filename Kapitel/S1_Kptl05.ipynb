{
 "cells": [
  {
   "cell_type": "markdown",
   "id": "7db774da",
   "metadata": {},
   "source": [
    "A106"
   ]
  },
  {
   "cell_type": "code",
   "execution_count": 3,
   "id": "de26219a",
   "metadata": {},
   "outputs": [],
   "source": [
    "def ggT(x, y):\n",
    "    t = x\n",
    "    if t > x:\n",
    "        t = y\n",
    "    while x % t != 0 or y % t != 0:\n",
    "        t -= 1\n",
    "    return(t)\n",
    "            \n",
    "        "
   ]
  },
  {
   "cell_type": "code",
   "execution_count": 4,
   "id": "e62ec888",
   "metadata": {},
   "outputs": [
    {
     "data": {
      "text/plain": [
       "7"
      ]
     },
     "execution_count": 4,
     "metadata": {},
     "output_type": "execute_result"
    }
   ],
   "source": [
    "ggT(42, 77)"
   ]
  },
  {
   "cell_type": "code",
   "execution_count": 13,
   "id": "cbb6fc87",
   "metadata": {},
   "outputs": [],
   "source": [
    "def GCD(a,b):\n",
    "    while a != b:\n",
    "        if a < b:\n",
    "            a, b = b, a\n",
    "        a = a - b\n",
    "        print (a)\n",
    "    return(a)"
   ]
  },
  {
   "cell_type": "code",
   "execution_count": 14,
   "id": "69308b49",
   "metadata": {},
   "outputs": [
    {
     "name": "stdout",
     "output_type": "stream",
     "text": [
      "175\n",
      "50\n",
      "125\n",
      "75\n",
      "25\n",
      "25\n"
     ]
    },
    {
     "data": {
      "text/plain": [
       "25"
      ]
     },
     "execution_count": 14,
     "metadata": {},
     "output_type": "execute_result"
    }
   ],
   "source": [
    "GCD(400, 225)"
   ]
  },
  {
   "cell_type": "code",
   "execution_count": 9,
   "id": "607fe818",
   "metadata": {},
   "outputs": [
    {
     "data": {
      "text/plain": [
       "1"
      ]
     },
     "execution_count": 9,
     "metadata": {},
     "output_type": "execute_result"
    }
   ],
   "source": [
    "GCD(233, 144)"
   ]
  },
  {
   "cell_type": "code",
   "execution_count": 15,
   "id": "131bde77",
   "metadata": {},
   "outputs": [],
   "source": [
    "def gcdMod(a,b):\n",
    "    while a != b:\n",
    "        if a < b:\n",
    "            a, b = b, a\n",
    "        a = a % b\n",
    "        print (b)\n",
    "        if a == 0:\n",
    "            break\n",
    "    return(b)"
   ]
  },
  {
   "cell_type": "code",
   "execution_count": 16,
   "id": "9956a1f9",
   "metadata": {},
   "outputs": [
    {
     "name": "stdout",
     "output_type": "stream",
     "text": [
      "225\n",
      "175\n",
      "50\n",
      "25\n"
     ]
    },
    {
     "data": {
      "text/plain": [
       "25"
      ]
     },
     "execution_count": 16,
     "metadata": {},
     "output_type": "execute_result"
    }
   ],
   "source": [
    "gcdMod(400, 225)"
   ]
  },
  {
   "cell_type": "code",
   "execution_count": 17,
   "id": "73430326",
   "metadata": {},
   "outputs": [
    {
     "name": "stdout",
     "output_type": "stream",
     "text": [
      "237\n",
      "81\n",
      "75\n",
      "6\n",
      "3\n"
     ]
    },
    {
     "data": {
      "text/plain": [
       "3"
      ]
     },
     "execution_count": 17,
     "metadata": {},
     "output_type": "execute_result"
    }
   ],
   "source": [
    "gcdMod(237,318)"
   ]
  },
  {
   "cell_type": "code",
   "execution_count": 18,
   "id": "acbf571f",
   "metadata": {},
   "outputs": [
    {
     "name": "stdout",
     "output_type": "stream",
     "text": [
      "81\n",
      "156\n",
      "75\n",
      "6\n",
      "69\n",
      "63\n",
      "57\n",
      "51\n",
      "45\n",
      "39\n",
      "33\n",
      "27\n",
      "21\n",
      "15\n",
      "9\n",
      "3\n",
      "3\n"
     ]
    },
    {
     "data": {
      "text/plain": [
       "3"
      ]
     },
     "execution_count": 18,
     "metadata": {},
     "output_type": "execute_result"
    }
   ],
   "source": [
    "GCD(237, 318)"
   ]
  },
  {
   "cell_type": "code",
   "execution_count": 19,
   "id": "6cb33ab8",
   "metadata": {},
   "outputs": [],
   "source": [
    "def convBinToDec(binList):\n",
    "    result = 0\n",
    "    for digit in binList:\n",
    "        result = result*2 + digit\n",
    "    return result"
   ]
  },
  {
   "cell_type": "code",
   "execution_count": 22,
   "id": "9d052c3c",
   "metadata": {},
   "outputs": [
    {
     "data": {
      "text/plain": [
       "42"
      ]
     },
     "execution_count": 22,
     "metadata": {},
     "output_type": "execute_result"
    }
   ],
   "source": [
    "convBinToDec([42])"
   ]
  },
  {
   "cell_type": "code",
   "execution_count": 23,
   "id": "82317555",
   "metadata": {},
   "outputs": [
    {
     "data": {
      "text/plain": [
       "1"
      ]
     },
     "execution_count": 23,
     "metadata": {},
     "output_type": "execute_result"
    }
   ],
   "source": [
    "import math\n",
    "math.gcd(99,100)"
   ]
  },
  {
   "cell_type": "code",
   "execution_count": 30,
   "id": "ccbfc2e8",
   "metadata": {},
   "outputs": [
    {
     "data": {
      "text/plain": [
       "1"
      ]
     },
     "execution_count": 30,
     "metadata": {},
     "output_type": "execute_result"
    }
   ],
   "source": [
    "from math import gcd\n",
    "gcd(99, 101)"
   ]
  },
  {
   "cell_type": "code",
   "execution_count": 26,
   "id": "1edb6758",
   "metadata": {},
   "outputs": [
    {
     "data": {
      "text/plain": [
       "(2, -1, 7)"
      ]
     },
     "execution_count": 26,
     "metadata": {},
     "output_type": "execute_result"
    }
   ],
   "source": [
    "from sympy import gcdex\n",
    "gcdex(42, 77)"
   ]
  },
  {
   "cell_type": "code",
   "execution_count": 27,
   "id": "69ca2685",
   "metadata": {},
   "outputs": [
    {
     "data": {
      "text/plain": [
       "(-3, 5, 1)"
      ]
     },
     "execution_count": 27,
     "metadata": {},
     "output_type": "execute_result"
    }
   ],
   "source": [
    "gcdex(18, 11)"
   ]
  },
  {
   "cell_type": "code",
   "execution_count": 29,
   "id": "49df7060",
   "metadata": {},
   "outputs": [
    {
     "data": {
      "text/plain": [
       "(-3, 5, 1)"
      ]
     },
     "execution_count": 29,
     "metadata": {},
     "output_type": "execute_result"
    }
   ],
   "source": [
    "import sympy\n",
    "sympy.gcdex(18,11)"
   ]
  },
  {
   "cell_type": "code",
   "execution_count": null,
   "id": "49c070bf",
   "metadata": {},
   "outputs": [],
   "source": []
  }
 ],
 "metadata": {
  "kernelspec": {
   "display_name": "Python 3 (ipykernel)",
   "language": "python",
   "name": "python3"
  },
  "language_info": {
   "codemirror_mode": {
    "name": "ipython",
    "version": 3
   },
   "file_extension": ".py",
   "mimetype": "text/x-python",
   "name": "python",
   "nbconvert_exporter": "python",
   "pygments_lexer": "ipython3",
   "version": "3.10.6"
  }
 },
 "nbformat": 4,
 "nbformat_minor": 5
}
