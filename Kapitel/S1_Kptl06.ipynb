{
 "cells": [
  {
   "cell_type": "code",
   "execution_count": 6,
   "id": "d19779f5",
   "metadata": {},
   "outputs": [],
   "source": [
    "def checkISBN(digits):\n",
    "    factor = 1\n",
    "    sum = 0\n",
    "    for digit in digits:\n",
    "        sum += factor * int(digit)\n",
    "        factor += 1\n",
    "    return sum % 11"
   ]
  },
  {
   "cell_type": "code",
   "execution_count": 7,
   "id": "64325bfd",
   "metadata": {},
   "outputs": [
    {
     "data": {
      "text/plain": [
       "4"
      ]
     },
     "execution_count": 7,
     "metadata": {},
     "output_type": "execute_result"
    }
   ],
   "source": [
    "checkISBN(\"148421177\")"
   ]
  },
  {
   "cell_type": "code",
   "execution_count": 8,
   "id": "88100531",
   "metadata": {},
   "outputs": [
    {
     "data": {
      "text/plain": [
       "0"
      ]
     },
     "execution_count": 8,
     "metadata": {},
     "output_type": "execute_result"
    }
   ],
   "source": [
    "checkISBN(\"1484211774\")"
   ]
  },
  {
   "cell_type": "code",
   "execution_count": 9,
   "id": "587c5621",
   "metadata": {},
   "outputs": [
    {
     "data": {
      "text/plain": [
       "0"
      ]
     },
     "execution_count": 9,
     "metadata": {},
     "output_type": "execute_result"
    }
   ],
   "source": [
    "checkISBN(\"3034603274\")"
   ]
  },
  {
   "cell_type": "code",
   "execution_count": 10,
   "id": "1ea119e8",
   "metadata": {},
   "outputs": [
    {
     "data": {
      "text/plain": [
       "0"
      ]
     },
     "execution_count": 10,
     "metadata": {},
     "output_type": "execute_result"
    }
   ],
   "source": [
    "checkISBN(\"3662628791\")"
   ]
  },
  {
   "cell_type": "code",
   "execution_count": 14,
   "id": "3d6f7bc2",
   "metadata": {},
   "outputs": [
    {
     "data": {
      "text/plain": [
       "3"
      ]
     },
     "execution_count": 14,
     "metadata": {},
     "output_type": "execute_result"
    }
   ],
   "source": [
    "checkISBN(\"1484211674\")"
   ]
  },
  {
   "cell_type": "code",
   "execution_count": 15,
   "id": "0ee5b3e6",
   "metadata": {},
   "outputs": [
    {
     "data": {
      "text/plain": [
       "6"
      ]
     },
     "execution_count": 15,
     "metadata": {},
     "output_type": "execute_result"
    }
   ],
   "source": [
    "checkISBN(\"1484221774\")"
   ]
  },
  {
   "cell_type": "code",
   "execution_count": 16,
   "id": "dcc1decb",
   "metadata": {},
   "outputs": [
    {
     "data": {
      "text/plain": [
       "(mpz(67), 105)"
      ]
     },
     "execution_count": 16,
     "metadata": {},
     "output_type": "execute_result"
    }
   ],
   "source": [
    "from sympy.ntheory.modular import crt\n",
    "crt([3, 5, 7],[1, 2, 4])#[module],[konguenzen]"
   ]
  },
  {
   "cell_type": "code",
   "execution_count": 20,
   "id": "711662b4",
   "metadata": {},
   "outputs": [
    {
     "data": {
      "text/plain": [
       "(mpz(26), 231)"
      ]
     },
     "execution_count": 20,
     "metadata": {},
     "output_type": "execute_result"
    }
   ],
   "source": [
    "crt([3, 7, 11],[2, 5, 4])"
   ]
  },
  {
   "cell_type": "code",
   "execution_count": null,
   "id": "7131dbf6",
   "metadata": {},
   "outputs": [],
   "source": []
  }
 ],
 "metadata": {
  "kernelspec": {
   "display_name": "Python 3 (ipykernel)",
   "language": "python",
   "name": "python3"
  },
  "language_info": {
   "codemirror_mode": {
    "name": "ipython",
    "version": 3
   },
   "file_extension": ".py",
   "mimetype": "text/x-python",
   "name": "python",
   "nbconvert_exporter": "python",
   "pygments_lexer": "ipython3",
   "version": "3.9.10"
  }
 },
 "nbformat": 4,
 "nbformat_minor": 5
}
