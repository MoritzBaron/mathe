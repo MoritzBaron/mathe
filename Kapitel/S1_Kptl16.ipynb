{
 "cells": [
  {
   "cell_type": "code",
   "execution_count": 2,
   "id": "197b15c8",
   "metadata": {},
   "outputs": [
    {
     "data": {
      "text/plain": [
       "{frozenset({1}), frozenset({2, 3})}"
      ]
     },
     "execution_count": 2,
     "metadata": {},
     "output_type": "execute_result"
    }
   ],
   "source": [
    "A = frozenset({1})\n",
    "B = frozenset({2,3})\n",
    "C = ({A,B})\n",
    "C"
   ]
  },
  {
   "cell_type": "code",
   "execution_count": 3,
   "id": "592e9aa1",
   "metadata": {},
   "outputs": [
    {
     "data": {
      "text/plain": [
       "(False, True)"
      ]
     },
     "execution_count": 3,
     "metadata": {},
     "output_type": "execute_result"
    }
   ],
   "source": [
    "1 in C, frozenset({frozenset({1})}) <= C"
   ]
  },
  {
   "cell_type": "code",
   "execution_count": 6,
   "id": "d57cfad1",
   "metadata": {},
   "outputs": [],
   "source": [
    "def pair(x,y):\n",
    "    return frozenset({frozenset({x}),frozenset({x,y})})"
   ]
  },
  {
   "cell_type": "code",
   "execution_count": 8,
   "id": "bef7650c",
   "metadata": {},
   "outputs": [],
   "source": [
    "def cartesianProduct(A,B):\n",
    "    return{(a,b)for a in A for b in B}"
   ]
  },
  {
   "cell_type": "code",
   "execution_count": 9,
   "id": "72577f57",
   "metadata": {},
   "outputs": [],
   "source": [
    "def testUnion(A,B):\n",
    "    return len(A|B), len(A) + len(B)"
   ]
  },
  {
   "cell_type": "code",
   "execution_count": 10,
   "id": "28b32ec6",
   "metadata": {},
   "outputs": [
    {
     "data": {
      "text/plain": [
       "(6, 6)"
      ]
     },
     "execution_count": 10,
     "metadata": {},
     "output_type": "execute_result"
    }
   ],
   "source": [
    "testUnion({1,2,3},{4,5,6})"
   ]
  },
  {
   "cell_type": "code",
   "execution_count": 11,
   "id": "9df21422",
   "metadata": {},
   "outputs": [
    {
     "data": {
      "text/plain": [
       "(5, 6)"
      ]
     },
     "execution_count": 11,
     "metadata": {},
     "output_type": "execute_result"
    }
   ],
   "source": [
    "testUnion({1,2,3},{3,4,5})"
   ]
  },
  {
   "cell_type": "code",
   "execution_count": 12,
   "id": "03be8409",
   "metadata": {},
   "outputs": [
    {
     "data": {
      "text/plain": [
       "228"
      ]
     },
     "execution_count": 12,
     "metadata": {},
     "output_type": "execute_result"
    }
   ],
   "source": [
    "c = 0\n",
    "for n in range(1000):\n",
    "    if n%2 != 0 and n%3!=0 and n%5!=0 and n%7!=0:\n",
    "        c += 1\n",
    "c"
   ]
  },
  {
   "cell_type": "code",
   "execution_count": 6,
   "id": "169412e5",
   "metadata": {},
   "outputs": [
    {
     "data": {
      "text/plain": [
       "235"
      ]
     },
     "execution_count": 6,
     "metadata": {},
     "output_type": "execute_result"
    }
   ],
   "source": [
    "#281\n",
    "def identicalDigits(n):\n",
    "    D = {n % 10}\n",
    "    d10 = (n % 100) // 10\n",
    "    d100 = n // 100\n",
    "    if d100 != 0:\n",
    "        D.add(d100)\n",
    "    if d10 != 0 or d100 != 0:\n",
    "        D.add(d10)\n",
    "    return len(D) == 1\n",
    "c = 0\n",
    "for i in range(1,1000):\n",
    "    if 9 < i < 100 or i%7 == 0 or identicalDigits(i):\n",
    "        c += 1\n",
    "c"
   ]
  },
  {
   "cell_type": "code",
   "execution_count": 13,
   "id": "a0040511",
   "metadata": {},
   "outputs": [
    {
     "data": {
      "text/plain": [
       "930"
      ]
     },
     "execution_count": 13,
     "metadata": {},
     "output_type": "execute_result"
    }
   ],
   "source": [
    "30*31"
   ]
  },
  {
   "cell_type": "code",
   "execution_count": 14,
   "id": "864c7b44",
   "metadata": {},
   "outputs": [
    {
     "data": {
      "text/plain": [
       "465.0"
      ]
     },
     "execution_count": 14,
     "metadata": {},
     "output_type": "execute_result"
    }
   ],
   "source": [
    "930/2"
   ]
  },
  {
   "cell_type": "code",
   "execution_count": 15,
   "id": "2f1c240d",
   "metadata": {},
   "outputs": [
    {
     "data": {
      "text/plain": [
       "1860"
      ]
     },
     "execution_count": 15,
     "metadata": {},
     "output_type": "execute_result"
    }
   ],
   "source": [
    "465*4\n"
   ]
  },
  {
   "cell_type": "code",
   "execution_count": 20,
   "id": "4f6e3d11",
   "metadata": {},
   "outputs": [],
   "source": [
    "def sumEigen(s, a, b):\n",
    "    result = 0\n",
    "    k = a\n",
    "    while k<=b:\n",
    "        result += s*(k)\n",
    "        k += 1\n",
    "    return result"
   ]
  },
  {
   "cell_type": "code",
   "execution_count": 21,
   "id": "23612947",
   "metadata": {},
   "outputs": [
    {
     "data": {
      "text/plain": [
       "45"
      ]
     },
     "execution_count": 21,
     "metadata": {},
     "output_type": "execute_result"
    }
   ],
   "source": [
    "sumEigen(1,1, 9)"
   ]
  },
  {
   "cell_type": "code",
   "execution_count": 22,
   "id": "18450dbc",
   "metadata": {},
   "outputs": [
    {
     "data": {
      "text/plain": [
       "0"
      ]
     },
     "execution_count": 22,
     "metadata": {},
     "output_type": "execute_result"
    }
   ],
   "source": [
    "sumEigen(3,1,0)"
   ]
  },
  {
   "cell_type": "code",
   "execution_count": 23,
   "id": "5913fca7",
   "metadata": {},
   "outputs": [
    {
     "data": {
      "text/plain": [
       "1860"
      ]
     },
     "execution_count": 23,
     "metadata": {},
     "output_type": "execute_result"
    }
   ],
   "source": [
    "sumEigen(4,1,30)"
   ]
  },
  {
   "cell_type": "code",
   "execution_count": 8,
   "id": "ced708e6",
   "metadata": {},
   "outputs": [],
   "source": [
    "#283\n",
    "leere Summe = 0"
   ]
  },
  {
   "cell_type": "code",
   "execution_count": null,
   "id": "c135d273",
   "metadata": {},
   "outputs": [],
   "source": []
  }
 ],
 "metadata": {
  "kernelspec": {
   "display_name": "Python 3 (ipykernel)",
   "language": "python",
   "name": "python3"
  },
  "language_info": {
   "codemirror_mode": {
    "name": "ipython",
    "version": 3
   },
   "file_extension": ".py",
   "mimetype": "text/x-python",
   "name": "python",
   "nbconvert_exporter": "python",
   "pygments_lexer": "ipython3",
   "version": "3.10.6"
  }
 },
 "nbformat": 4,
 "nbformat_minor": 5
}
