{
 "cells": [
  {
   "cell_type": "code",
   "execution_count": 1,
   "id": "448f39ae",
   "metadata": {},
   "outputs": [],
   "source": [
    "#684\n",
    "def genFrac():\n",
    "    n = 1 \n",
    "    while True:\n",
    "        yield Fraction(1,n)\n",
    "        n += 1"
   ]
  },
  {
   "cell_type": "code",
   "execution_count": 2,
   "id": "34c37f1d",
   "metadata": {},
   "outputs": [],
   "source": [
    "#685\n",
    "def gen1():\n",
    "    n = 1\n",
    "    while True:\n",
    "        yield n\n",
    "        n *= 3\n",
    "        \n",
    "def gen2():\n",
    "    n = Fraction(1)\n",
    "    while True:\n",
    "        yield n\n",
    "        n *= -Fraction(1, 2)\n",
    "        \n",
    "def gen3():\n",
    "    v = 1\n",
    "    n = 1\n",
    "    while True:\n",
    "        yield n\n",
    "        v += 1\n",
    "        n += v"
   ]
  },
  {
   "cell_type": "code",
   "execution_count": 2,
   "id": "be19c0ae",
   "metadata": {},
   "outputs": [
    {
     "name": "stdout",
     "output_type": "stream",
     "text": [
      "              1:0.5\n",
      "             10:0.9090909090909091\n",
      "            100:0.9900990099009901\n",
      "           1000:0.999000999000999\n",
      "          10000:0.9999000099990001\n",
      "         100000:0.999990000099999\n",
      "        1000000:0.999999000001\n",
      "       10000000:0.99999990000001\n",
      "      100000000:0.9999999900000001\n",
      "     1000000000:0.999999999\n"
     ]
    }
   ],
   "source": [
    "def someValues(seq, L = [10**k for k in range(10)]):\n",
    "    for n in L:\n",
    "        print(\"{:> 15}:{}\".format(n, seq(n)))\n",
    "        \n",
    "someValues(lambda n: n / (n+1))"
   ]
  },
  {
   "cell_type": "code",
   "execution_count": null,
   "id": "42b0d9f3",
   "metadata": {},
   "outputs": [],
   "source": [
    "#686\n",
    "[X][X][]"
   ]
  },
  {
   "cell_type": "code",
   "execution_count": null,
   "id": "08ba5b09",
   "metadata": {},
   "outputs": [],
   "source": [
    "#687\n",
    "nein ((-1)**n) konvergiert nicht, gibt abwechselnd -1 und 1 aus"
   ]
  },
  {
   "cell_type": "code",
   "execution_count": null,
   "id": "bc4296ab",
   "metadata": {},
   "outputs": [],
   "source": [
    "#688\n",
    "n/n+1 = (n+1)-1 / (n+1)  =1 - 1/n+1 "
   ]
  },
  {
   "cell_type": "code",
   "execution_count": 2,
   "id": "54d4734b",
   "metadata": {},
   "outputs": [
    {
     "name": "stdout",
     "output_type": "stream",
     "text": [
      "              1:-1.0\n",
      "             10:0.1\n",
      "            100:0.01\n",
      "           1000:0.001\n",
      "          10000:0.0001\n",
      "         100000:1e-05\n",
      "        1000000:1e-06\n",
      "       10000000:1e-07\n",
      "      100000000:1e-08\n",
      "     1000000000:1e-09\n"
     ]
    }
   ],
   "source": [
    "#689\n",
    "someValues(lambda n: (-1)**n/n)\n",
    "#gegen Null"
   ]
  },
  {
   "cell_type": "code",
   "execution_count": 4,
   "id": "152a9d58",
   "metadata": {},
   "outputs": [
    {
     "name": "stdout",
     "output_type": "stream",
     "text": [
      "              1:0.6666666666666666\n",
      "             10:0.017341529915832606\n",
      "            100:2.4596544265798157e-18\n",
      "           1000:8.104774656527117e-177\n",
      "          10000:0.0\n",
      "         100000:0.0\n",
      "        1000000:0.0\n",
      "       10000000:0.0\n",
      "      100000000:0.0\n",
      "     1000000000:0.0\n"
     ]
    }
   ],
   "source": [
    "someValues(lambda n: (2/3)**n)\n",
    "#gegen unendlich"
   ]
  },
  {
   "cell_type": "code",
   "execution_count": null,
   "id": "540df5f1",
   "metadata": {},
   "outputs": [],
   "source": [
    "someValues(lambda n: (3/2)**n)\n",
    "#gegen unendlich"
   ]
  },
  {
   "cell_type": "code",
   "execution_count": 10,
   "id": "014ea822",
   "metadata": {},
   "outputs": [
    {
     "name": "stdout",
     "output_type": "stream",
     "text": [
      "              1:42.0\n",
      "             10:1.4531984602822678\n",
      "            100:1.0380839894716327\n",
      "           1000:1.0037446634161584\n",
      "          10000:1.0003738368214026\n",
      "         100000:1.0000373773947002\n",
      "        1000000:1.0000037376766033\n",
      "       10000000:1.0000003737670318\n",
      "      100000000:1.0000000373766968\n",
      "     1000000000:1.0000000037376697\n"
     ]
    }
   ],
   "source": [
    "someValues(lambda n : 42**(1/n))\n",
    "#gegen 1"
   ]
  },
  {
   "cell_type": "code",
   "execution_count": 11,
   "id": "8e4cb9f4",
   "metadata": {},
   "outputs": [
    {
     "name": "stdout",
     "output_type": "stream",
     "text": [
      "              1:1.0\n",
      "             10:1.2589254117941673\n",
      "            100:1.0471285480508996\n",
      "           1000:1.0069316688518042\n",
      "          10000:1.0009214583192958\n",
      "         100000:1.0001151358822766\n",
      "        1000000:1.0000138156059926\n",
      "       10000000:1.000001611810864\n",
      "      100000000:1.0000001842068245\n",
      "     1000000000:1.000000020723266\n"
     ]
    }
   ],
   "source": [
    "someValues(lambda n: n ** (1 / n))\n",
    "#gegen 1"
   ]
  },
  {
   "cell_type": "code",
   "execution_count": 13,
   "id": "f9cb1f07",
   "metadata": {},
   "outputs": [
    {
     "name": "stdout",
     "output_type": "stream",
     "text": [
      "              1:5.0\n",
      "              2:12.5\n",
      "             10:2.6911444554673722\n",
      "             20:3.919904349624791e-05\n",
      "            100:8.45272575844283e-89\n"
     ]
    }
   ],
   "source": [
    "import math\n",
    "someValues(lambda n: (5 ** n) / math.factorial(n),\n",
    "[1, 2, 10, 20, 100])\n",
    "#gegen unendlich"
   ]
  },
  {
   "cell_type": "code",
   "execution_count": 14,
   "id": "5bf80bd6",
   "metadata": {},
   "outputs": [
    {
     "name": "stdout",
     "output_type": "stream",
     "text": [
      "              1:0.5\n",
      "             10:0.9765625\n",
      "            100:7.888609052210118e-25\n",
      "           1000:9.332636185032189e-293\n",
      "          10000:0.0\n",
      "         100000:0.0\n",
      "        1000000:0.0\n",
      "       10000000:0.0\n",
      "      100000000:0.0\n",
      "     1000000000:0.0\n"
     ]
    }
   ],
   "source": [
    "someValues(lambda n: (n ** 3) / (2 ** n))\n",
    "#gegen unendlich"
   ]
  },
  {
   "cell_type": "code",
   "execution_count": 15,
   "id": "355ed251",
   "metadata": {},
   "outputs": [
    {
     "name": "stdout",
     "output_type": "stream",
     "text": [
      "              1:2.0\n",
      "             10:2.5937424601000023\n",
      "            100:2.7048138294215285\n",
      "           1000:2.7169239322355936\n",
      "          10000:2.7181459268249255\n",
      "         100000:2.7182682371922975\n",
      "        1000000:2.7182804690957534\n",
      "       10000000:2.7182816941320818\n",
      "      100000000:2.7182817983473577\n",
      "     1000000000:2.7182820520115603\n"
     ]
    }
   ],
   "source": [
    "someValues(lambda n: ((n + 1) / n) ** n)\n",
    "#gegen eulersche zahl 2.718.."
   ]
  },
  {
   "cell_type": "code",
   "execution_count": null,
   "id": "cfd2244a",
   "metadata": {},
   "outputs": [],
   "source": [
    "#690\n",
    "#Gilt |q| = 1 und ist q reell, so ist q = 1 oder q = −1. Im ersten Fall ist\n",
    "#die geometrische Folge (qn ) die Folge, die konstant den Wert 1 hat. Im zweiten Fall\n",
    "#ist (qn ) eine Folge, die abwechselnd die Werte 1 und −1 annimmt."
   ]
  },
  {
   "cell_type": "code",
   "execution_count": null,
   "id": "654b89d6",
   "metadata": {},
   "outputs": [],
   "source": [
    "#691\n",
    "#mit z = 1 bekommt man 1 + 1/n = (n+1)/n"
   ]
  },
  {
   "cell_type": "code",
   "execution_count": 16,
   "id": "f3aea930",
   "metadata": {},
   "outputs": [
    {
     "name": "stdout",
     "output_type": "stream",
     "text": [
      "              1:2.0\n",
      "             10:2.5937424601000023\n",
      "            100:2.7048138294215285\n",
      "           1000:2.7169239322355936\n",
      "          10000:2.7181459268249255\n",
      "         100000:2.7182682371922975\n",
      "        1000000:2.7182804690957534\n",
      "       10000000:2.7182816941320818\n",
      "      100000000:2.7182817983473577\n",
      "     1000000000:2.7182820520115603\n"
     ]
    }
   ],
   "source": [
    "#692\n",
    "someValues(lambda n: (1+ 1/n)**n)\n",
    "#geld würde sich bei 2.718 einpendeln"
   ]
  },
  {
   "cell_type": "code",
   "execution_count": null,
   "id": "b752a9c1",
   "metadata": {},
   "outputs": [],
   "source": [
    "#693\n",
    "someValues(lambda n: ((n**20)*(10000**n)/(100001**n)))\n",
    "#sobald p**n und p im Zähler < als p im Nenner dann konvergiert die Folge gegen 0"
   ]
  },
  {
   "cell_type": "code",
   "execution_count": null,
   "id": "64b904db",
   "metadata": {},
   "outputs": [],
   "source": [
    "#694\n",
    "Die erste Regel folgt aus der für das Produkt ( an bn ), wenn man für (bn )\n",
    "die konstante Folge (λ) wählt."
   ]
  },
  {
   "cell_type": "code",
   "execution_count": null,
   "id": "085beed1",
   "metadata": {},
   "outputs": [],
   "source": [
    "#695\n",
    "die Folge hat ur endlich viele Folgenglieder die Null sind und diese weden einfach ignoriert"
   ]
  },
  {
   "cell_type": "code",
   "execution_count": null,
   "id": "84e0770e",
   "metadata": {},
   "outputs": [],
   "source": [
    "#696\n",
    "siehe Aufgabe #689"
   ]
  },
  {
   "cell_type": "code",
   "execution_count": 3,
   "id": "c0b0b46c",
   "metadata": {},
   "outputs": [
    {
     "name": "stdout",
     "output_type": "stream",
     "text": [
      "              1:1.0\n",
      "             10:1.023292992280754\n",
      "            100:1.0004606230728403\n",
      "           1000:1.0000069077791376\n",
      "          10000:1.000000092103408\n",
      "         100000:1.0000000011512926\n",
      "        1000000:1.0000000000138156\n",
      "       10000000:1.0000000000001612\n",
      "      100000000:1.0000000000000018\n",
      "     1000000000:1.0\n"
     ]
    }
   ],
   "source": [
    "#697\n",
    "someValues(lambda n: (n**(1/n)**2))\n",
    "#Grenzwert = 1"
   ]
  },
  {
   "cell_type": "code",
   "execution_count": null,
   "id": "21e36194",
   "metadata": {},
   "outputs": [],
   "source": [
    "#698\n",
    "umformung siehe Lösungen\n",
    "#Grenzwert = e*(1/e) = 1"
   ]
  },
  {
   "cell_type": "code",
   "execution_count": null,
   "id": "6c969f6a",
   "metadata": {},
   "outputs": [],
   "source": [
    "#haben Zähler und Nenner den gleichen Grad, dann konvergiert die fFolge gegen den Quotienten der Leitkoeffizienten\n",
    "#Ist der Grad des Nenners größer als der des Zählers ao ist die Folge eine Nullfolge\n",
    "#Ist der Grad des Nenners kleiner als der des Zählers dann divergiert die Folge"
   ]
  },
  {
   "cell_type": "code",
   "execution_count": null,
   "id": "9852c492",
   "metadata": {},
   "outputs": [],
   "source": [
    "#699\n",
    "#Gleicher Grad -> 7/(1/6) --> konvergiert gegen 42\n",
    "#Grad des Zählers größer als der des Nenners -> folge divergiert"
   ]
  },
  {
   "cell_type": "code",
   "execution_count": null,
   "id": "a54f2550",
   "metadata": {},
   "outputs": [],
   "source": [
    "#700\n",
    "Der Zähler hat den gleichen Grad wie der Nenner -> konvergiert gegen n**2/n**2 = 1"
   ]
  },
  {
   "cell_type": "code",
   "execution_count": null,
   "id": "7651b994",
   "metadata": {},
   "outputs": [],
   "source": [
    "#701\n",
    "Die Umkehrung gilt nicht"
   ]
  },
  {
   "cell_type": "code",
   "execution_count": null,
   "id": "c21a7dc9",
   "metadata": {},
   "outputs": [],
   "source": [
    "#702\n",
    "konvergiert nich weil jede Zahl unendlich oft \"besucht\" wird. Also können nicht fast alle Folgeglieder innerhalb\n",
    "eines Intervalls liegen"
   ]
  },
  {
   "cell_type": "code",
   "execution_count": null,
   "id": "da015e76",
   "metadata": {},
   "outputs": [],
   "source": [
    "#703\n",
    "Zusatzaufgabe"
   ]
  },
  {
   "cell_type": "code",
   "execution_count": null,
   "id": "95fac331",
   "metadata": {},
   "outputs": [],
   "source": [
    "#704\n",
    "nur der erste Wert"
   ]
  },
  {
   "cell_type": "code",
   "execution_count": null,
   "id": "3677bcff",
   "metadata": {},
   "outputs": [],
   "source": [
    "#705\n",
    "Im ersten Fall wurde mit Langzahlarythmetik gerechnet bevor dividiert wird weil beide Operanten gaze zahlen waren.\n",
    "im zweiten Fall ging es schneller weil man den komputer gezwungen hat in Fließkommazahlen zu rechnen. Das ergebnis\n",
    "wird ungenauer aber geht wesentlich schneller"
   ]
  },
  {
   "cell_type": "code",
   "execution_count": 5,
   "id": "8f24a128",
   "metadata": {},
   "outputs": [
    {
     "data": {
      "text/latex": [
       "$\\displaystyle 0$"
      ],
      "text/plain": [
       "0"
      ]
     },
     "execution_count": 5,
     "metadata": {},
     "output_type": "execute_result"
    }
   ],
   "source": [
    "\n",
    "def seqX (n):\n",
    "    return (n ** 20) * (100000 ** n) / (100001 ** n)\n",
    "\n",
    "from sympy import *\n",
    "n = symbols(\"n\")\n",
    "limit(seqX(n), n, oo)"
   ]
  },
  {
   "cell_type": "code",
   "execution_count": 6,
   "id": "f8c816d1",
   "metadata": {},
   "outputs": [
    {
     "data": {
      "text/latex": [
       "$\\displaystyle \\infty$"
      ],
      "text/plain": [
       "oo"
      ]
     },
     "execution_count": 6,
     "metadata": {},
     "output_type": "execute_result"
    }
   ],
   "source": [
    "f = (5*n**2 - 8*n+12)/ (100*n + 42)\n",
    "limit(f, n, oo)"
   ]
  },
  {
   "cell_type": "code",
   "execution_count": 9,
   "id": "58e806ec",
   "metadata": {},
   "outputs": [
    {
     "data": {
      "text/latex": [
       "$\\displaystyle c$"
      ],
      "text/plain": [
       "c"
      ]
     },
     "execution_count": 9,
     "metadata": {},
     "output_type": "execute_result"
    }
   ],
   "source": [
    "a, c = symbols(\"a c\")\n",
    "limit(c * a **(1/n), n, oo)"
   ]
  },
  {
   "cell_type": "code",
   "execution_count": null,
   "id": "8e47c847",
   "metadata": {},
   "outputs": [],
   "source": [
    "limit((-1)**n / n, n, oo)\n",
    "-> Fehlermeldung"
   ]
  },
  {
   "cell_type": "code",
   "execution_count": null,
   "id": "7912cfd5",
   "metadata": {},
   "outputs": [],
   "source": [
    "#706\n",
    "Die Folge (n3 /bn ) konvergiert nur dann, wenn |b| größer als eins ist\n",
    "(siehe Seite 460), daher wäre es falsch, wenn SymPy hier einfach mit 0 antworten\n",
    "würde."
   ]
  },
  {
   "cell_type": "code",
   "execution_count": 12,
   "id": "7cc3cbcf",
   "metadata": {},
   "outputs": [
    {
     "data": {
      "text/latex": [
       "$\\displaystyle 42$"
      ],
      "text/plain": [
       "42"
      ]
     },
     "execution_count": 12,
     "metadata": {},
     "output_type": "execute_result"
    }
   ],
   "source": [
    "#707\n",
    "limit(Integer(42), n, oo)"
   ]
  },
  {
   "cell_type": "code",
   "execution_count": 14,
   "id": "d0203461",
   "metadata": {},
   "outputs": [
    {
     "data": {
      "text/latex": [
       "$\\displaystyle 2$"
      ],
      "text/plain": [
       "2"
      ]
     },
     "execution_count": 14,
     "metadata": {},
     "output_type": "execute_result"
    }
   ],
   "source": [
    "#708\n",
    "limit((4**(n+1) + 2**n)/((4**n)+ (2**(2*n))), n, oo)"
   ]
  },
  {
   "cell_type": "code",
   "execution_count": 17,
   "id": "28f6f55b",
   "metadata": {},
   "outputs": [],
   "source": [
    "#709\n",
    "w = -2 + i\n",
    "z = 3 + 2*i\n",
    "g = -5 - 1 -> |w-z| = sqrt(5**2 + 1**2) = sqrt(26)"
   ]
  },
  {
   "cell_type": "code",
   "execution_count": null,
   "id": "cd53ab7a",
   "metadata": {},
   "outputs": [],
   "source": [
    "#710\n"
   ]
  },
  {
   "cell_type": "code",
   "execution_count": 18,
   "id": "6b9e3818",
   "metadata": {},
   "outputs": [
    {
     "data": {
      "text/latex": [
       "$\\displaystyle 2$"
      ],
      "text/plain": [
       "2"
      ]
     },
     "execution_count": 18,
     "metadata": {},
     "output_type": "execute_result"
    }
   ],
   "source": [
    "#711\n",
    "i = symbols(\"i\")\n",
    "limit(2+(i/n), n, oo)"
   ]
  },
  {
   "cell_type": "code",
   "execution_count": null,
   "id": "346d3002",
   "metadata": {},
   "outputs": [],
   "source": [
    "#712\n",
    "nein"
   ]
  },
  {
   "cell_type": "code",
   "execution_count": null,
   "id": "74903a2b",
   "metadata": {},
   "outputs": [],
   "source": [
    "#713\n",
    "die Folgeglieder ordnen sich um die 0 an aber die folge konvergiert tzdm gegen 0"
   ]
  },
  {
   "cell_type": "code",
   "execution_count": null,
   "id": "ba1fb601",
   "metadata": {},
   "outputs": [],
   "source": [
    "#714\n",
    "z = 42i + ((4+2i)**n)/(factorial(n))\n",
    "da der rechte term bei n gegen unendlich gegen Null konvergiert ist Z = 42*i + 0; die Folge konvergiert gegen 42*i"
   ]
  },
  {
   "cell_type": "code",
   "execution_count": null,
   "id": "93fe8a50",
   "metadata": {},
   "outputs": [],
   "source": []
  }
 ],
 "metadata": {
  "kernelspec": {
   "display_name": "Python 3 (ipykernel)",
   "language": "python",
   "name": "python3"
  },
  "language_info": {
   "codemirror_mode": {
    "name": "ipython",
    "version": 3
   },
   "file_extension": ".py",
   "mimetype": "text/x-python",
   "name": "python",
   "nbconvert_exporter": "python",
   "pygments_lexer": "ipython3",
   "version": "3.10.6"
  }
 },
 "nbformat": 4,
 "nbformat_minor": 5
}
