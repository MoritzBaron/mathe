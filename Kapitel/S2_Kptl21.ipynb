{
 "cells": [
  {
   "cell_type": "code",
   "execution_count": 4,
   "id": "c4a77d7d",
   "metadata": {},
   "outputs": [],
   "source": [
    "from fractions import Fraction"
   ]
  },
  {
   "cell_type": "code",
   "execution_count": 1,
   "id": "7c36158e",
   "metadata": {},
   "outputs": [
    {
     "data": {
      "text/latex": [
       "$\\displaystyle 2.82842712474619009760337744842$"
      ],
      "text/plain": [
       "2.82842712474619009760337744842"
      ]
     },
     "execution_count": 1,
     "metadata": {},
     "output_type": "execute_result"
    }
   ],
   "source": [
    "from sympy import *\n",
    "sqrt(8).evalf(30)"
   ]
  },
  {
   "cell_type": "code",
   "execution_count": 2,
   "id": "ef502c60",
   "metadata": {},
   "outputs": [
    {
     "data": {
      "text/latex": [
       "$\\displaystyle 3.1416$"
      ],
      "text/plain": [
       "3.1416"
      ]
     },
     "execution_count": 2,
     "metadata": {},
     "output_type": "execute_result"
    }
   ],
   "source": [
    "N(pi,5)"
   ]
  },
  {
   "cell_type": "code",
   "execution_count": 3,
   "id": "b54fa044",
   "metadata": {},
   "outputs": [
    {
     "data": {
      "text/latex": [
       "$\\displaystyle 2.0$"
      ],
      "text/plain": [
       "2.00000000000000"
      ]
     },
     "execution_count": 3,
     "metadata": {},
     "output_type": "execute_result"
    }
   ],
   "source": [
    "sqrt(8/2)"
   ]
  },
  {
   "cell_type": "code",
   "execution_count": 7,
   "id": "c5f0edc3",
   "metadata": {},
   "outputs": [
    {
     "data": {
      "text/plain": [
       "(2, 2)"
      ]
     },
     "execution_count": 7,
     "metadata": {},
     "output_type": "execute_result"
    }
   ],
   "source": [
    "#413\n",
    "sqrt(Fraction(8,2)),sqrt(Rational(8,2))"
   ]
  },
  {
   "cell_type": "code",
   "execution_count": 8,
   "id": "d40be16d",
   "metadata": {},
   "outputs": [
    {
     "data": {
      "text/latex": [
       "$\\displaystyle 2$"
      ],
      "text/plain": [
       "2"
      ]
     },
     "execution_count": 8,
     "metadata": {},
     "output_type": "execute_result"
    }
   ],
   "source": [
    "#414\n",
    "sqrt(sqrt(64)/2)\n",
    "-> weil das ergebnis von sqrt(64) ein sympy objekt ist wird danach die division auch als sympy objekt ausgegeben\n",
    "-> ergebnis wird exact dargestellt"
   ]
  },
  {
   "cell_type": "code",
   "execution_count": 9,
   "id": "db73d73c",
   "metadata": {},
   "outputs": [
    {
     "data": {
      "text/plain": [
       "(2, 2)"
      ]
     },
     "execution_count": 9,
     "metadata": {},
     "output_type": "execute_result"
    }
   ],
   "source": [
    "sqrt(sympify(8)/2), sqrt(sympify(\"8/2\")), "
   ]
  },
  {
   "cell_type": "code",
   "execution_count": 10,
   "id": "7185d0e3",
   "metadata": {},
   "outputs": [
    {
     "data": {
      "text/latex": [
       "$\\displaystyle 2.0$"
      ],
      "text/plain": [
       "2.00000000000000"
      ]
     },
     "execution_count": 10,
     "metadata": {},
     "output_type": "execute_result"
    }
   ],
   "source": [
    "#415\n",
    "sqrt(sympify(8/2))\n",
    "-> Es wird zuerst 8/2 von python gerechnet, dadurch wird eine fließkommazahl an sympy weitergegeben und nichtmehr verändert"
   ]
  },
  {
   "cell_type": "code",
   "execution_count": 11,
   "id": "09461b7f",
   "metadata": {},
   "outputs": [
    {
     "data": {
      "text/latex": [
       "$\\displaystyle x$"
      ],
      "text/plain": [
       "x"
      ]
     },
     "execution_count": 11,
     "metadata": {},
     "output_type": "execute_result"
    }
   ],
   "source": [
    "x = symbols(\"x\")\n",
    "x"
   ]
  },
  {
   "cell_type": "code",
   "execution_count": 13,
   "id": "44066b14",
   "metadata": {},
   "outputs": [
    {
     "data": {
      "text/latex": [
       "$\\displaystyle x^{2} + 2 x - 42$"
      ],
      "text/plain": [
       "x**2 + 2*x - 42"
      ]
     },
     "execution_count": 13,
     "metadata": {},
     "output_type": "execute_result"
    }
   ],
   "source": [
    "pol = x * x + 2 * x -42\n",
    "pol"
   ]
  },
  {
   "cell_type": "code",
   "execution_count": 14,
   "id": "47cbfa0e",
   "metadata": {},
   "outputs": [
    {
     "data": {
      "text/latex": [
       "$\\displaystyle x^{2} - 42$"
      ],
      "text/plain": [
       "x**2 - 42"
      ]
     },
     "execution_count": 14,
     "metadata": {},
     "output_type": "execute_result"
    }
   ],
   "source": [
    "pol - 2 * x"
   ]
  },
  {
   "cell_type": "code",
   "execution_count": 15,
   "id": "c2dc8646",
   "metadata": {},
   "outputs": [
    {
     "data": {
      "text/latex": [
       "$\\displaystyle h$"
      ],
      "text/plain": [
       "h"
      ]
     },
     "execution_count": 15,
     "metadata": {},
     "output_type": "execute_result"
    }
   ],
   "source": [
    "#416\n",
    "g = symbols(\"h\")\n",
    "g\n",
    "-> g agiert hier als Variable in der das symbol \"h\" gespeichert wird"
   ]
  },
  {
   "cell_type": "code",
   "execution_count": 19,
   "id": "5ce5de22",
   "metadata": {},
   "outputs": [
    {
     "data": {
      "text/latex": [
       "$\\displaystyle \\sum_{k=3}^{42} k^{2}$"
      ],
      "text/plain": [
       "Sum(k**2, (k, 3, 42))"
      ]
     },
     "execution_count": 19,
     "metadata": {},
     "output_type": "execute_result"
    }
   ],
   "source": [
    "k = symbols(\"k\")\n",
    "s = Sum(k*k, (k,3,42))\n",
    "s"
   ]
  },
  {
   "cell_type": "code",
   "execution_count": 20,
   "id": "882e4943",
   "metadata": {},
   "outputs": [
    {
     "data": {
      "text/latex": [
       "$\\displaystyle 25580$"
      ],
      "text/plain": [
       "25580"
      ]
     },
     "execution_count": 20,
     "metadata": {},
     "output_type": "execute_result"
    }
   ],
   "source": [
    "s.doit()"
   ]
  },
  {
   "cell_type": "code",
   "execution_count": null,
   "id": "98cf3d47",
   "metadata": {},
   "outputs": [],
   "source": [
    "#alterativ:\n",
    "sum(k*k for k in range(3,43))"
   ]
  },
  {
   "cell_type": "code",
   "execution_count": 23,
   "id": "a95bc6d6",
   "metadata": {},
   "outputs": [
    {
     "data": {
      "text/latex": [
       "$\\displaystyle 0.77459666924148338$"
      ],
      "text/plain": [
       "0.77459666924148338"
      ]
     },
     "execution_count": 23,
     "metadata": {},
     "output_type": "execute_result"
    }
   ],
   "source": [
    "#418\n",
    "sqrt(Rational(3,5)).evalf(17)\n",
    "-> 16. Nachkommastelle = 3"
   ]
  },
  {
   "cell_type": "code",
   "execution_count": 24,
   "id": "2e839d0d",
   "metadata": {},
   "outputs": [
    {
     "name": "stdout",
     "output_type": "stream",
     "text": [
      "2*sqrt(2)\n"
     ]
    },
    {
     "data": {
      "text/latex": [
       "$\\displaystyle 2 \\sqrt{2}$"
      ],
      "text/plain": [
       "2*sqrt(2)"
      ]
     },
     "metadata": {},
     "output_type": "display_data"
    }
   ],
   "source": [
    "from IPython.display import display\n",
    "print(sqrt(8))\n",
    "display(sqrt(8))"
   ]
  },
  {
   "cell_type": "code",
   "execution_count": null,
   "id": "3a3349c4",
   "metadata": {},
   "outputs": [],
   "source": []
  }
 ],
 "metadata": {
  "kernelspec": {
   "display_name": "Python 3 (ipykernel)",
   "language": "python",
   "name": "python3"
  },
  "language_info": {
   "codemirror_mode": {
    "name": "ipython",
    "version": 3
   },
   "file_extension": ".py",
   "mimetype": "text/x-python",
   "name": "python",
   "nbconvert_exporter": "python",
   "pygments_lexer": "ipython3",
   "version": "3.10.6"
  }
 },
 "nbformat": 4,
 "nbformat_minor": 5
}
