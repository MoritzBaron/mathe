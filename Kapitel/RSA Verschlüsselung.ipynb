{
 "cells": [
  {
   "cell_type": "code",
   "execution_count": 1,
   "id": "3d868087",
   "metadata": {},
   "outputs": [
    {
     "data": {
      "text/plain": [
       "97"
      ]
     },
     "execution_count": 1,
     "metadata": {},
     "output_type": "execute_result"
    }
   ],
   "source": [
    "ord(\"a\")"
   ]
  },
  {
   "cell_type": "code",
   "execution_count": 2,
   "id": "2ac807b2",
   "metadata": {},
   "outputs": [
    {
     "data": {
      "text/plain": [
       "65"
      ]
     },
     "execution_count": 2,
     "metadata": {},
     "output_type": "execute_result"
    }
   ],
   "source": [
    "ord(\"A\")"
   ]
  },
  {
   "cell_type": "code",
   "execution_count": 3,
   "id": "43e88210",
   "metadata": {},
   "outputs": [
    {
     "data": {
      "text/plain": [
       "'B'"
      ]
     },
     "execution_count": 3,
     "metadata": {},
     "output_type": "execute_result"
    }
   ],
   "source": [
    "chr(66)"
   ]
  },
  {
   "cell_type": "code",
   "execution_count": 7,
   "id": "cf6d41c9",
   "metadata": {},
   "outputs": [],
   "source": [
    "def cäsarEinBuchstabe(C, k):\n",
    "    return chr(ord(C)+k)"
   ]
  },
  {
   "cell_type": "code",
   "execution_count": 8,
   "id": "b0417b0c",
   "metadata": {},
   "outputs": [
    {
     "data": {
      "text/plain": [
       "'E'"
      ]
     },
     "execution_count": 8,
     "metadata": {},
     "output_type": "execute_result"
    }
   ],
   "source": [
    "cäsarEinBuchstabe(\"A\", 4)"
   ]
  },
  {
   "cell_type": "code",
   "execution_count": 9,
   "id": "0f4b41aa",
   "metadata": {},
   "outputs": [],
   "source": [
    "#falsch\n",
    "def cäsarEinBuchstabe(C, k):\n",
    "    return chr(ord((C)+k)%26)"
   ]
  },
  {
   "cell_type": "code",
   "execution_count": 12,
   "id": "d10cb479",
   "metadata": {},
   "outputs": [],
   "source": [
    "#richtig\n",
    "def cäsarEinBuchstabe(C, k):\n",
    "    return chr((ord(C)-ord(\"A\")+k) %26 +ord(\"A\"))"
   ]
  },
  {
   "cell_type": "code",
   "execution_count": 13,
   "id": "d2b80e66",
   "metadata": {},
   "outputs": [
    {
     "data": {
      "text/plain": [
       "'B'"
      ]
     },
     "execution_count": 13,
     "metadata": {},
     "output_type": "execute_result"
    }
   ],
   "source": [
    "cäsarEinBuchstabe(\"Y\",3)"
   ]
  },
  {
   "cell_type": "code",
   "execution_count": 15,
   "id": "2d1d4b07",
   "metadata": {},
   "outputs": [],
   "source": [
    "def caesar(S,k):\n",
    "    return \"\".join([cäsarEinBuchstabe(C, k) for C in S])"
   ]
  },
  {
   "cell_type": "code",
   "execution_count": 17,
   "id": "78b0b9c4",
   "metadata": {},
   "outputs": [
    {
     "data": {
      "text/plain": [
       "'EFFD'"
      ]
     },
     "execution_count": 17,
     "metadata": {},
     "output_type": "execute_result"
    }
   ],
   "source": [
    "caesar(\"ABBZ\",4)"
   ]
  },
  {
   "cell_type": "code",
   "execution_count": 20,
   "id": "75cbfa86",
   "metadata": {},
   "outputs": [
    {
     "data": {
      "text/plain": [
       "(1013, 1069)"
      ]
     },
     "execution_count": 20,
     "metadata": {},
     "output_type": "execute_result"
    }
   ],
   "source": [
    "from sympy import prime\n",
    "p,q = prime(170), prime(180)\n",
    "p,q"
   ]
  },
  {
   "cell_type": "code",
   "execution_count": 21,
   "id": "23eac865",
   "metadata": {},
   "outputs": [
    {
     "data": {
      "text/plain": [
       "1080816"
      ]
     },
     "execution_count": 21,
     "metadata": {},
     "output_type": "execute_result"
    }
   ],
   "source": [
    "phi = (p-1)*(q-1)\n",
    "phi"
   ]
  },
  {
   "cell_type": "code",
   "execution_count": 22,
   "id": "61bce204",
   "metadata": {},
   "outputs": [
    {
     "data": {
      "text/plain": [
       "{2: 4, 3: 1, 11: 1, 23: 1, 89: 1}"
      ]
     },
     "execution_count": 22,
     "metadata": {},
     "output_type": "execute_result"
    }
   ],
   "source": [
    "from sympy import factorint\n",
    "factorint(phi)"
   ]
  },
  {
   "cell_type": "code",
   "execution_count": 23,
   "id": "bc71ef99",
   "metadata": {},
   "outputs": [],
   "source": [
    "e = 7**2 * 13 * 19 * 29"
   ]
  },
  {
   "cell_type": "code",
   "execution_count": 25,
   "id": "6c0f09f3",
   "metadata": {},
   "outputs": [
    {
     "data": {
      "text/plain": [
       "15443"
      ]
     },
     "execution_count": 25,
     "metadata": {},
     "output_type": "execute_result"
    }
   ],
   "source": [
    "from sympy import mod_inverse\n",
    "d = mod_inverse(e, phi)\n",
    "d"
   ]
  },
  {
   "cell_type": "code",
   "execution_count": 28,
   "id": "6f8cebe5",
   "metadata": {},
   "outputs": [
    {
     "data": {
      "text/plain": [
       "(15443, -5015, 1)"
      ]
     },
     "execution_count": 28,
     "metadata": {},
     "output_type": "execute_result"
    }
   ],
   "source": [
    "from sympy import gcdex\n",
    "gcdex(e, phi)"
   ]
  },
  {
   "cell_type": "code",
   "execution_count": 38,
   "id": "21bc6ce0",
   "metadata": {},
   "outputs": [],
   "source": [
    "#M:Message, k:Exponent\n",
    "def crypt(M, k,):\n",
    "    return pow(M,k,n)"
   ]
  },
  {
   "cell_type": "code",
   "execution_count": 30,
   "id": "624b93cf",
   "metadata": {},
   "outputs": [],
   "source": [
    "N = 12345\n"
   ]
  },
  {
   "cell_type": "code",
   "execution_count": 37,
   "id": "d1c231cd",
   "metadata": {},
   "outputs": [
    {
     "ename": "TypeError",
     "evalue": "crypt() missing 1 required positional argument: 'n'",
     "output_type": "error",
     "traceback": [
      "\u001b[0;31m---------------------------------------------------------------------------\u001b[0m",
      "\u001b[0;31mTypeError\u001b[0m                                 Traceback (most recent call last)",
      "Input \u001b[0;32mIn [37]\u001b[0m, in \u001b[0;36m<cell line: 1>\u001b[0;34m()\u001b[0m\n\u001b[0;32m----> 1\u001b[0m S \u001b[38;5;241m=\u001b[39m \u001b[43mcrypt\u001b[49m\u001b[43m(\u001b[49m\u001b[43mN\u001b[49m\u001b[43m,\u001b[49m\u001b[43m \u001b[49m\u001b[43me\u001b[49m\u001b[43m)\u001b[49m\n\u001b[1;32m      2\u001b[0m s\n",
      "\u001b[0;31mTypeError\u001b[0m: crypt() missing 1 required positional argument: 'n'"
     ]
    }
   ],
   "source": [
    "S = crypt(N, e)\n",
    "s"
   ]
  },
  {
   "cell_type": "code",
   "execution_count": null,
   "id": "1bba21f1",
   "metadata": {},
   "outputs": [],
   "source": []
  }
 ],
 "metadata": {
  "kernelspec": {
   "display_name": "Python 3 (ipykernel)",
   "language": "python",
   "name": "python3"
  },
  "language_info": {
   "codemirror_mode": {
    "name": "ipython",
    "version": 3
   },
   "file_extension": ".py",
   "mimetype": "text/x-python",
   "name": "python",
   "nbconvert_exporter": "python",
   "pygments_lexer": "ipython3",
   "version": "3.9.10"
  }
 },
 "nbformat": 4,
 "nbformat_minor": 5
}
