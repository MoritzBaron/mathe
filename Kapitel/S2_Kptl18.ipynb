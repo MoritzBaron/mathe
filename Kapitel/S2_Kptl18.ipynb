{
 "cells": [
  {
   "cell_type": "markdown",
   "id": "4965bba4",
   "metadata": {},
   "source": [
    "Aufgabe 350:"
   ]
  },
  {
   "cell_type": "code",
   "execution_count": 3,
   "id": "0641d81f",
   "metadata": {},
   "outputs": [],
   "source": [
    "#gibt alle natürlichen zaheln zurück"
   ]
  },
  {
   "cell_type": "code",
   "execution_count": 4,
   "id": "aa13a0cb",
   "metadata": {},
   "outputs": [],
   "source": [
    "def viewGen(gen, n):\n",
    "    c = 1\n",
    "    L = []\n",
    "    for x in gen:\n",
    "        if c > n:\n",
    "            break\n",
    "        L.append(x)\n",
    "        c += 1\n",
    "    return L"
   ]
  },
  {
   "cell_type": "markdown",
   "id": "dae4a99b",
   "metadata": {},
   "source": [
    "Aufgabe 351:"
   ]
  },
  {
   "cell_type": "code",
   "execution_count": 10,
   "id": "c6cdedef",
   "metadata": {},
   "outputs": [],
   "source": [
    "def evenNat():\n",
    "    n = 0\n",
    "    while True:\n",
    "        yield n\n",
    "        n += 2\n",
    "    "
   ]
  },
  {
   "cell_type": "code",
   "execution_count": 11,
   "id": "83c99454",
   "metadata": {},
   "outputs": [
    {
     "data": {
      "text/plain": [
       "[0, 2, 4, 6, 8, 10, 12, 14, 16, 18, 20, 22, 24, 26, 28, 30, 32, 34, 36, 38]"
      ]
     },
     "execution_count": 11,
     "metadata": {},
     "output_type": "execute_result"
    }
   ],
   "source": [
    "viewGen(evenNat(), 20)"
   ]
  },
  {
   "cell_type": "markdown",
   "id": "7bbf90d8",
   "metadata": {},
   "source": [
    "Aufgabe 352:"
   ]
  },
  {
   "cell_type": "code",
   "execution_count": 15,
   "id": "a6c31dcc",
   "metadata": {},
   "outputs": [],
   "source": [
    "def wholeN():\n",
    "    n = 0\n",
    "    while True:\n",
    "        yield n\n",
    "        yield -n\n",
    "        n += 1"
   ]
  },
  {
   "cell_type": "markdown",
   "id": "8ba4238f",
   "metadata": {},
   "source": [
    "Aufgabe 353:"
   ]
  },
  {
   "cell_type": "code",
   "execution_count": 16,
   "id": "34341f38",
   "metadata": {},
   "outputs": [],
   "source": [
    "def FinEx():\n",
    "    yield 23\n",
    "    yield 42\n",
    "    yield 101"
   ]
  },
  {
   "cell_type": "code",
   "execution_count": 17,
   "id": "5eb7511f",
   "metadata": {},
   "outputs": [
    {
     "data": {
      "text/plain": [
       "[72, 65, 87]"
      ]
     },
     "execution_count": 17,
     "metadata": {},
     "output_type": "execute_result"
    }
   ],
   "source": [
    "# ord(A) ordnungswert des Buchstabens A\n",
    "[ord(c) for c in \"HAW\"]"
   ]
  },
  {
   "cell_type": "code",
   "execution_count": 18,
   "id": "fc9cf7f3",
   "metadata": {},
   "outputs": [
    {
     "data": {
      "text/plain": [
       "'H'"
      ]
     },
     "execution_count": 18,
     "metadata": {},
     "output_type": "execute_result"
    }
   ],
   "source": [
    "chr(72)"
   ]
  },
  {
   "cell_type": "code",
   "execution_count": 19,
   "id": "7a90d560",
   "metadata": {},
   "outputs": [
    {
     "data": {
      "text/plain": [
       "'HelloWorld'"
      ]
     },
     "execution_count": 19,
     "metadata": {},
     "output_type": "execute_result"
    }
   ],
   "source": [
    "\"Hello\" + \"World\""
   ]
  },
  {
   "cell_type": "code",
   "execution_count": 20,
   "id": "a7034551",
   "metadata": {},
   "outputs": [],
   "source": [
    "def Str(n, start, end):\n",
    "    if n == 0:\n",
    "        yield \"\"\n",
    "    else: \n",
    "        for c in range(ord(start), ord(end) + 1):\n",
    "            for s in Str(n-1, start, end):\n",
    "                yield chr(c) + s"
   ]
  },
  {
   "cell_type": "code",
   "execution_count": 21,
   "id": "464a2ba5",
   "metadata": {},
   "outputs": [
    {
     "data": {
      "text/plain": [
       "['']"
      ]
     },
     "execution_count": 21,
     "metadata": {},
     "output_type": "execute_result"
    }
   ],
   "source": [
    "list(Str(0, \"A\", \"C\"))"
   ]
  },
  {
   "cell_type": "code",
   "execution_count": 22,
   "id": "2fd0eea3",
   "metadata": {},
   "outputs": [
    {
     "data": {
      "text/plain": [
       "['A', 'B']"
      ]
     },
     "execution_count": 22,
     "metadata": {},
     "output_type": "execute_result"
    }
   ],
   "source": [
    "list(Str(1, \"A\", \"B\"))"
   ]
  },
  {
   "cell_type": "code",
   "execution_count": 24,
   "id": "49011630",
   "metadata": {},
   "outputs": [
    {
     "data": {
      "text/plain": [
       "['AA', 'AB', 'AC', 'BA', 'BB', 'BC', 'CA', 'CB', 'CC']"
      ]
     },
     "execution_count": 24,
     "metadata": {},
     "output_type": "execute_result"
    }
   ],
   "source": [
    "list(Str(2, \"A\", \"C\"))"
   ]
  },
  {
   "cell_type": "markdown",
   "id": "d8c34dca",
   "metadata": {},
   "source": [
    "Aufgabe 357:"
   ]
  },
  {
   "cell_type": "code",
   "execution_count": 25,
   "id": "bd03d913",
   "metadata": {},
   "outputs": [],
   "source": [
    "def numb(n):\n",
    "    yield 0\n",
    "    n = 1\n",
    "    while True:\n",
    "        yield n\n",
    "        yield -n\n",
    "        n += 1"
   ]
  },
  {
   "cell_type": "code",
   "execution_count": 57,
   "id": "f76c220a",
   "metadata": {},
   "outputs": [],
   "source": [
    "def numbs(n):\n",
    "    if n % 2 == 1:\n",
    "        return (n + 1) // 2\n",
    "    else:\n",
    "        return -n // 2\n",
    "    "
   ]
  },
  {
   "cell_type": "code",
   "execution_count": 60,
   "id": "42e7f625",
   "metadata": {},
   "outputs": [
    {
     "data": {
      "text/plain": [
       "6"
      ]
     },
     "execution_count": 60,
     "metadata": {},
     "output_type": "execute_result"
    }
   ],
   "source": [
    "numbs(11)"
   ]
  },
  {
   "cell_type": "code",
   "execution_count": 59,
   "id": "83c4e731",
   "metadata": {},
   "outputs": [
    {
     "data": {
      "text/plain": [
       "-3"
      ]
     },
     "execution_count": 59,
     "metadata": {},
     "output_type": "execute_result"
    }
   ],
   "source": [
    "numbs(6)"
   ]
  },
  {
   "cell_type": "code",
   "execution_count": 68,
   "id": "5c922e21",
   "metadata": {},
   "outputs": [],
   "source": [
    "from fractions import Fraction"
   ]
  },
  {
   "cell_type": "code",
   "execution_count": 69,
   "id": "0590b192",
   "metadata": {},
   "outputs": [],
   "source": [
    "def Rat():\n",
    "    c = 2\n",
    "    while True:\n",
    "        den = 1\n",
    "        while den < c:\n",
    "            yield Fraction(c-den, den)\n",
    "            den += 1\n",
    "        c += 1"
   ]
  },
  {
   "cell_type": "code",
   "execution_count": 75,
   "id": "26687267",
   "metadata": {},
   "outputs": [],
   "source": [
    "def Rat2():\n",
    "    seen = set()\n",
    "    c = 2\n",
    "    while True:\n",
    "        den = 1\n",
    "        while den < c:\n",
    "            val = Fraction(c - den, den)\n",
    "            if not val in seen:\n",
    "                yield val\n",
    "                seen.add(val)\n",
    "            den += 1\n",
    "        c += 1"
   ]
  },
  {
   "cell_type": "code",
   "execution_count": 76,
   "id": "848938d9",
   "metadata": {},
   "outputs": [
    {
     "data": {
      "text/plain": [
       "[Fraction(1, 1),\n",
       " Fraction(2, 1),\n",
       " Fraction(1, 2),\n",
       " Fraction(3, 1),\n",
       " Fraction(1, 1),\n",
       " Fraction(1, 3),\n",
       " Fraction(4, 1),\n",
       " Fraction(3, 2),\n",
       " Fraction(2, 3),\n",
       " Fraction(1, 4),\n",
       " Fraction(5, 1),\n",
       " Fraction(2, 1),\n",
       " Fraction(1, 1),\n",
       " Fraction(1, 2),\n",
       " Fraction(1, 5),\n",
       " Fraction(6, 1),\n",
       " Fraction(5, 2),\n",
       " Fraction(4, 3),\n",
       " Fraction(3, 4),\n",
       " Fraction(2, 5)]"
      ]
     },
     "execution_count": 76,
     "metadata": {},
     "output_type": "execute_result"
    }
   ],
   "source": [
    "viewGen(Rat(),20)"
   ]
  },
  {
   "cell_type": "code",
   "execution_count": 77,
   "id": "b7edd20e",
   "metadata": {},
   "outputs": [],
   "source": [
    "def Rat2Neg():\n",
    "    seen = set()\n",
    "    c = 2\n",
    "    while True:\n",
    "        den = 1\n",
    "        while den < c:\n",
    "            val = Fraction(c - den, den)\n",
    "            if not val in seen:\n",
    "                yield val\n",
    "                yield -val\n",
    "                seen.add(val)\n",
    "            den += 1\n",
    "        c += 1"
   ]
  },
  {
   "cell_type": "code",
   "execution_count": 78,
   "id": "f2ca160c",
   "metadata": {},
   "outputs": [
    {
     "data": {
      "text/plain": [
       "[Fraction(1, 1),\n",
       " Fraction(-1, 1),\n",
       " Fraction(2, 1),\n",
       " Fraction(-2, 1),\n",
       " Fraction(1, 2),\n",
       " Fraction(-1, 2),\n",
       " Fraction(3, 1),\n",
       " Fraction(-3, 1),\n",
       " Fraction(1, 3),\n",
       " Fraction(-1, 3)]"
      ]
     },
     "execution_count": 78,
     "metadata": {},
     "output_type": "execute_result"
    }
   ],
   "source": [
    "viewGen(Rat2Neg(), 10)"
   ]
  },
  {
   "cell_type": "markdown",
   "id": "bee2d7c8",
   "metadata": {},
   "source": [
    "Aufgabe 360:"
   ]
  },
  {
   "cell_type": "code",
   "execution_count": 79,
   "id": "2da0be96",
   "metadata": {},
   "outputs": [],
   "source": [
    "#Zähler und Nenner sind teilerfremd"
   ]
  },
  {
   "cell_type": "markdown",
   "id": "47c70fac",
   "metadata": {},
   "source": [
    "Aufgabe 361:"
   ]
  },
  {
   "cell_type": "code",
   "execution_count": 80,
   "id": "571cb02d",
   "metadata": {},
   "outputs": [],
   "source": [
    "def convDecToBin(n):\n",
    "    if n == 0:\n",
    "        return [0]\n",
    "    binList = []\n",
    "    while n > 0:\n",
    "        binList.append(n%2)\n",
    "        n= n // 2\n",
    "    return list(reversed(binList))"
   ]
  },
  {
   "cell_type": "code",
   "execution_count": 81,
   "id": "393d138b",
   "metadata": {},
   "outputs": [],
   "source": [
    "def CalkinWolf(n):\n",
    "    num = 1\n",
    "    den = 1\n",
    "    for i in convDecToBin(n)[1:]:\n",
    "        if i == 0:\n",
    "            den = num + den\n",
    "        else:\n",
    "            num = num + den\n",
    "    return Fraction(num, den)"
   ]
  },
  {
   "cell_type": "code",
   "execution_count": 83,
   "id": "bdf6834b",
   "metadata": {},
   "outputs": [
    {
     "data": {
      "text/plain": [
       "Fraction(3, 2)"
      ]
     },
     "execution_count": 83,
     "metadata": {},
     "output_type": "execute_result"
    }
   ],
   "source": [
    "CalkinWolf(5)"
   ]
  },
  {
   "cell_type": "code",
   "execution_count": 84,
   "id": "66532e57",
   "metadata": {},
   "outputs": [],
   "source": [
    "def calkinWilfEnum():\n",
    "    c = 1\n",
    "    while True:\n",
    "        yield CalcinWolf(c)\n",
    "        c += 1"
   ]
  },
  {
   "cell_type": "code",
   "execution_count": 85,
   "id": "f1ba99ff",
   "metadata": {},
   "outputs": [],
   "source": [
    "def CalkinWilfReversed(num, den):\n",
    "    digits = []\n",
    "    while num != den:\n",
    "        if num > den:\n",
    "            num = num - den\n",
    "            digits.append(1)\n",
    "        else:\n",
    "            den = den - num\n",
    "            digits.append(0)\n",
    "    digits.append(1)\n",
    "    return convDecToBin(List(reversed(digits)))"
   ]
  },
  {
   "cell_type": "code",
   "execution_count": null,
   "id": "531a65c9",
   "metadata": {},
   "outputs": [],
   "source": []
  }
 ],
 "metadata": {
  "kernelspec": {
   "display_name": "Python 3 (ipykernel)",
   "language": "python",
   "name": "python3"
  },
  "language_info": {
   "codemirror_mode": {
    "name": "ipython",
    "version": 3
   },
   "file_extension": ".py",
   "mimetype": "text/x-python",
   "name": "python",
   "nbconvert_exporter": "python",
   "pygments_lexer": "ipython3",
   "version": "3.10.12"
  }
 },
 "nbformat": 4,
 "nbformat_minor": 5
}
