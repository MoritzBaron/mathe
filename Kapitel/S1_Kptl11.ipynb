{
 "cells": [
  {
   "cell_type": "code",
   "execution_count": 2,
   "id": "0406929f",
   "metadata": {},
   "outputs": [],
   "source": [
    "#173\n",
    "from sympy import gcd\n",
    "def lowestTerm(f):\n",
    "    num = f[0]\n",
    "    den = f[1]\n",
    "    g = gcd(num, den)\n",
    "    return(num // g , den // g)"
   ]
  },
  {
   "cell_type": "code",
   "execution_count": 4,
   "id": "ee3ce0f8",
   "metadata": {},
   "outputs": [],
   "source": [
    "#174\n",
    "def lowestTerms(f):\n",
    "    num = f[0]\n",
    "    den = f[1]\n",
    "    if den < 0 or num <0:\n",
    "        num *= -1\n",
    "        den *= -1\n",
    "    g = gcd(num, den)\n",
    "    return(num // g , den // g)"
   ]
  },
  {
   "cell_type": "code",
   "execution_count": 6,
   "id": "32017cb8",
   "metadata": {},
   "outputs": [],
   "source": [
    "#175\n",
    "def add (frac1, frac2):\n",
    "    num1 = frac1[0]\n",
    "    den1 = frac1[1]\n",
    "    num2 = frac2[0]\n",
    "    den2 = frac2[1]\n",
    "    return lowestTerms([num1 * den2 + num2 * den1, den1 * den2])\n",
    "\n",
    "def mult(frac1, frac2):\n",
    "    num1 = frac[0]\n",
    "    den1 = frac[1]\n",
    "    num2 = frac[0]\n",
    "    den2 = frac[1]\n",
    "    return lowestTerms([num1 * num2, den1 * den2])"
   ]
  },
  {
   "cell_type": "code",
   "execution_count": 7,
   "id": "bc958bb5",
   "metadata": {},
   "outputs": [],
   "source": [
    "#176\n",
    "def sub (frac1, frac2):\n",
    "    return add(frac1, [-frac2[0], frac2[1]])\n",
    "\n",
    "def div (frac1, frac2):\n",
    "    return mult(frac1, [frac2[1], frac2[0]])"
   ]
  },
  {
   "cell_type": "code",
   "execution_count": 9,
   "id": "09ab6ce7",
   "metadata": {},
   "outputs": [
    {
     "data": {
      "text/plain": [
       "(Fraction(1, 10), Fraction(3602879701896397, 36028797018963968))"
      ]
     },
     "execution_count": 9,
     "metadata": {},
     "output_type": "execute_result"
    }
   ],
   "source": [
    "#177\n",
    "from fractions import Fraction\n",
    "Fraction('1/10'), Fraction(1/10)\n",
    "#Python den Quotienten 1/10 erst ausrechnet, bevor die Funktion\n",
    "#Fraction aufgerufen wird. Das Ergebnis ist eine Fließkommazahl21 und die Zahl\n",
    "#1/10 kann auf diese Art und Weise nur näherungsweise dargestellt werden"
   ]
  },
  {
   "cell_type": "code",
   "execution_count": null,
   "id": "11258341",
   "metadata": {},
   "outputs": [],
   "source": [
    "#178\n",
    "-> bruch so lange erweitern bis nenner eine 10er potenz ist"
   ]
  },
  {
   "cell_type": "code",
   "execution_count": null,
   "id": "476e4cdb",
   "metadata": {},
   "outputs": [],
   "source": [
    "#179\n",
    "-> schriftliche division\n"
   ]
  },
  {
   "cell_type": "code",
   "execution_count": null,
   "id": "406c3fed",
   "metadata": {},
   "outputs": [],
   "source": [
    "#180\n",
    "es lassen sich nur brüche deren Nenner nur die Faktoren 2 und 5 enthalten mit endlich vielen Nachkommastellen darstellen"
   ]
  },
  {
   "cell_type": "code",
   "execution_count": null,
   "id": "76d9d289",
   "metadata": {},
   "outputs": [],
   "source": [
    "#181\n",
    "dezimalzahl so weit verschieben bis periode nach dem komma kommt. dann die zahl zusammensetzen\n",
    "0.22periode81 = 1/100 * (22 + 81/99)= 1/100 * 251/11 = 251/1100"
   ]
  },
  {
   "cell_type": "code",
   "execution_count": null,
   "id": "2d2cc5cf",
   "metadata": {},
   "outputs": [],
   "source": [
    "#182\n",
    "2,3,6 -> 1/2 + 1/3 + 1/6 = 1"
   ]
  },
  {
   "cell_type": "code",
   "execution_count": null,
   "id": "01c517be",
   "metadata": {},
   "outputs": [],
   "source": [
    "#183\n",
    "Ist eine natürliche Zahl n größer als drei, so ist 1/n kleiner als 1/3. Daher\n",
    "können die gesuchten drei Zahlen nicht alle größer als drei sein"
   ]
  }
 ],
 "metadata": {
  "kernelspec": {
   "display_name": "Python 3 (ipykernel)",
   "language": "python",
   "name": "python3"
  },
  "language_info": {
   "codemirror_mode": {
    "name": "ipython",
    "version": 3
   },
   "file_extension": ".py",
   "mimetype": "text/x-python",
   "name": "python",
   "nbconvert_exporter": "python",
   "pygments_lexer": "ipython3",
   "version": "3.10.6"
  }
 },
 "nbformat": 4,
 "nbformat_minor": 5
}
