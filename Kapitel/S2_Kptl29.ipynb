{
 "cells": [
  {
   "cell_type": "code",
   "execution_count": null,
   "id": "2dab0cbd",
   "metadata": {},
   "outputs": [],
   "source": [
    "#523\n",
    "c1 = (3, -1)\n",
    "c2 = (-2, 2)\n",
    "Rneu = (-1, 2)\n",
    "\n",
    "M = Matrix([[3, -2], [-2,2]])\n",
    "\n",
    "-> Ralt = (-7, 5)"
   ]
  },
  {
   "cell_type": "code",
   "execution_count": null,
   "id": "8fe6ead9",
   "metadata": {},
   "outputs": [],
   "source": [
    "#524\n",
    "keine Änderung, 3x3 Matrix zur berechnung"
   ]
  },
  {
   "cell_type": "code",
   "execution_count": null,
   "id": "3ee5922f",
   "metadata": {},
   "outputs": [],
   "source": [
    "#525\n",
    "ja"
   ]
  },
  {
   "cell_type": "code",
   "execution_count": null,
   "id": "6b0f0ca0",
   "metadata": {},
   "outputs": [],
   "source": [
    "#526\n"
   ]
  },
  {
   "cell_type": "code",
   "execution_count": null,
   "id": "32c6957f",
   "metadata": {},
   "outputs": [],
   "source": [
    "#527\n",
    "der Punkt wir oben nach links und unten nach rechts geschert"
   ]
  },
  {
   "cell_type": "code",
   "execution_count": null,
   "id": "29ee261d",
   "metadata": {},
   "outputs": [],
   "source": [
    "#528\n",
    "Scherung parallel zur y-Achse\n",
    "M = Matrix([[1, 0],[1.3,1]])\n",
    "#Mit einheitsmatrix beginnen und dann die nullen austauschen\n",
    "#oben für verschiebung in x-Richtung\n",
    "#unten für verschiebung in y-Rictung"
   ]
  },
  {
   "cell_type": "code",
   "execution_count": null,
   "id": "5e32a629",
   "metadata": {},
   "outputs": [],
   "source": [
    "#Drehung um den Nullpunkt und um winkel alpha:\n",
    "#Matrix([[cos(alpha), -sin(alpha)],[sin(alpha), -cos(alpha)]])"
   ]
  },
  {
   "cell_type": "code",
   "execution_count": null,
   "id": "88134d93",
   "metadata": {},
   "outputs": [],
   "source": [
    "#Spiegelung an der Geraden durch den Nullpunkt, die mit der x-Achse den Winkel alpha bildet:\n",
    "#Matrix([[cos(2*alpha), sin(2*alpha)],[sin(2*alpha), -cos(2*alpha)]])"
   ]
  },
  {
   "cell_type": "code",
   "execution_count": null,
   "id": "1f7ab0d7",
   "metadata": {},
   "outputs": [],
   "source": [
    "#529\n",
    "A: verschiebung in x-Richtung; oben nach links, unten nach rechts\n",
    "B: keine Verschiebung"
   ]
  },
  {
   "cell_type": "code",
   "execution_count": null,
   "id": "4e034a13",
   "metadata": {},
   "outputs": [],
   "source": [
    "#530\n",
    "Drehung um 180°: Matrix([[-1,0],[0,-1]])\n",
    "Spiegelung an x-Achse: Matrix([[1,0],[0,-1]])"
   ]
  },
  {
   "cell_type": "code",
   "execution_count": null,
   "id": "36bec8c2",
   "metadata": {},
   "outputs": [],
   "source": [
    "#531\n",
    "M = Matrix([[1,2],[2,4]])\n",
    "Die Spalten sind nun Vielfache voneinander, also parallel. Die gesammte Ebene wird also auf die Gerade abgebildet,\n",
    "die durch den Ursprung läuft und den Richtungsvektor(1,2) hat."
   ]
  },
  {
   "cell_type": "code",
   "execution_count": null,
   "id": "d120b54d",
   "metadata": {},
   "outputs": [],
   "source": [
    "#532\n",
    "Der Vektor 0 lässt sich als 0 * 0 dartsellen. Aus der zweiten Bedingung folgt: f(0)= f(0*0)= 0 * f(0) = 0."
   ]
  },
  {
   "cell_type": "code",
   "execution_count": null,
   "id": "f9807581",
   "metadata": {},
   "outputs": [],
   "source": [
    "#533\n",
    "Vector(x,y) -> Vector(x**2, y)"
   ]
  },
  {
   "cell_type": "code",
   "execution_count": null,
   "id": "7ecf37da",
   "metadata": {},
   "outputs": [],
   "source": [
    "#Translationen sind Abbildungen die alle Punkte verschieben:\n",
    "#x -> x + v\n",
    "#v ist der Vektor um den alle Pzunkte verschoben werden\n",
    "#translationen sind NIE linear und können nich als Matrizen dargestellt werden"
   ]
  },
  {
   "cell_type": "code",
   "execution_count": null,
   "id": "8140d00a",
   "metadata": {},
   "outputs": [],
   "source": []
  }
 ],
 "metadata": {
  "kernelspec": {
   "display_name": "Python 3 (ipykernel)",
   "language": "python",
   "name": "python3"
  },
  "language_info": {
   "codemirror_mode": {
    "name": "ipython",
    "version": 3
   },
   "file_extension": ".py",
   "mimetype": "text/x-python",
   "name": "python",
   "nbconvert_exporter": "python",
   "pygments_lexer": "ipython3",
   "version": "3.10.6"
  }
 },
 "nbformat": 4,
 "nbformat_minor": 5
}
