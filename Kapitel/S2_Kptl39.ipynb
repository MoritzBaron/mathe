{
 "cells": [
  {
   "cell_type": "code",
   "execution_count": null,
   "id": "743307e5",
   "metadata": {},
   "outputs": [],
   "source": [
    "#imports:"
   ]
  },
  {
   "cell_type": "code",
   "execution_count": 1,
   "id": "1f1a1cfb",
   "metadata": {},
   "outputs": [],
   "source": [
    "def p1(x):\n",
    "    return 2*x*x*x + 4*x*x - 10*x - 12"
   ]
  },
  {
   "cell_type": "code",
   "execution_count": 2,
   "id": "d277447d",
   "metadata": {},
   "outputs": [],
   "source": [
    "def p2(x):\n",
    "    return 2 * x * (x * (x + 2)- 5) - 12"
   ]
  },
  {
   "cell_type": "code",
   "execution_count": 3,
   "id": "f493b0e1",
   "metadata": {},
   "outputs": [],
   "source": [
    "def test1(n):\n",
    "    step = 2 / (n - 1)\n",
    "    x = -1\n",
    "    for i in range(n):\n",
    "        y = p1(x)\n",
    "        x += step"
   ]
  },
  {
   "cell_type": "code",
   "execution_count": 4,
   "id": "b01f0e94",
   "metadata": {},
   "outputs": [],
   "source": [
    "def test2(n):\n",
    "    step = 2 / (n - 1)\n",
    "    x = -1\n",
    "    for i in range(n):\n",
    "        y = p2(x)\n",
    "        x += step"
   ]
  },
  {
   "cell_type": "code",
   "execution_count": 5,
   "id": "21e6cdcb",
   "metadata": {},
   "outputs": [
    {
     "name": "stdout",
     "output_type": "stream",
     "text": [
      "231 ms ± 578 µs per loop (mean ± std. dev. of 7 runs, 1 loop each)\n"
     ]
    }
   ],
   "source": [
    "%timeit test1(1000000)"
   ]
  },
  {
   "cell_type": "code",
   "execution_count": 6,
   "id": "256ff401",
   "metadata": {},
   "outputs": [
    {
     "name": "stdout",
     "output_type": "stream",
     "text": [
      "189 ms ± 1.6 ms per loop (mean ± std. dev. of 7 runs, 10 loops each)\n"
     ]
    }
   ],
   "source": [
    "%timeit test2(1000000)"
   ]
  },
  {
   "cell_type": "code",
   "execution_count": 7,
   "id": "0b7be568",
   "metadata": {},
   "outputs": [],
   "source": [
    "def aop1(x, n):\n",
    "    s = 0\n",
    "    for k in range(n + 1):\n",
    "        p = 1\n",
    "        for i in range(k):\n",
    "            p *= x\n",
    "        s += p\n",
    "    return s"
   ]
  },
  {
   "cell_type": "code",
   "execution_count": 8,
   "id": "7cea062b",
   "metadata": {},
   "outputs": [],
   "source": [
    "def aop2(x, n):\n",
    "    s = 1\n",
    "    for i in range(n):\n",
    "        s *= x\n",
    "        s += 1\n",
    "    return s"
   ]
  },
  {
   "cell_type": "code",
   "execution_count": 12,
   "id": "94619cd1",
   "metadata": {},
   "outputs": [
    {
     "data": {
      "text/plain": [
       "2535301200456458802993406410751"
      ]
     },
     "execution_count": 12,
     "metadata": {},
     "output_type": "execute_result"
    }
   ],
   "source": [
    "#724\n",
    "aop1(2,100)"
   ]
  },
  {
   "cell_type": "code",
   "execution_count": 13,
   "id": "a77f10d9",
   "metadata": {},
   "outputs": [
    {
     "data": {
      "text/plain": [
       "2535301200456458802993406410751"
      ]
     },
     "execution_count": 13,
     "metadata": {},
     "output_type": "execute_result"
    }
   ],
   "source": [
    "aop2(2, 100)"
   ]
  },
  {
   "cell_type": "code",
   "execution_count": null,
   "id": "2d1a9004",
   "metadata": {},
   "outputs": [],
   "source": [
    "#725\n",
    "Das Ergebnis von aop1(20,1000) ist deutlich größer. Da in beiden Fällen mit Langzahlarythmetik gerechnet wird\n",
    "hängt die Ausführungsgeschwindigkeit von operatoren wie + und * ab."
   ]
  },
  {
   "cell_type": "code",
   "execution_count": 15,
   "id": "4561baf3",
   "metadata": {},
   "outputs": [],
   "source": [
    "#726\n",
    "#-> geometrische Summe\n",
    "def aop3(x, n):\n",
    "    p = 1\n",
    "    for i in range(n + 1):\n",
    "        p *= x\n",
    "    return (1 - p)/ (1 - x)"
   ]
  },
  {
   "cell_type": "code",
   "execution_count": null,
   "id": "103cc371",
   "metadata": {},
   "outputs": [],
   "source": []
  }
 ],
 "metadata": {
  "kernelspec": {
   "display_name": "Python 3 (ipykernel)",
   "language": "python",
   "name": "python3"
  },
  "language_info": {
   "codemirror_mode": {
    "name": "ipython",
    "version": 3
   },
   "file_extension": ".py",
   "mimetype": "text/x-python",
   "name": "python",
   "nbconvert_exporter": "python",
   "pygments_lexer": "ipython3",
   "version": "3.10.6"
  }
 },
 "nbformat": 4,
 "nbformat_minor": 5
}
