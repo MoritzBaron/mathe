{
 "cells": [
  {
   "cell_type": "code",
   "execution_count": 1,
   "id": "58c08d77",
   "metadata": {},
   "outputs": [],
   "source": [
    "#461\n",
    "v1=[-3,2]\n",
    "v2=[-6,15]\n",
    "v3=[-0.5,1.5]"
   ]
  },
  {
   "cell_type": "code",
   "execution_count": 3,
   "id": "3940a292",
   "metadata": {},
   "outputs": [],
   "source": [
    "#462\n",
    "def vectorAdd(A,B):\n",
    "    return[a + b for a, b in zip(A,B)]\n",
    "\n",
    "def scalarVectorMult(x,A):\n",
    "    return[x * a for a in A]"
   ]
  },
  {
   "cell_type": "code",
   "execution_count": 8,
   "id": "063583f2",
   "metadata": {},
   "outputs": [
    {
     "data": {
      "text/plain": [
       "[2, 5, 1]"
      ]
     },
     "execution_count": 8,
     "metadata": {},
     "output_type": "execute_result"
    }
   ],
   "source": [
    "vectorAdd([3,4,1], [-1,1,0])\n"
   ]
  },
  {
   "cell_type": "code",
   "execution_count": 7,
   "id": "24022412",
   "metadata": {},
   "outputs": [
    {
     "data": {
      "text/plain": [
       "[-12, 42]"
      ]
     },
     "execution_count": 7,
     "metadata": {},
     "output_type": "execute_result"
    }
   ],
   "source": [
    "scalarVectorMult(6, [-2,7])"
   ]
  },
  {
   "cell_type": "code",
   "execution_count": null,
   "id": "4c19a33c",
   "metadata": {},
   "outputs": [],
   "source": [
    "#463\n",
    "zwei Vectoren sind parallel, wenn ein Vector ein Vielfaches des anderen Vectors ist\n",
    "-> a parallel b\n",
    "-> a nicht parallel c"
   ]
  },
  {
   "cell_type": "code",
   "execution_count": null,
   "id": "aeb1e96c",
   "metadata": {},
   "outputs": [],
   "source": [
    "#464\n",
    "mehrdeutige Rechenzeichen"
   ]
  },
  {
   "cell_type": "code",
   "execution_count": null,
   "id": "82c747c4",
   "metadata": {},
   "outputs": [],
   "source": [
    "#465\n",
    "Eigenschaften von Vectoren\n",
    "v1=[1,2], v2=[3,4], v3=[5,6]\n",
    "\n",
    "[1,2] + 0 = [1,2]\n",
    "[1,2] + [3,4] = [3,4] + [1,2] #Kommutativ\n",
    "[1,2] + ([3,4] + [5,6]) = ([1,2] + [3,4]) + [5,6] #Assoziativität\n",
    "0 * [1,2] = 0\n",
    "1 * [1,2] = [1,2]\n",
    "-1 * [1,2] + [1,2] = 0\n",
    "2 * ([1,2] + [3,4]) = 2 * [1,2] + 2 * [3,4] #Linksdistributivität\n",
    "(2 + 4) * [1,2] = 2 * [1,2] + 4 * [1,2] #Rechtsdistributivität\n",
    "(2 * 4) * [1,2] = 2 * (4 * [1,2])"
   ]
  },
  {
   "cell_type": "code",
   "execution_count": null,
   "id": "e777f722",
   "metadata": {},
   "outputs": [],
   "source": [
    "#466\n",
    "wenn Gerade parallel zur x-Achse dann m = 0"
   ]
  },
  {
   "cell_type": "code",
   "execution_count": null,
   "id": "8f83d78f",
   "metadata": {},
   "outputs": [],
   "source": [
    "#467\n",
    "Geraden welche parallel zur y-Achse verlaufen lassen sich nicht mit der Form y = m * x + b darstellen"
   ]
  },
  {
   "cell_type": "code",
   "execution_count": null,
   "id": "32649889",
   "metadata": {},
   "outputs": [],
   "source": [
    "#468\n",
    "g = v1 + lambda * v2\n",
    "g = m * x + b \n"
   ]
  },
  {
   "cell_type": "code",
   "execution_count": null,
   "id": "d6783caf",
   "metadata": {},
   "outputs": [],
   "source": [
    "#469\n",
    "der zweite punkt liegt nicht auf der Geraden da zwei unterschiedliche Lambda rauskommen"
   ]
  },
  {
   "cell_type": "code",
   "execution_count": null,
   "id": "fbdca508",
   "metadata": {},
   "outputs": [],
   "source": [
    "#470\n",
    "Der Ortsvector kann mit einem beliebigen Punkt auf der Geraden ausgetauscht werden\n",
    "Der Richtungvector kann auch negativ(andere Richtung) oder ein vielfaches des Richtungsvectors sein"
   ]
  },
  {
   "cell_type": "code",
   "execution_count": null,
   "id": "55cca9aa",
   "metadata": {},
   "outputs": [],
   "source": [
    "#471\n",
    "Wenn man die erste komponente nach lambda auflöst und in die zweite Komponente einsetzt erhält \n",
    "man die form:\n",
    "    y = m * x + b"
   ]
  },
  {
   "cell_type": "code",
   "execution_count": null,
   "id": "0de9fd87",
   "metadata": {},
   "outputs": [],
   "source": [
    "#472\n",
    "y = -1/2 * x - 0,5"
   ]
  },
  {
   "cell_type": "code",
   "execution_count": null,
   "id": "7f6bc3ad",
   "metadata": {},
   "outputs": [],
   "source": [
    "#Anmerkung:\n",
    "Richtungsvector = 1/m oder die Differenz der beiden gegebenen Ortsvektoren(p2-p1)"
   ]
  },
  {
   "cell_type": "code",
   "execution_count": null,
   "id": "ab446b76",
   "metadata": {},
   "outputs": [],
   "source": [
    "#473\n",
    "g1: y = 12; gerade parallel zur x-Achse -> Steigung m = 0; p1(0,12), Richtungsvector[1,0]\n",
    "g2: y = -2 * x + 5; Richtungsvector = 1/m -> -1/2; x1 = 0 -> p1 = (0,5); x2 = 1 -> p2=(1,3)\n",
    "PunktRichtungsForm:\n",
    "    g1 = [0,12] + lambda*[1,0]\n",
    "    g2 = [0,5] + lambda([0,5] - [1,3])"
   ]
  },
  {
   "cell_type": "code",
   "execution_count": null,
   "id": "e4fe3417",
   "metadata": {},
   "outputs": [],
   "source": [
    "#474\n",
    "p1=(1,2); p2=(-3,1)\n",
    "    g = [1,2] + lambda * ([1,2] - [-3,1])\n",
    "\n",
    "oder:\n",
    "    g = lambda1*[1,2] + lambda2*[-3,1] mit lamda1 + lambda2 = 1"
   ]
  },
  {
   "cell_type": "code",
   "execution_count": null,
   "id": "4fbafcc6",
   "metadata": {},
   "outputs": [],
   "source": [
    "#475\n",
    "[5,3] = [1,2] + lambda * [-4,-1] -> lambda = -1, punkt liegt auf der Geraden\n",
    "aber:\n",
    "[5,3] = lambda1*[1,2] + lambda2*[-3,1] -> lambda1 = 2, lambda2 = -1, \n",
    "nicht im Intervall[0,1] deswegen nicht auf Verbindugsstrecke von p1 und p2"
   ]
  },
  {
   "cell_type": "code",
   "execution_count": null,
   "id": "ce5719c2",
   "metadata": {},
   "outputs": [],
   "source": [
    "#476\n",
    "bei Schnittmengenberechnung: g1 = g1\n",
    "[3,-1] + lambda * [2,7] = [2,2] + lambda * [-1,5]\n",
    "komponentenweise:\n",
    "    3 + 2*lambda = 2 - lambda1 -> 2*lambda + lambda1 = -1\n",
    "    -1 + 7*lambda = 2 + 5*lambda1 -> 7*lambda - 5*lambda1 = 3\n",
    "->LGS:\n",
    "    erste zeile nach lambda1 auflösen, dann in zweite zeile einsetzen\n",
    "    lambda = -2/17\n",
    "-> einsetzen in g1:\n",
    "    p = [3,-1] - [2,17] * [2,7] = 1/17 * [47,-31]"
   ]
  },
  {
   "cell_type": "code",
   "execution_count": null,
   "id": "b71cf06a",
   "metadata": {},
   "outputs": [],
   "source": [
    "#477\n",
    "keinen Schnittpunkt -> parallel\n",
    "einen Schnittpunkt \n",
    "aufeinander liegend"
   ]
  },
  {
   "cell_type": "code",
   "execution_count": null,
   "id": "64a63309",
   "metadata": {},
   "outputs": [],
   "source": [
    "#478\n",
    "p1 = (1,2,0), p2 = (-3,1,5)\n",
    "\n",
    "g = [1,2,0] + lambda * [-4,-1,5]"
   ]
  },
  {
   "cell_type": "code",
   "execution_count": null,
   "id": "06953c0b",
   "metadata": {},
   "outputs": [],
   "source": [
    "#479\n",
    "v1 und v2 dürfen nicht prallel sein sonst würde eine Gerade beschrieben werden"
   ]
  },
  {
   "cell_type": "code",
   "execution_count": null,
   "id": "839c47b0",
   "metadata": {},
   "outputs": [],
   "source": [
    "#480\n",
    "p1 = (1,2,1), p2 = (3,-1,5), p3 = (4,0,-6)\n",
    "\n",
    "E = p1(Ortsvector) + lambda*(p2-p1) + lambda1*(p3-p1)\n",
    "  = [1,2,1] + lambda*(2,-3,4) + lambda1*[3,-2,-7]"
   ]
  },
  {
   "cell_type": "code",
   "execution_count": null,
   "id": "0631772b",
   "metadata": {},
   "outputs": [],
   "source": [
    "#481\n",
    "schnittpunkt von g1 und E1: \n",
    "    g1 = E1 -> komponentenweise aufschreiben -> LGS mit 3 unbekannten"
   ]
  },
  {
   "cell_type": "code",
   "execution_count": null,
   "id": "255418ef",
   "metadata": {},
   "outputs": [],
   "source": []
  }
 ],
 "metadata": {
  "kernelspec": {
   "display_name": "Python 3 (ipykernel)",
   "language": "python",
   "name": "python3"
  },
  "language_info": {
   "codemirror_mode": {
    "name": "ipython",
    "version": 3
   },
   "file_extension": ".py",
   "mimetype": "text/x-python",
   "name": "python",
   "nbconvert_exporter": "python",
   "pygments_lexer": "ipython3",
   "version": "3.10.12"
  }
 },
 "nbformat": 4,
 "nbformat_minor": 5
}
