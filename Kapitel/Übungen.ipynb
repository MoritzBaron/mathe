{
 "cells": [
  {
   "cell_type": "markdown",
   "id": "a86f5114",
   "metadata": {},
   "source": [
    "Kapitel 1"
   ]
  },
  {
   "cell_type": "code",
   "execution_count": null,
   "id": "93c21c7c",
   "metadata": {},
   "outputs": [],
   "source": []
  },
  {
   "cell_type": "code",
   "execution_count": 3,
   "id": "f4df2750",
   "metadata": {},
   "outputs": [
    {
     "data": {
      "text/plain": [
       "5525"
      ]
     },
     "execution_count": 3,
     "metadata": {},
     "output_type": "execute_result"
    }
   ],
   "source": [
    "a = 0\n",
    "s = 0 #Summe\n",
    "while a <= 25:\n",
    "    s += a**2\n",
    "    a += 1   \n",
    "s"
   ]
  },
  {
   "cell_type": "code",
   "execution_count": 5,
   "id": "bd44924d",
   "metadata": {},
   "outputs": [
    {
     "data": {
      "text/plain": [
       "20825"
      ]
     },
     "execution_count": 5,
     "metadata": {},
     "output_type": "execute_result"
    }
   ],
   "source": [
    "a = 1\n",
    "s = 0 #Summe\n",
    "while a <= 49:\n",
    "    s += a**2\n",
    "    a += 2\n",
    "s"
   ]
  },
  {
   "cell_type": "code",
   "execution_count": 10,
   "id": "38e4a125",
   "metadata": {},
   "outputs": [
    {
     "data": {
      "text/plain": [
       "2500"
      ]
     },
     "execution_count": 10,
     "metadata": {},
     "output_type": "execute_result"
    }
   ],
   "source": [
    "a = 1\n",
    "s = 0\n",
    "while a <= 100:\n",
    "    s += a\n",
    "    a += 2\n",
    "s"
   ]
  },
  {
   "cell_type": "code",
   "execution_count": 11,
   "id": "b8ca7e11",
   "metadata": {},
   "outputs": [
    {
     "data": {
      "text/plain": [
       "11475"
      ]
     },
     "execution_count": 11,
     "metadata": {},
     "output_type": "execute_result"
    }
   ],
   "source": [
    "a = 200\n",
    "s = 0\n",
    "while a <= 250:\n",
    "    s += a\n",
    "    a += 1\n",
    "s"
   ]
  },
  {
   "cell_type": "code",
   "execution_count": 14,
   "id": "46d4732f",
   "metadata": {},
   "outputs": [
    {
     "data": {
      "text/plain": [
       "85456"
      ]
     },
     "execution_count": 14,
     "metadata": {},
     "output_type": "execute_result"
    }
   ],
   "source": [
    "a = 1\n",
    "s = 0\n",
    "k = 1\n",
    "while a <= 55:\n",
    "    s += k * a**3\n",
    "    a += 1\n",
    "    k *= (-1)\n",
    "s"
   ]
  },
  {
   "cell_type": "code",
   "execution_count": 18,
   "id": "b6a2f4af",
   "metadata": {},
   "outputs": [
    {
     "data": {
      "text/plain": [
       "8683317618811886495518194401280000000"
      ]
     },
     "execution_count": 18,
     "metadata": {},
     "output_type": "execute_result"
    }
   ],
   "source": [
    "a = 1\n",
    "s = 1\n",
    "while a <= 33:\n",
    "    s *= a\n",
    "    a += 1\n",
    "s"
   ]
  },
  {
   "cell_type": "code",
   "execution_count": 20,
   "id": "0a19d667",
   "metadata": {},
   "outputs": [
    {
     "data": {
      "text/plain": [
       "37"
      ]
     },
     "execution_count": 20,
     "metadata": {},
     "output_type": "execute_result"
    }
   ],
   "source": [
    "a = 0\n",
    "while a**7 + 1 >= 2**a:\n",
    "    a += 1\n",
    "a\n"
   ]
  },
  {
   "cell_type": "markdown",
   "id": "99c7f944",
   "metadata": {},
   "source": [
    "Kapitel 2"
   ]
  },
  {
   "cell_type": "code",
   "execution_count": 21,
   "id": "e66aae70",
   "metadata": {},
   "outputs": [],
   "source": [
    "def convDecToSev (n):\n",
    "    if n == 0:\n",
    "        return 0\n",
    "    sev = []\n",
    "    while n > 0:\n",
    "        sev.append(n%7)\n",
    "        n //= 7\n",
    "    return list(reversed(sev))\n"
   ]
  },
  {
   "cell_type": "code",
   "execution_count": 22,
   "id": "35e0c2df",
   "metadata": {},
   "outputs": [
    {
     "data": {
      "text/plain": [
       "[1, 3, 3, 3, 1, 2, 1, 5]"
      ]
     },
     "execution_count": 22,
     "metadata": {},
     "output_type": "execute_result"
    }
   ],
   "source": [
    "convDecToSev(1234567)"
   ]
  },
  {
   "cell_type": "code",
   "execution_count": 30,
   "id": "300c644f",
   "metadata": {},
   "outputs": [
    {
     "data": {
      "text/plain": [
       "35350"
      ]
     },
     "execution_count": 30,
     "metadata": {},
     "output_type": "execute_result"
    }
   ],
   "source": [
    "a = 0\n",
    "s = 0\n",
    "while a <= 700:\n",
    "    if a % 7 == 0:\n",
    "        s += a\n",
    "    a += 7\n",
    "s"
   ]
  },
  {
   "cell_type": "code",
   "execution_count": 34,
   "id": "4269e725",
   "metadata": {},
   "outputs": [
    {
     "data": {
      "text/plain": [
       "36057"
      ]
     },
     "execution_count": 34,
     "metadata": {},
     "output_type": "execute_result"
    }
   ],
   "source": [
    "a = 0\n",
    "s = 0\n",
    "while a <= 707:\n",
    "    if a % 7 == 0:\n",
    "        s += a\n",
    "    a += 7\n",
    "s"
   ]
  },
  {
   "cell_type": "code",
   "execution_count": 35,
   "id": "c23f259e",
   "metadata": {},
   "outputs": [
    {
     "data": {
      "text/plain": [
       "735"
      ]
     },
     "execution_count": 35,
     "metadata": {},
     "output_type": "execute_result"
    }
   ],
   "source": [
    "a = 0\n",
    "s = 0\n",
    "while a <= 100:\n",
    "    if a % 7 == 0:\n",
    "        s += a\n",
    "    a += 1\n",
    "s"
   ]
  },
  {
   "cell_type": "markdown",
   "id": "a0bb4dc1",
   "metadata": {},
   "source": [
    "zu 10: elegantere lösung"
   ]
  },
  {
   "cell_type": "code",
   "execution_count": 36,
   "id": "945a8bc5",
   "metadata": {},
   "outputs": [
    {
     "data": {
      "text/plain": [
       "35350"
      ]
     },
     "execution_count": 36,
     "metadata": {},
     "output_type": "execute_result"
    }
   ],
   "source": [
    "a = 0\n",
    "s = 0\n",
    "x = 0\n",
    "while x <= 100:\n",
    "    if a % 7 == 0:\n",
    "        s += a\n",
    "        x += 1\n",
    "    a += 1\n",
    "s"
   ]
  },
  {
   "cell_type": "code",
   "execution_count": 39,
   "id": "f92596ef",
   "metadata": {},
   "outputs": [
    {
     "data": {
      "text/plain": [
       "18"
      ]
     },
     "execution_count": 39,
     "metadata": {},
     "output_type": "execute_result"
    }
   ],
   "source": [
    "c = 0\n",
    "x = 0\n",
    "while x**2 < 5000:\n",
    "    if x**2 % 8 == 0:\n",
    "        c += 1\n",
    "    x += 1\n",
    "c"
   ]
  },
  {
   "cell_type": "code",
   "execution_count": 40,
   "id": "07bb113e",
   "metadata": {},
   "outputs": [
    {
     "data": {
      "text/plain": [
       "493"
      ]
     },
     "execution_count": 40,
     "metadata": {},
     "output_type": "execute_result"
    }
   ],
   "source": [
    "x = 0\n",
    "c = 0\n",
    "while x**2 < 300000:\n",
    "    if x**2 > 3000:\n",
    "        c += 1\n",
    "    x += 1\n",
    "c\n",
    "    "
   ]
  },
  {
   "cell_type": "code",
   "execution_count": 50,
   "id": "5b1db3f9",
   "metadata": {},
   "outputs": [
    {
     "data": {
      "text/plain": [
       "9"
      ]
     },
     "execution_count": 50,
     "metadata": {},
     "output_type": "execute_result"
    }
   ],
   "source": [
    "x = 0\n",
    "counter = 0\n",
    "while x**2 < 5000:\n",
    "    if x % 8 == 0:\n",
    "        counter += 1\n",
    "    x += 1   \n",
    "counter"
   ]
  },
  {
   "cell_type": "code",
   "execution_count": 51,
   "id": "5ae40388",
   "metadata": {},
   "outputs": [
    {
     "data": {
      "text/plain": [
       "17"
      ]
     },
     "execution_count": 51,
     "metadata": {},
     "output_type": "execute_result"
    }
   ],
   "source": [
    "9+8"
   ]
  },
  {
   "cell_type": "code",
   "execution_count": 52,
   "id": "ff02eae5",
   "metadata": {},
   "outputs": [
    {
     "data": {
      "text/plain": [
       "72"
      ]
     },
     "execution_count": 52,
     "metadata": {},
     "output_type": "execute_result"
    }
   ],
   "source": [
    "9*8\n"
   ]
  },
  {
   "cell_type": "code",
   "execution_count": 53,
   "id": "da9c5edb",
   "metadata": {},
   "outputs": [
    {
     "data": {
      "text/plain": [
       "5184"
      ]
     },
     "execution_count": 53,
     "metadata": {},
     "output_type": "execute_result"
    }
   ],
   "source": [
    "72**2"
   ]
  },
  {
   "cell_type": "code",
   "execution_count": 54,
   "id": "bb794f1b",
   "metadata": {},
   "outputs": [
    {
     "ename": "SyntaxError",
     "evalue": "invalid digit '3' in binary literal (2894726189.py, line 1)",
     "output_type": "error",
     "traceback": [
      "\u001b[0;36m  Input \u001b[0;32mIn [54]\u001b[0;36m\u001b[0m\n\u001b[0;31m    0b130\u001b[0m\n\u001b[0m       ^\u001b[0m\n\u001b[0;31mSyntaxError\u001b[0m\u001b[0;31m:\u001b[0m invalid digit '3' in binary literal\n"
     ]
    }
   ],
   "source": [
    "0b130"
   ]
  },
  {
   "cell_type": "code",
   "execution_count": 55,
   "id": "59767006",
   "metadata": {},
   "outputs": [
    {
     "ename": "SyntaxError",
     "evalue": "invalid syntax (3180570428.py, line 1)",
     "output_type": "error",
     "traceback": [
      "\u001b[0;36m  Input \u001b[0;32mIn [55]\u001b[0;36m\u001b[0m\n\u001b[0;31m    0d130\u001b[0m\n\u001b[0m     ^\u001b[0m\n\u001b[0;31mSyntaxError\u001b[0m\u001b[0;31m:\u001b[0m invalid syntax\n"
     ]
    }
   ],
   "source": [
    "0d130"
   ]
  },
  {
   "cell_type": "code",
   "execution_count": 56,
   "id": "3fdd376e",
   "metadata": {},
   "outputs": [
    {
     "data": {
      "text/plain": [
       "216"
      ]
     },
     "execution_count": 56,
     "metadata": {},
     "output_type": "execute_result"
    }
   ],
   "source": [
    "27 << 3"
   ]
  },
  {
   "cell_type": "code",
   "execution_count": 1,
   "id": "bea9cc6e",
   "metadata": {},
   "outputs": [
    {
     "data": {
      "text/plain": [
       "0"
      ]
     },
     "execution_count": 1,
     "metadata": {},
     "output_type": "execute_result"
    }
   ],
   "source": [
    "(49+70)%17"
   ]
  },
  {
   "cell_type": "code",
   "execution_count": 2,
   "id": "14eff8a1",
   "metadata": {},
   "outputs": [
    {
     "data": {
      "text/plain": [
       "0"
      ]
     },
     "execution_count": 2,
     "metadata": {},
     "output_type": "execute_result"
    }
   ],
   "source": [
    "119%17"
   ]
  },
  {
   "cell_type": "code",
   "execution_count": 6,
   "id": "ff9971d7",
   "metadata": {},
   "outputs": [
    {
     "data": {
      "text/plain": [
       "29"
      ]
     },
     "execution_count": 6,
     "metadata": {},
     "output_type": "execute_result"
    }
   ],
   "source": [
    "a=29\n",
    "b=1\n",
    "n=0\n",
    "while n<=13:\n",
    "    a = a*b**n\n",
    "    n+=1\n",
    "a"
   ]
  },
  {
   "cell_type": "markdown",
   "id": "175e7d87",
   "metadata": {},
   "source": [
    "A28:\n"
   ]
  },
  {
   "cell_type": "code",
   "execution_count": 1,
   "id": "21647eb4",
   "metadata": {},
   "outputs": [
    {
     "data": {
      "text/plain": [
       "15"
      ]
     },
     "execution_count": 1,
     "metadata": {},
     "output_type": "execute_result"
    }
   ],
   "source": [
    "c = 0 #Zähler\n",
    "x = 0\n",
    "while x < 160:\n",
    "    if (x**3) % 160 == x % 160:\n",
    "        c += 1\n",
    "    x += 1\n",
    "c"
   ]
  },
  {
   "cell_type": "code",
   "execution_count": 3,
   "id": "bf6a5f76",
   "metadata": {},
   "outputs": [],
   "source": [
    "a = 999999**2"
   ]
  },
  {
   "cell_type": "code",
   "execution_count": 4,
   "id": "7b7fa2cc",
   "metadata": {},
   "outputs": [
    {
     "data": {
      "text/plain": [
       "'0b1110100011010100100001101000101110000001'"
      ]
     },
     "execution_count": 4,
     "metadata": {},
     "output_type": "execute_result"
    }
   ],
   "source": [
    "bin(a)"
   ]
  },
  {
   "cell_type": "code",
   "execution_count": 5,
   "id": "abf962be",
   "metadata": {},
   "outputs": [],
   "source": [
    "a =3**4\n"
   ]
  },
  {
   "cell_type": "code",
   "execution_count": 6,
   "id": "feacee47",
   "metadata": {},
   "outputs": [
    {
     "data": {
      "text/plain": [
       "2417851639229258349412352"
      ]
     },
     "execution_count": 6,
     "metadata": {},
     "output_type": "execute_result"
    }
   ],
   "source": [
    "2**a\n"
   ]
  },
  {
   "cell_type": "markdown",
   "id": "24ae032e",
   "metadata": {},
   "source": [
    "A49:"
   ]
  },
  {
   "cell_type": "code",
   "execution_count": null,
   "id": "4d15aba5",
   "metadata": {},
   "outputs": [],
   "source": [
    "# nicht laufen lassen!\n",
    "ls = [42]\n",
    "i = i\n",
    "while i < 42:\n",
    "    ls += 1s\n",
    "    i += 1\n",
    "len(ls)"
   ]
  },
  {
   "cell_type": "code",
   "execution_count": 10,
   "id": "2eda4845",
   "metadata": {},
   "outputs": [
    {
     "name": "stdout",
     "output_type": "stream",
     "text": [
      "[42, 42]\n",
      "[42, 42, 42, 42]\n",
      "[42, 42, 42, 42, 42, 42, 42, 42]\n"
     ]
    }
   ],
   "source": [
    "ls = [42]\n",
    "i = 1\n",
    "while i < 4:\n",
    "    ls += ls\n",
    "    print(ls)\n",
    "    i += 1"
   ]
  },
  {
   "cell_type": "code",
   "execution_count": 11,
   "id": "ecdd2ee1",
   "metadata": {},
   "outputs": [
    {
     "data": {
      "text/plain": [
       "5"
      ]
     },
     "execution_count": 11,
     "metadata": {},
     "output_type": "execute_result"
    }
   ],
   "source": [
    "-2%7\n"
   ]
  },
  {
   "cell_type": "code",
   "execution_count": 12,
   "id": "c9a3354c",
   "metadata": {},
   "outputs": [
    {
     "data": {
      "text/plain": [
       "5"
      ]
     },
     "execution_count": 12,
     "metadata": {},
     "output_type": "execute_result"
    }
   ],
   "source": [
    "5 %7"
   ]
  },
  {
   "cell_type": "code",
   "execution_count": 13,
   "id": "ea0737fb",
   "metadata": {},
   "outputs": [
    {
     "data": {
      "text/plain": [
       "5"
      ]
     },
     "execution_count": 13,
     "metadata": {},
     "output_type": "execute_result"
    }
   ],
   "source": [
    "-16%7\n"
   ]
  },
  {
   "cell_type": "code",
   "execution_count": 14,
   "id": "ab886491",
   "metadata": {},
   "outputs": [
    {
     "data": {
      "text/plain": [
       "5"
      ]
     },
     "execution_count": 14,
     "metadata": {},
     "output_type": "execute_result"
    }
   ],
   "source": [
    "-9%7"
   ]
  },
  {
   "cell_type": "code",
   "execution_count": 15,
   "id": "4f8a19f1",
   "metadata": {},
   "outputs": [
    {
     "data": {
      "text/plain": [
       "5"
      ]
     },
     "execution_count": 15,
     "metadata": {},
     "output_type": "execute_result"
    }
   ],
   "source": [
    "12%7\n"
   ]
  },
  {
   "cell_type": "code",
   "execution_count": 16,
   "id": "ea533441",
   "metadata": {},
   "outputs": [
    {
     "data": {
      "text/plain": [
       "6"
      ]
     },
     "execution_count": 16,
     "metadata": {},
     "output_type": "execute_result"
    }
   ],
   "source": [
    "20%7\n"
   ]
  },
  {
   "cell_type": "code",
   "execution_count": 17,
   "id": "5ec235a5",
   "metadata": {},
   "outputs": [
    {
     "data": {
      "text/plain": [
       "6"
      ]
     },
     "execution_count": 17,
     "metadata": {},
     "output_type": "execute_result"
    }
   ],
   "source": [
    "-1%7"
   ]
  },
  {
   "cell_type": "code",
   "execution_count": null,
   "id": "cf8d59ae",
   "metadata": {},
   "outputs": [],
   "source": [
    "01111100\n",
    "10000011\n",
    "10000100"
   ]
  },
  {
   "cell_type": "markdown",
   "id": "ca9d04a8",
   "metadata": {},
   "source": [
    "Multiplikation mit 14:"
   ]
  },
  {
   "cell_type": "code",
   "execution_count": 23,
   "id": "963a0e53",
   "metadata": {},
   "outputs": [],
   "source": [
    "def funk(x):\n",
    "    return((x<<3) + (x<<2) + (x<<1))\n",
    "    "
   ]
  },
  {
   "cell_type": "code",
   "execution_count": 24,
   "id": "1de9ff63",
   "metadata": {},
   "outputs": [
    {
     "data": {
      "text/plain": [
       "14"
      ]
     },
     "execution_count": 24,
     "metadata": {},
     "output_type": "execute_result"
    }
   ],
   "source": [
    "funk(1)"
   ]
  },
  {
   "cell_type": "code",
   "execution_count": 25,
   "id": "1151c725",
   "metadata": {},
   "outputs": [
    {
     "data": {
      "text/plain": [
       "28"
      ]
     },
     "execution_count": 25,
     "metadata": {},
     "output_type": "execute_result"
    }
   ],
   "source": [
    "funk(2)"
   ]
  },
  {
   "cell_type": "code",
   "execution_count": 26,
   "id": "0fa0e008",
   "metadata": {},
   "outputs": [
    {
     "data": {
      "text/plain": [
       "'0b1111101000'"
      ]
     },
     "execution_count": 26,
     "metadata": {},
     "output_type": "execute_result"
    }
   ],
   "source": [
    "bin(1000)"
   ]
  },
  {
   "cell_type": "code",
   "execution_count": 27,
   "id": "85ff6bd8",
   "metadata": {},
   "outputs": [
    {
     "data": {
      "text/plain": [
       "42"
      ]
     },
     "execution_count": 27,
     "metadata": {},
     "output_type": "execute_result"
    }
   ],
   "source": [
    "(186*25)%256"
   ]
  },
  {
   "cell_type": "code",
   "execution_count": 28,
   "id": "12aa69d8",
   "metadata": {},
   "outputs": [
    {
     "data": {
      "text/plain": [
       "'1001000101010'"
      ]
     },
     "execution_count": 28,
     "metadata": {},
     "output_type": "execute_result"
    }
   ],
   "source": [
    "\"{:b}\".format(186*25)"
   ]
  },
  {
   "cell_type": "code",
   "execution_count": 29,
   "id": "50b97e9d",
   "metadata": {},
   "outputs": [
    {
     "data": {
      "text/plain": [
       "255"
      ]
     },
     "execution_count": 29,
     "metadata": {},
     "output_type": "execute_result"
    }
   ],
   "source": [
    "0b11111111"
   ]
  },
  {
   "cell_type": "code",
   "execution_count": 30,
   "id": "422b7566",
   "metadata": {},
   "outputs": [
    {
     "data": {
      "text/plain": [
       "65025"
      ]
     },
     "execution_count": 30,
     "metadata": {},
     "output_type": "execute_result"
    }
   ],
   "source": [
    "255*255"
   ]
  },
  {
   "cell_type": "code",
   "execution_count": 31,
   "id": "24280613",
   "metadata": {},
   "outputs": [
    {
     "data": {
      "text/plain": [
       "'0b1111111000000001'"
      ]
     },
     "execution_count": 31,
     "metadata": {},
     "output_type": "execute_result"
    }
   ],
   "source": [
    "bin(65025)"
   ]
  },
  {
   "cell_type": "code",
   "execution_count": 32,
   "id": "f2e93a67",
   "metadata": {},
   "outputs": [
    {
     "data": {
      "text/plain": [
       "11"
      ]
     },
     "execution_count": 32,
     "metadata": {},
     "output_type": "execute_result"
    }
   ],
   "source": [
    "201%19"
   ]
  },
  {
   "cell_type": "code",
   "execution_count": 33,
   "id": "472fe12d",
   "metadata": {},
   "outputs": [
    {
     "data": {
      "text/plain": [
       "6"
      ]
     },
     "execution_count": 33,
     "metadata": {},
     "output_type": "execute_result"
    }
   ],
   "source": [
    "101%19"
   ]
  },
  {
   "cell_type": "code",
   "execution_count": 34,
   "id": "d4d12cb8",
   "metadata": {},
   "outputs": [
    {
     "data": {
      "text/plain": [
       "0"
      ]
     },
     "execution_count": 34,
     "metadata": {},
     "output_type": "execute_result"
    }
   ],
   "source": [
    "0%7"
   ]
  },
  {
   "cell_type": "code",
   "execution_count": 35,
   "id": "f46bafb3",
   "metadata": {},
   "outputs": [
    {
     "data": {
      "text/plain": [
       "0"
      ]
     },
     "execution_count": 35,
     "metadata": {},
     "output_type": "execute_result"
    }
   ],
   "source": [
    "42%7"
   ]
  },
  {
   "cell_type": "code",
   "execution_count": 52,
   "id": "1a307d4b",
   "metadata": {},
   "outputs": [],
   "source": [
    "def fak(x):\n",
    "    a = 1\n",
    "    b = 1\n",
    "    while b <= x:\n",
    "        a *= b\n",
    "        b += 1\n",
    "    return a\n",
    "        "
   ]
  },
  {
   "cell_type": "code",
   "execution_count": 47,
   "id": "886a9bad",
   "metadata": {},
   "outputs": [
    {
     "name": "stdout",
     "output_type": "stream",
     "text": [
      "1\n",
      "2\n",
      "3\n"
     ]
    },
    {
     "data": {
      "text/plain": [
       "6"
      ]
     },
     "execution_count": 47,
     "metadata": {},
     "output_type": "execute_result"
    }
   ],
   "source": [
    "fak(3)"
   ]
  },
  {
   "cell_type": "code",
   "execution_count": 48,
   "id": "f685b937",
   "metadata": {},
   "outputs": [
    {
     "name": "stdout",
     "output_type": "stream",
     "text": [
      "1\n",
      "2\n",
      "3\n",
      "4\n"
     ]
    },
    {
     "data": {
      "text/plain": [
       "24"
      ]
     },
     "execution_count": 48,
     "metadata": {},
     "output_type": "execute_result"
    }
   ],
   "source": [
    "fak(4)"
   ]
  },
  {
   "cell_type": "code",
   "execution_count": 49,
   "id": "d2370690",
   "metadata": {},
   "outputs": [
    {
     "name": "stdout",
     "output_type": "stream",
     "text": [
      "1\n",
      "2\n",
      "3\n",
      "4\n",
      "5\n",
      "6\n"
     ]
    },
    {
     "data": {
      "text/plain": [
       "720"
      ]
     },
     "execution_count": 49,
     "metadata": {},
     "output_type": "execute_result"
    }
   ],
   "source": [
    "fak(6)"
   ]
  },
  {
   "cell_type": "code",
   "execution_count": 50,
   "id": "78931cac",
   "metadata": {},
   "outputs": [
    {
     "name": "stdout",
     "output_type": "stream",
     "text": [
      "1\n",
      "2\n",
      "3\n",
      "4\n",
      "5\n",
      "6\n",
      "7\n"
     ]
    },
    {
     "data": {
      "text/plain": [
       "5040"
      ]
     },
     "execution_count": 50,
     "metadata": {},
     "output_type": "execute_result"
    }
   ],
   "source": [
    "fak(7)"
   ]
  },
  {
   "cell_type": "code",
   "execution_count": 53,
   "id": "7092404d",
   "metadata": {},
   "outputs": [
    {
     "data": {
      "text/plain": [
       "176"
      ]
     },
     "execution_count": 53,
     "metadata": {},
     "output_type": "execute_result"
    }
   ],
   "source": [
    "fak(7)%256"
   ]
  },
  {
   "cell_type": "code",
   "execution_count": 54,
   "id": "e846c467",
   "metadata": {},
   "outputs": [
    {
     "data": {
      "text/plain": [
       "70"
      ]
     },
     "execution_count": 54,
     "metadata": {},
     "output_type": "execute_result"
    }
   ],
   "source": [
    "211 // 3"
   ]
  },
  {
   "cell_type": "code",
   "execution_count": 55,
   "id": "a573a0cd",
   "metadata": {},
   "outputs": [
    {
     "data": {
      "text/plain": [
       "70.33333333333333"
      ]
     },
     "execution_count": 55,
     "metadata": {},
     "output_type": "execute_result"
    }
   ],
   "source": [
    "211 / 3"
   ]
  },
  {
   "cell_type": "code",
   "execution_count": 56,
   "id": "79726373",
   "metadata": {},
   "outputs": [
    {
     "data": {
      "text/plain": [
       "100.66666666666667"
      ]
     },
     "execution_count": 56,
     "metadata": {},
     "output_type": "execute_result"
    }
   ],
   "source": [
    "302 / 3"
   ]
  },
  {
   "cell_type": "code",
   "execution_count": 57,
   "id": "6ce0792e",
   "metadata": {},
   "outputs": [
    {
     "data": {
      "text/plain": [
       "2"
      ]
     },
     "execution_count": 57,
     "metadata": {},
     "output_type": "execute_result"
    }
   ],
   "source": [
    "302 %3\n"
   ]
  },
  {
   "cell_type": "code",
   "execution_count": 58,
   "id": "1158217d",
   "metadata": {},
   "outputs": [
    {
     "data": {
      "text/plain": [
       "1"
      ]
     },
     "execution_count": 58,
     "metadata": {},
     "output_type": "execute_result"
    }
   ],
   "source": [
    "211%3"
   ]
  },
  {
   "cell_type": "code",
   "execution_count": 1,
   "id": "92ca66c5",
   "metadata": {},
   "outputs": [],
   "source": [
    "def mathMod(a, b):\n",
    "    return a % abs(b)"
   ]
  },
  {
   "cell_type": "code",
   "execution_count": 2,
   "id": "931bf256",
   "metadata": {},
   "outputs": [
    {
     "data": {
      "text/plain": [
       "5"
      ]
     },
     "execution_count": 2,
     "metadata": {},
     "output_type": "execute_result"
    }
   ],
   "source": [
    "mathMod(5, 6)"
   ]
  },
  {
   "cell_type": "code",
   "execution_count": 3,
   "id": "0c0e18ff",
   "metadata": {},
   "outputs": [
    {
     "data": {
      "text/plain": [
       "0"
      ]
     },
     "execution_count": 3,
     "metadata": {},
     "output_type": "execute_result"
    }
   ],
   "source": [
    "mathMod(12, 6)"
   ]
  },
  {
   "cell_type": "code",
   "execution_count": 4,
   "id": "61eaed70",
   "metadata": {},
   "outputs": [
    {
     "data": {
      "text/plain": [
       "2"
      ]
     },
     "execution_count": 4,
     "metadata": {},
     "output_type": "execute_result"
    }
   ],
   "source": [
    "mathMod(14, 6)"
   ]
  },
  {
   "cell_type": "code",
   "execution_count": null,
   "id": "acaf6a9d",
   "metadata": {},
   "outputs": [],
   "source": []
  }
 ],
 "metadata": {
  "kernelspec": {
   "display_name": "Python 3 (ipykernel)",
   "language": "python",
   "name": "python3"
  },
  "language_info": {
   "codemirror_mode": {
    "name": "ipython",
    "version": 3
   },
   "file_extension": ".py",
   "mimetype": "text/x-python",
   "name": "python",
   "nbconvert_exporter": "python",
   "pygments_lexer": "ipython3",
   "version": "3.9.10"
  }
 },
 "nbformat": 4,
 "nbformat_minor": 5
}
