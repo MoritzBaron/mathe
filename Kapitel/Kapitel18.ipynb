{
 "cells": [
  {
   "cell_type": "code",
   "execution_count": 1,
   "id": "f13d5480",
   "metadata": {},
   "outputs": [],
   "source": [
    "def myRange(a,b):\n",
    "    result = a\n",
    "    while result < b:\n",
    "        yield result\n",
    "        result += 1\n",
    "        "
   ]
  },
  {
   "cell_type": "code",
   "execution_count": 2,
   "id": "5af4afd1",
   "metadata": {},
   "outputs": [
    {
     "data": {
      "text/plain": [
       "<generator object myRange at 0x7fa5dfef9740>"
      ]
     },
     "execution_count": 2,
     "metadata": {},
     "output_type": "execute_result"
    }
   ],
   "source": [
    "myRange(2,5)"
   ]
  },
  {
   "cell_type": "code",
   "execution_count": 4,
   "id": "0e25f5e4",
   "metadata": {},
   "outputs": [
    {
     "data": {
      "text/plain": [
       "[2, 3, 4]"
      ]
     },
     "execution_count": 4,
     "metadata": {},
     "output_type": "execute_result"
    }
   ],
   "source": [
    "list(myRange(2,5))"
   ]
  },
  {
   "cell_type": "code",
   "execution_count": 6,
   "id": "5978872f",
   "metadata": {},
   "outputs": [
    {
     "name": "stdout",
     "output_type": "stream",
     "text": [
      "2\n",
      "3\n",
      "4\n",
      "5\n",
      "6\n",
      "7\n",
      "8\n",
      "9\n"
     ]
    }
   ],
   "source": [
    "for i in myRange(2,10):\n",
    "    print (i)"
   ]
  },
  {
   "cell_type": "code",
   "execution_count": 9,
   "id": "0950cb33",
   "metadata": {},
   "outputs": [],
   "source": [
    "def Nat():\n",
    "    n = 0\n",
    "    while True:\n",
    "        yield n\n",
    "        n += 1"
   ]
  },
  {
   "cell_type": "code",
   "execution_count": 12,
   "id": "1f597cd4",
   "metadata": {},
   "outputs": [],
   "source": [
    "def viewGen(gen, n):\n",
    "    c = 1\n",
    "    L = []\n",
    "    for x in gen:\n",
    "        if c > n:\n",
    "            break\n",
    "        L.append(x)\n",
    "        c += 1\n",
    "    return L"
   ]
  },
  {
   "cell_type": "code",
   "execution_count": 10,
   "id": "bfef3012",
   "metadata": {},
   "outputs": [
    {
     "data": {
      "text/plain": [
       "[0, 1, 2, 3, 4, 5, 6]"
      ]
     },
     "execution_count": 10,
     "metadata": {},
     "output_type": "execute_result"
    }
   ],
   "source": [
    "viewGen(Nat(), 7)"
   ]
  },
  {
   "cell_type": "markdown",
   "id": "f470b0af",
   "metadata": {},
   "source": [
    "Aufgabe 351"
   ]
  },
  {
   "cell_type": "code",
   "execution_count": 11,
   "id": "b2581d7d",
   "metadata": {},
   "outputs": [],
   "source": [
    "def posNat():\n",
    "    n = 0\n",
    "    while True:\n",
    "        yield n\n",
    "        n += 2"
   ]
  },
  {
   "cell_type": "code",
   "execution_count": 12,
   "id": "33194592",
   "metadata": {},
   "outputs": [
    {
     "data": {
      "text/plain": [
       "[0, 2, 4, 6, 8, 10, 12, 14, 16]"
      ]
     },
     "execution_count": 12,
     "metadata": {},
     "output_type": "execute_result"
    }
   ],
   "source": [
    "viewGen(posNat(), 9)"
   ]
  },
  {
   "cell_type": "markdown",
   "id": "d42016bd",
   "metadata": {},
   "source": [
    "Aufgabe 352:\n"
   ]
  },
  {
   "cell_type": "code",
   "execution_count": 10,
   "id": "527d2f1d",
   "metadata": {},
   "outputs": [],
   "source": [
    "def allNum():\n",
    "    n = 1\n",
    "    yield 0\n",
    "    while True:\n",
    "        yield n\n",
    "        yield -n\n",
    "        n += 1"
   ]
  },
  {
   "cell_type": "code",
   "execution_count": 13,
   "id": "be1f8b1b",
   "metadata": {},
   "outputs": [
    {
     "data": {
      "text/plain": [
       "[0, 1, -1, 2, -2, 3, -3, 4]"
      ]
     },
     "execution_count": 13,
     "metadata": {},
     "output_type": "execute_result"
    }
   ],
   "source": [
    "viewGen(allNum(), 8)"
   ]
  },
  {
   "cell_type": "markdown",
   "id": "519a2cfc",
   "metadata": {},
   "source": [
    "Aufgabe 353"
   ]
  },
  {
   "cell_type": "code",
   "execution_count": 16,
   "id": "f4202cb5",
   "metadata": {},
   "outputs": [],
   "source": [
    "def endAmnt():\n",
    "    n = 0\n",
    "    while True:\n",
    "        yield 23\n",
    "        yield 42\n",
    "        yield 101\n",
    "        "
   ]
  },
  {
   "cell_type": "code",
   "execution_count": 17,
   "id": "4a611459",
   "metadata": {},
   "outputs": [
    {
     "data": {
      "text/plain": [
       "[23, 42, 101]"
      ]
     },
     "execution_count": 17,
     "metadata": {},
     "output_type": "execute_result"
    }
   ],
   "source": [
    "viewGen(endAmnt(), 3)"
   ]
  },
  {
   "cell_type": "code",
   "execution_count": 18,
   "id": "d33edd6c",
   "metadata": {},
   "outputs": [
    {
     "data": {
      "text/plain": [
       "[23, 42, 101, 23, 42]"
      ]
     },
     "execution_count": 18,
     "metadata": {},
     "output_type": "execute_result"
    }
   ],
   "source": [
    "viewGen(endAmnt(), 5)"
   ]
  },
  {
   "cell_type": "markdown",
   "id": "ef38b332",
   "metadata": {},
   "source": [
    "Aufgabe 354:\n"
   ]
  },
  {
   "cell_type": "code",
   "execution_count": 1,
   "id": "56d10403",
   "metadata": {},
   "outputs": [],
   "source": [
    "def perms(L):\n",
    "    if len(L) <= 1:\n",
    "        yield L\n",
    "    else:\n",
    "        for i in range(len(L)):\n",
    "            for P in perms(L[:1] + L[i+1:]):\n",
    "                yield[L[i]] + P"
   ]
  },
  {
   "cell_type": "code",
   "execution_count": 8,
   "id": "e2830ae0",
   "metadata": {},
   "outputs": [],
   "source": [
    "def stringsOfLen(n, start, end):\n",
    "    if n == 0:\n",
    "        yield \"\"\n",
    "    else:\n",
    "        for p in range(ord(start), ord(end)+1):\n",
    "            for s in stringsOfLen(n-1, start, end):\n",
    "                yield chr(p) + s"
   ]
  },
  {
   "cell_type": "code",
   "execution_count": 9,
   "id": "d16504bd",
   "metadata": {},
   "outputs": [
    {
     "data": {
      "text/plain": [
       "{'AA', 'AB', 'BA', 'BB'}"
      ]
     },
     "execution_count": 9,
     "metadata": {},
     "output_type": "execute_result"
    }
   ],
   "source": [
    "set(stringsOfLen(2, \"A\", \"B\"))"
   ]
  },
  {
   "cell_type": "code",
   "execution_count": 10,
   "id": "09ee63f8",
   "metadata": {},
   "outputs": [],
   "source": [
    "from fractions import Fraction"
   ]
  },
  {
   "cell_type": "code",
   "execution_count": 11,
   "id": "a9e0fc51",
   "metadata": {},
   "outputs": [],
   "source": [
    "def Rat():\n",
    "    c = 2\n",
    "    while true:\n",
    "        den = 1\n",
    "        while den < c:\n",
    "            yield Fraction(c-den, den)\n",
    "            den += 1\n",
    "        c += 1"
   ]
  },
  {
   "cell_type": "code",
   "execution_count": 12,
   "id": "fad46dc4",
   "metadata": {},
   "outputs": [],
   "source": [
    "def Rat2():\n",
    "    seen = set()\n",
    "    c = 2\n",
    "    while True:\n",
    "        den = 1\n",
    "        while den < c:\n",
    "            val = Fration(c - den, den)\n",
    "            if not val in seen:\n",
    "                yield val\n",
    "                seen.add(val)\n",
    "            den += 1\n",
    "        c += 1"
   ]
  },
  {
   "cell_type": "code",
   "execution_count": null,
   "id": "beec0495",
   "metadata": {},
   "outputs": [],
   "source": []
  }
 ],
 "metadata": {
  "kernelspec": {
   "display_name": "Python 3 (ipykernel)",
   "language": "python",
   "name": "python3"
  },
  "language_info": {
   "codemirror_mode": {
    "name": "ipython",
    "version": 3
   },
   "file_extension": ".py",
   "mimetype": "text/x-python",
   "name": "python",
   "nbconvert_exporter": "python",
   "pygments_lexer": "ipython3",
   "version": "3.10.6"
  }
 },
 "nbformat": 4,
 "nbformat_minor": 5
}
