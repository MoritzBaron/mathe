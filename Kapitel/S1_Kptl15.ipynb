{
 "cells": [
  {
   "cell_type": "code",
   "execution_count": 2,
   "id": "aab259fe",
   "metadata": {},
   "outputs": [
    {
     "data": {
      "text/plain": [
       "(2, 3)"
      ]
     },
     "execution_count": 2,
     "metadata": {},
     "output_type": "execute_result"
    }
   ],
   "source": [
    "A = {1,1,2}\n",
    "B = [1,1,2]\n",
    "len(A), len(B)"
   ]
  },
  {
   "cell_type": "code",
   "execution_count": 1,
   "id": "16cb4c46",
   "metadata": {},
   "outputs": [],
   "source": [
    "def subset(A,B):\n",
    "    for x in A:\n",
    "        if x not in B:\n",
    "            return False\n",
    "    return True"
   ]
  },
  {
   "cell_type": "code",
   "execution_count": 2,
   "id": "287d1726",
   "metadata": {},
   "outputs": [
    {
     "data": {
      "text/plain": [
       "True"
      ]
     },
     "execution_count": 2,
     "metadata": {},
     "output_type": "execute_result"
    }
   ],
   "source": [
    "subset({1,2},{1,2,3,4})"
   ]
  },
  {
   "cell_type": "code",
   "execution_count": 3,
   "id": "6bca9e9c",
   "metadata": {},
   "outputs": [
    {
     "data": {
      "text/plain": [
       "True"
      ]
     },
     "execution_count": 3,
     "metadata": {},
     "output_type": "execute_result"
    }
   ],
   "source": [
    "set()<={1,2,3}"
   ]
  },
  {
   "cell_type": "code",
   "execution_count": 4,
   "id": "a9ab087e",
   "metadata": {},
   "outputs": [
    {
     "data": {
      "text/plain": [
       "{1, 2, 3, 4, 5}"
      ]
     },
     "execution_count": 4,
     "metadata": {},
     "output_type": "execute_result"
    }
   ],
   "source": [
    "{1,2,3}|{3,4,5}"
   ]
  },
  {
   "cell_type": "code",
   "execution_count": 5,
   "id": "8c75b65b",
   "metadata": {},
   "outputs": [
    {
     "data": {
      "text/plain": [
       "{3, 4}"
      ]
     },
     "execution_count": 5,
     "metadata": {},
     "output_type": "execute_result"
    }
   ],
   "source": [
    "{1,2,3,4}&{3,4,5,6,7}"
   ]
  },
  {
   "cell_type": "code",
   "execution_count": 6,
   "id": "f4302db3",
   "metadata": {},
   "outputs": [
    {
     "data": {
      "text/plain": [
       "set()"
      ]
     },
     "execution_count": 6,
     "metadata": {},
     "output_type": "execute_result"
    }
   ],
   "source": [
    "{1,2,3}&{4,5,6}"
   ]
  },
  {
   "cell_type": "code",
   "execution_count": 7,
   "id": "6e63d046",
   "metadata": {},
   "outputs": [
    {
     "data": {
      "text/plain": [
       "{3, 4}"
      ]
     },
     "execution_count": 7,
     "metadata": {},
     "output_type": "execute_result"
    }
   ],
   "source": [
    "{1,2,3,4}-{1,2}"
   ]
  },
  {
   "cell_type": "code",
   "execution_count": 8,
   "id": "e918660c",
   "metadata": {},
   "outputs": [
    {
     "data": {
      "text/plain": [
       "set()"
      ]
     },
     "execution_count": 8,
     "metadata": {},
     "output_type": "execute_result"
    }
   ],
   "source": [
    "{1,2}-{1,2,3,4}"
   ]
  },
  {
   "cell_type": "code",
   "execution_count": 9,
   "id": "e6b1587f",
   "metadata": {},
   "outputs": [
    {
     "data": {
      "text/plain": [
       "{5}"
      ]
     },
     "execution_count": 9,
     "metadata": {},
     "output_type": "execute_result"
    }
   ],
   "source": [
    "{3,4,5}-{1,2,3,4}"
   ]
  },
  {
   "cell_type": "code",
   "execution_count": 10,
   "id": "17fc74d0",
   "metadata": {},
   "outputs": [],
   "source": [
    "def union(A,B):\n",
    "    result = set()\n",
    "    for x in A:\n",
    "        result.add(x)\n",
    "    for x in B:\n",
    "        result.add(x)\n",
    "    return result"
   ]
  },
  {
   "cell_type": "code",
   "execution_count": 11,
   "id": "7251ae35",
   "metadata": {},
   "outputs": [],
   "source": [
    "def intersection(A,B):\n",
    "    result = set()\n",
    "    for x in A:\n",
    "        if x in B:\n",
    "            result.add(x)\n",
    "    return result"
   ]
  },
  {
   "cell_type": "code",
   "execution_count": 12,
   "id": "b92e18c6",
   "metadata": {},
   "outputs": [],
   "source": [
    "def difference(A,B):\n",
    "    result = set()\n",
    "    for x in A:\n",
    "        if x not in B:\n",
    "            result.add(x)\n",
    "    return result"
   ]
  },
  {
   "cell_type": "code",
   "execution_count": 13,
   "id": "f221e6d7",
   "metadata": {},
   "outputs": [
    {
     "data": {
      "text/plain": [
       "{1, 2, 3, 4, 5, 6}"
      ]
     },
     "execution_count": 13,
     "metadata": {},
     "output_type": "execute_result"
    }
   ],
   "source": [
    "union({1,2,3},{3,4,5,6})"
   ]
  },
  {
   "cell_type": "code",
   "execution_count": 15,
   "id": "4d749ded",
   "metadata": {},
   "outputs": [
    {
     "data": {
      "text/plain": [
       "{3, 4}"
      ]
     },
     "execution_count": 15,
     "metadata": {},
     "output_type": "execute_result"
    }
   ],
   "source": [
    "intersection({1,2,3,4},{3,4,5})"
   ]
  },
  {
   "cell_type": "code",
   "execution_count": 16,
   "id": "bea8a3ef",
   "metadata": {},
   "outputs": [
    {
     "data": {
      "text/plain": [
       "{1, 2}"
      ]
     },
     "execution_count": 16,
     "metadata": {},
     "output_type": "execute_result"
    }
   ],
   "source": [
    "difference({1,2,3,4},{3,4,5})"
   ]
  },
  {
   "cell_type": "code",
   "execution_count": 17,
   "id": "c84a93c0",
   "metadata": {},
   "outputs": [
    {
     "data": {
      "text/plain": [
       "{3}"
      ]
     },
     "execution_count": 17,
     "metadata": {},
     "output_type": "execute_result"
    }
   ],
   "source": [
    "A = {1,2,3}\n",
    "A.intersection({3,4})"
   ]
  },
  {
   "cell_type": "code",
   "execution_count": 18,
   "id": "3fe4e0b4",
   "metadata": {},
   "outputs": [
    {
     "data": {
      "text/plain": [
       "{1, 2, 3, 4, 5, 6}"
      ]
     },
     "execution_count": 18,
     "metadata": {},
     "output_type": "execute_result"
    }
   ],
   "source": [
    "A = {1,2,3}\n",
    "A.union({4,5,6})"
   ]
  },
  {
   "cell_type": "code",
   "execution_count": 19,
   "id": "156aeb14",
   "metadata": {},
   "outputs": [
    {
     "data": {
      "text/plain": [
       "{1, 2}"
      ]
     },
     "execution_count": 19,
     "metadata": {},
     "output_type": "execute_result"
    }
   ],
   "source": [
    "A = {1,2,3}\n",
    "A.difference({3,4,5})"
   ]
  },
  {
   "cell_type": "code",
   "execution_count": 22,
   "id": "43051ca5",
   "metadata": {},
   "outputs": [
    {
     "data": {
      "text/plain": [
       "({1, 2, 3, 4}, {1, 2, 3, 4}, {1, 2, 3})"
      ]
     },
     "execution_count": 22,
     "metadata": {},
     "output_type": "execute_result"
    }
   ],
   "source": [
    "A = {1,2,3}\n",
    "B = {1,2,3}\n",
    "C = {1,2,3}\n",
    "AA = A\n",
    "BB = B\n",
    "CC = C\n",
    "A.add(4)\n",
    "B |= {4}\n",
    "C = C | {4}\n",
    "AA, BB, CC"
   ]
  },
  {
   "cell_type": "code",
   "execution_count": 23,
   "id": "3f89895e",
   "metadata": {},
   "outputs": [
    {
     "data": {
      "text/plain": [
       "{1, 3, 4}"
      ]
     },
     "execution_count": 23,
     "metadata": {},
     "output_type": "execute_result"
    }
   ],
   "source": [
    "AA.remove(2)\n",
    "AA"
   ]
  },
  {
   "cell_type": "code",
   "execution_count": 27,
   "id": "55d1af06",
   "metadata": {},
   "outputs": [
    {
     "data": {
      "text/plain": [
       "{3, 5, 7, 9, 11, 13, 15, 17, 19, 21, 23, 25, 27, 29}"
      ]
     },
     "execution_count": 27,
     "metadata": {},
     "output_type": "execute_result"
    }
   ],
   "source": [
    "set(range(3,30,2))"
   ]
  },
  {
   "cell_type": "code",
   "execution_count": 44,
   "id": "4278d6ca",
   "metadata": {},
   "outputs": [
    {
     "data": {
      "text/plain": [
       "{1,\n",
       " 2,\n",
       " 4,\n",
       " 5,\n",
       " 7,\n",
       " 8,\n",
       " 10,\n",
       " 11,\n",
       " 13,\n",
       " 14,\n",
       " 16,\n",
       " 17,\n",
       " 19,\n",
       " 20,\n",
       " 22,\n",
       " 23,\n",
       " 25,\n",
       " 26,\n",
       " 28,\n",
       " 29,\n",
       " 31,\n",
       " 32,\n",
       " 34,\n",
       " 35,\n",
       " 37,\n",
       " 38,\n",
       " 40,\n",
       " 41}"
      ]
     },
     "execution_count": 44,
     "metadata": {},
     "output_type": "execute_result"
    }
   ],
   "source": [
    "A = set(range(100))\n",
    "D = set()\n",
    "for n in A:\n",
    "    if n < 42 and n % 3 != 0:\n",
    "        D.add(n)\n",
    "D"
   ]
  },
  {
   "cell_type": "code",
   "execution_count": 45,
   "id": "75014106",
   "metadata": {},
   "outputs": [
    {
     "data": {
      "text/plain": [
       "{1,\n",
       " 2,\n",
       " 4,\n",
       " 5,\n",
       " 7,\n",
       " 8,\n",
       " 10,\n",
       " 11,\n",
       " 13,\n",
       " 14,\n",
       " 16,\n",
       " 17,\n",
       " 19,\n",
       " 20,\n",
       " 22,\n",
       " 23,\n",
       " 25,\n",
       " 26,\n",
       " 28,\n",
       " 29,\n",
       " 31,\n",
       " 32,\n",
       " 34,\n",
       " 35,\n",
       " 37,\n",
       " 38,\n",
       " 40,\n",
       " 41}"
      ]
     },
     "execution_count": 45,
     "metadata": {},
     "output_type": "execute_result"
    }
   ],
   "source": [
    "D = {n for n in A if n<42 and n%3 != 0}\n",
    "D"
   ]
  },
  {
   "cell_type": "code",
   "execution_count": 32,
   "id": "40e1b832",
   "metadata": {},
   "outputs": [],
   "source": [
    "from fractions import Fraction"
   ]
  },
  {
   "cell_type": "code",
   "execution_count": 35,
   "id": "83fbb5bc",
   "metadata": {},
   "outputs": [],
   "source": [
    "Y1 = {Fraction(1,n) for n in range(1,101)}"
   ]
  },
  {
   "cell_type": "code",
   "execution_count": 37,
   "id": "fc62ef47",
   "metadata": {},
   "outputs": [
    {
     "data": {
      "text/plain": [
       "1024.0"
      ]
     },
     "execution_count": 37,
     "metadata": {},
     "output_type": "execute_result"
    }
   ],
   "source": [
    "from math import sqrt\n",
    "sqrt(1048576)"
   ]
  },
  {
   "cell_type": "code",
   "execution_count": 40,
   "id": "a5d7033c",
   "metadata": {},
   "outputs": [],
   "source": [
    "Y2 = {n**2 for n in range(21)}\n"
   ]
  },
  {
   "cell_type": "code",
   "execution_count": 41,
   "id": "f3aa7728",
   "metadata": {},
   "outputs": [
    {
     "data": {
      "text/plain": [
       "{Fraction(1, 11),\n",
       " Fraction(1, 9),\n",
       " Fraction(1, 7),\n",
       " Fraction(2, 11),\n",
       " Fraction(2, 9),\n",
       " Fraction(2, 7),\n",
       " Fraction(1, 3),\n",
       " Fraction(5, 11),\n",
       " Fraction(5, 9),\n",
       " Fraction(2, 3),\n",
       " Fraction(5, 7),\n",
       " Fraction(5, 3)}"
      ]
     },
     "execution_count": 41,
     "metadata": {},
     "output_type": "execute_result"
    }
   ],
   "source": [
    "Num = {1,2,5}\n",
    "Den = {3,7,9,11}\n",
    "A = set()\n",
    "for n in Num:\n",
    "    for d in Den:\n",
    "        A.add(Fraction(n,d))\n",
    "A"
   ]
  },
  {
   "cell_type": "code",
   "execution_count": 43,
   "id": "087d352b",
   "metadata": {},
   "outputs": [
    {
     "data": {
      "text/plain": [
       "{Fraction(1, 11),\n",
       " Fraction(1, 9),\n",
       " Fraction(1, 7),\n",
       " Fraction(2, 11),\n",
       " Fraction(2, 9),\n",
       " Fraction(2, 7),\n",
       " Fraction(1, 3),\n",
       " Fraction(5, 11),\n",
       " Fraction(5, 9),\n",
       " Fraction(2, 3),\n",
       " Fraction(5, 7),\n",
       " Fraction(5, 3)}"
      ]
     },
     "execution_count": 43,
     "metadata": {},
     "output_type": "execute_result"
    }
   ],
   "source": [
    "A = {Fraction(n,d) for n in Num for d in Den}\n",
    "A"
   ]
  },
  {
   "cell_type": "code",
   "execution_count": 51,
   "id": "b15e410a",
   "metadata": {},
   "outputs": [
    {
     "data": {
      "text/plain": [
       "{-2, -1, 0, 1, 2, 3}"
      ]
     },
     "execution_count": 51,
     "metadata": {},
     "output_type": "execute_result"
    }
   ],
   "source": [
    "A = set(range(-2,4))\n",
    "A"
   ]
  },
  {
   "cell_type": "code",
   "execution_count": 57,
   "id": "93b8443c",
   "metadata": {},
   "outputs": [
    {
     "data": {
      "text/plain": [
       "{-6, -4, -3, -2, -1, 0, 1, 2, 3, 4, 6, 9}"
      ]
     },
     "execution_count": 57,
     "metadata": {},
     "output_type": "execute_result"
    }
   ],
   "source": [
    "B = set()\n",
    "N = {-2,-1,0,1,2,3}\n",
    "D = {-2,-1,0,1,2,3}\n",
    "for n in N:\n",
    "    for d in D:\n",
    "        B.add(n*d)\n",
    "B"
   ]
  },
  {
   "cell_type": "code",
   "execution_count": 58,
   "id": "0daa9cad",
   "metadata": {},
   "outputs": [
    {
     "data": {
      "text/plain": [
       "12"
      ]
     },
     "execution_count": 58,
     "metadata": {},
     "output_type": "execute_result"
    }
   ],
   "source": [
    "len(B)"
   ]
  },
  {
   "cell_type": "code",
   "execution_count": null,
   "id": "c0ddc70c",
   "metadata": {},
   "outputs": [],
   "source": []
  },
  {
   "cell_type": "code",
   "execution_count": null,
   "id": "ec1f3716",
   "metadata": {},
   "outputs": [],
   "source": []
  }
 ],
 "metadata": {
  "kernelspec": {
   "display_name": "Python 3 (ipykernel)",
   "language": "python",
   "name": "python3"
  },
  "language_info": {
   "codemirror_mode": {
    "name": "ipython",
    "version": 3
   },
   "file_extension": ".py",
   "mimetype": "text/x-python",
   "name": "python",
   "nbconvert_exporter": "python",
   "pygments_lexer": "ipython3",
   "version": "3.10.6"
  }
 },
 "nbformat": 4,
 "nbformat_minor": 5
}
