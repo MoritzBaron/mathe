{
 "cells": [
  {
   "cell_type": "markdown",
   "id": "c5a2e350",
   "metadata": {},
   "source": [
    "A47:"
   ]
  },
  {
   "cell_type": "code",
   "execution_count": 1,
   "id": "9697538a",
   "metadata": {},
   "outputs": [
    {
     "data": {
      "text/plain": [
       "42"
      ]
     },
     "execution_count": 1,
     "metadata": {},
     "output_type": "execute_result"
    }
   ],
   "source": [
    "(186 * 25) % 256"
   ]
  },
  {
   "cell_type": "code",
   "execution_count": 2,
   "id": "fb3bac31",
   "metadata": {},
   "outputs": [
    {
     "data": {
      "text/plain": [
       "'0b101010'"
      ]
     },
     "execution_count": 2,
     "metadata": {},
     "output_type": "execute_result"
    }
   ],
   "source": [
    "bin(42\n",
    "   )"
   ]
  },
  {
   "cell_type": "code",
   "execution_count": 7,
   "id": "ab0a31e3",
   "metadata": {},
   "outputs": [
    {
     "data": {
      "text/plain": [
       "'101010'"
      ]
     },
     "execution_count": 7,
     "metadata": {},
     "output_type": "execute_result"
    }
   ],
   "source": [
    "\"{:b}\".format((186*25)%256)"
   ]
  },
  {
   "cell_type": "code",
   "execution_count": 8,
   "id": "319ad6bd",
   "metadata": {},
   "outputs": [
    {
     "data": {
      "text/plain": [
       "65025"
      ]
     },
     "execution_count": 8,
     "metadata": {},
     "output_type": "execute_result"
    }
   ],
   "source": [
    "0b11111111*0b11111111"
   ]
  },
  {
   "cell_type": "code",
   "execution_count": 9,
   "id": "232e0a33",
   "metadata": {},
   "outputs": [
    {
     "data": {
      "text/plain": [
       "'0b1111111000000001'"
      ]
     },
     "execution_count": 9,
     "metadata": {},
     "output_type": "execute_result"
    }
   ],
   "source": [
    "bin(65025)"
   ]
  },
  {
   "cell_type": "code",
   "execution_count": 11,
   "id": "18ea93f3",
   "metadata": {},
   "outputs": [],
   "source": [
    "def congruentModulo(a, b, c):\n",
    "    return a%c == b%c"
   ]
  },
  {
   "cell_type": "code",
   "execution_count": 13,
   "id": "40f792a2",
   "metadata": {},
   "outputs": [
    {
     "data": {
      "text/plain": [
       "True"
      ]
     },
     "execution_count": 13,
     "metadata": {},
     "output_type": "execute_result"
    }
   ],
   "source": [
    "congruentModulo(201, 101, 10)"
   ]
  },
  {
   "cell_type": "code",
   "execution_count": 14,
   "id": "e1d9b6a0",
   "metadata": {},
   "outputs": [
    {
     "data": {
      "text/plain": [
       "1"
      ]
     },
     "execution_count": 14,
     "metadata": {},
     "output_type": "execute_result"
    }
   ],
   "source": [
    "201%10"
   ]
  },
  {
   "cell_type": "code",
   "execution_count": 15,
   "id": "290e4d2d",
   "metadata": {},
   "outputs": [
    {
     "data": {
      "text/plain": [
       "1"
      ]
     },
     "execution_count": 15,
     "metadata": {},
     "output_type": "execute_result"
    }
   ],
   "source": [
    "101%10"
   ]
  },
  {
   "cell_type": "code",
   "execution_count": 16,
   "id": "f01a9e5a",
   "metadata": {},
   "outputs": [
    {
     "data": {
      "text/plain": [
       "False"
      ]
     },
     "execution_count": 16,
     "metadata": {},
     "output_type": "execute_result"
    }
   ],
   "source": [
    "congruentModulo(201, 101, 19)"
   ]
  },
  {
   "cell_type": "code",
   "execution_count": 17,
   "id": "5e465522",
   "metadata": {},
   "outputs": [
    {
     "data": {
      "text/plain": [
       "True"
      ]
     },
     "execution_count": 17,
     "metadata": {},
     "output_type": "execute_result"
    }
   ],
   "source": [
    "congruentModulo(101, 101, 19)"
   ]
  },
  {
   "cell_type": "code",
   "execution_count": 19,
   "id": "173b0947",
   "metadata": {},
   "outputs": [
    {
     "data": {
      "text/plain": [
       "True"
      ]
     },
     "execution_count": 19,
     "metadata": {},
     "output_type": "execute_result"
    }
   ],
   "source": [
    "congruentModulo(0, 42, 7)"
   ]
  },
  {
   "cell_type": "code",
   "execution_count": 23,
   "id": "9fafe74e",
   "metadata": {},
   "outputs": [
    {
     "name": "stdout",
     "output_type": "stream",
     "text": [
      "1\n",
      "2\n",
      "6\n",
      "24\n",
      "120\n",
      "720\n",
      "5040\n"
     ]
    },
    {
     "data": {
      "text/plain": [
       "5040"
      ]
     },
     "execution_count": 23,
     "metadata": {},
     "output_type": "execute_result"
    }
   ],
   "source": [
    "a=1\n",
    "b=1\n",
    "while b<=7:\n",
    "    a*=b\n",
    "    print(a)\n",
    "    b+=1\n",
    "a"
   ]
  },
  {
   "cell_type": "code",
   "execution_count": 24,
   "id": "348f74a0",
   "metadata": {},
   "outputs": [
    {
     "data": {
      "text/plain": [
       "0"
      ]
     },
     "execution_count": 24,
     "metadata": {},
     "output_type": "execute_result"
    }
   ],
   "source": [
    "210%3"
   ]
  },
  {
   "cell_type": "code",
   "execution_count": 25,
   "id": "06dde08d",
   "metadata": {},
   "outputs": [],
   "source": [
    "def sumMod(a, b, n):\n",
    "    return ((a+b)%n)"
   ]
  },
  {
   "cell_type": "code",
   "execution_count": 26,
   "id": "8cbf1a0a",
   "metadata": {},
   "outputs": [
    {
     "data": {
      "text/plain": [
       "0"
      ]
     },
     "execution_count": 26,
     "metadata": {},
     "output_type": "execute_result"
    }
   ],
   "source": [
    "sumMod(2, 5, 7)"
   ]
  },
  {
   "cell_type": "code",
   "execution_count": 27,
   "id": "337799b3",
   "metadata": {},
   "outputs": [
    {
     "data": {
      "text/plain": [
       "4"
      ]
     },
     "execution_count": 27,
     "metadata": {},
     "output_type": "execute_result"
    }
   ],
   "source": [
    "sumMod(3, 8, 7)"
   ]
  },
  {
   "cell_type": "markdown",
   "id": "64c02fff",
   "metadata": {},
   "source": [
    "A66:"
   ]
  },
  {
   "cell_type": "code",
   "execution_count": 1,
   "id": "3e4d304a",
   "metadata": {},
   "outputs": [],
   "source": [
    "def sumMod(a, b, n):\n",
    "    return ((a + b) % n)"
   ]
  },
  {
   "cell_type": "code",
   "execution_count": 2,
   "id": "efe99e5f",
   "metadata": {},
   "outputs": [
    {
     "data": {
      "text/plain": [
       "2"
      ]
     },
     "execution_count": 2,
     "metadata": {},
     "output_type": "execute_result"
    }
   ],
   "source": [
    "sumMod(13, 4, 5)"
   ]
  },
  {
   "cell_type": "code",
   "execution_count": 3,
   "id": "6020a57e",
   "metadata": {},
   "outputs": [
    {
     "data": {
      "text/plain": [
       "7"
      ]
     },
     "execution_count": 3,
     "metadata": {},
     "output_type": "execute_result"
    }
   ],
   "source": [
    "sumMod(32, 7, 8)"
   ]
  },
  {
   "cell_type": "code",
   "execution_count": 4,
   "id": "b08d0309",
   "metadata": {},
   "outputs": [
    {
     "data": {
      "text/plain": [
       "1"
      ]
     },
     "execution_count": 4,
     "metadata": {},
     "output_type": "execute_result"
    }
   ],
   "source": [
    "2**3 % 7"
   ]
  },
  {
   "cell_type": "code",
   "execution_count": 5,
   "id": "1e00e241",
   "metadata": {},
   "outputs": [
    {
     "data": {
      "text/plain": [
       "2"
      ]
     },
     "execution_count": 5,
     "metadata": {},
     "output_type": "execute_result"
    }
   ],
   "source": [
    "2**10 % 7"
   ]
  },
  {
   "cell_type": "code",
   "execution_count": 6,
   "id": "b1bfbb0d",
   "metadata": {},
   "outputs": [
    {
     "data": {
      "text/plain": [
       "1"
      ]
     },
     "execution_count": 6,
     "metadata": {},
     "output_type": "execute_result"
    }
   ],
   "source": [
    "2**30 % 7\n"
   ]
  },
  {
   "cell_type": "markdown",
   "id": "82182440",
   "metadata": {},
   "source": [
    "A70:"
   ]
  },
  {
   "cell_type": "code",
   "execution_count": 1,
   "id": "f3145484",
   "metadata": {},
   "outputs": [],
   "source": [
    "def quer(x):\n",
    "    s = 0 #Summe\n",
    "    while x > 0:\n",
    "        a = x % 10\n",
    "        s += a\n",
    "        x = x // 10\n",
    "    return s \n",
    "             \n",
    "    \n"
   ]
  },
  {
   "cell_type": "code",
   "execution_count": 2,
   "id": "c10563e5",
   "metadata": {},
   "outputs": [
    {
     "data": {
      "text/plain": [
       "10"
      ]
     },
     "execution_count": 2,
     "metadata": {},
     "output_type": "execute_result"
    }
   ],
   "source": [
    "quer(37)"
   ]
  },
  {
   "cell_type": "code",
   "execution_count": 3,
   "id": "b75cc4d6",
   "metadata": {},
   "outputs": [
    {
     "data": {
      "text/plain": [
       "22"
      ]
     },
     "execution_count": 3,
     "metadata": {},
     "output_type": "execute_result"
    }
   ],
   "source": [
    "quer(4765)"
   ]
  },
  {
   "cell_type": "code",
   "execution_count": 4,
   "id": "1c7a30f3",
   "metadata": {},
   "outputs": [
    {
     "data": {
      "text/plain": [
       "'0b11010010101011010001'"
      ]
     },
     "execution_count": 4,
     "metadata": {},
     "output_type": "execute_result"
    }
   ],
   "source": [
    "bin(862929)"
   ]
  },
  {
   "cell_type": "code",
   "execution_count": 5,
   "id": "80da14b2",
   "metadata": {},
   "outputs": [
    {
     "data": {
      "text/plain": [
       "'0b111100001'"
      ]
     },
     "execution_count": 5,
     "metadata": {},
     "output_type": "execute_result"
    }
   ],
   "source": [
    "bin(481)"
   ]
  },
  {
   "cell_type": "code",
   "execution_count": 6,
   "id": "b4d6c6b7",
   "metadata": {},
   "outputs": [
    {
     "data": {
      "text/plain": [
       "'0b1010000'"
      ]
     },
     "execution_count": 6,
     "metadata": {},
     "output_type": "execute_result"
    }
   ],
   "source": [
    "bin(80)"
   ]
  },
  {
   "cell_type": "code",
   "execution_count": 7,
   "id": "d76c1b53",
   "metadata": {},
   "outputs": [
    {
     "data": {
      "text/plain": [
       "'0b110010000'"
      ]
     },
     "execution_count": 7,
     "metadata": {},
     "output_type": "execute_result"
    }
   ],
   "source": [
    "bin(400)"
   ]
  },
  {
   "cell_type": "code",
   "execution_count": null,
   "id": "35b0dc29",
   "metadata": {},
   "outputs": [],
   "source": []
  }
 ],
 "metadata": {
  "kernelspec": {
   "display_name": "Python 3 (ipykernel)",
   "language": "python",
   "name": "python3"
  },
  "language_info": {
   "codemirror_mode": {
    "name": "ipython",
    "version": 3
   },
   "file_extension": ".py",
   "mimetype": "text/x-python",
   "name": "python",
   "nbconvert_exporter": "python",
   "pygments_lexer": "ipython3",
   "version": "3.10.6"
  }
 },
 "nbformat": 4,
 "nbformat_minor": 5
}
