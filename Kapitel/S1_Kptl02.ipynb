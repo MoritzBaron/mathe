{
 "cells": [
  {
   "cell_type": "markdown",
   "id": "e292f519",
   "metadata": {},
   "source": [
    "A 12"
   ]
  },
  {
   "cell_type": "code",
   "execution_count": 1,
   "id": "c651e9d4",
   "metadata": {},
   "outputs": [
    {
     "name": "stdout",
     "output_type": "stream",
     "text": [
      "7\n",
      "21\n",
      "42\n",
      "70\n",
      "105\n",
      "147\n",
      "196\n",
      "252\n",
      "315\n",
      "385\n",
      "462\n",
      "546\n",
      "637\n",
      "735\n"
     ]
    },
    {
     "data": {
      "text/plain": [
       "735"
      ]
     },
     "execution_count": 1,
     "metadata": {},
     "output_type": "execute_result"
    }
   ],
   "source": [
    "s = 0\n",
    "i = 1\n",
    "while i < 100:\n",
    "    if i % 7 == 0:\n",
    "        s += i \n",
    "        print(s)\n",
    "    i += 1\n",
    "s\n",
    "    "
   ]
  },
  {
   "cell_type": "markdown",
   "id": "f5ed3b1e",
   "metadata": {},
   "source": [
    "A11:"
   ]
  },
  {
   "cell_type": "code",
   "execution_count": 2,
   "id": "12f7bc51",
   "metadata": {},
   "outputs": [
    {
     "name": "stdout",
     "output_type": "stream",
     "text": [
      "1\n",
      "8\n",
      "22\n",
      "43\n",
      "71\n",
      "106\n",
      "148\n",
      "197\n",
      "253\n",
      "316\n",
      "386\n",
      "463\n",
      "547\n",
      "638\n",
      "736\n"
     ]
    },
    {
     "data": {
      "text/plain": [
       "736"
      ]
     },
     "execution_count": 2,
     "metadata": {},
     "output_type": "execute_result"
    }
   ],
   "source": [
    "s = 1\n",
    "i = 0\n",
    "while i < 100:\n",
    "    if i % 7 == 0:\n",
    "        s += i\n",
    "        print(s)\n",
    "    i += 1\n",
    "s"
   ]
  },
  {
   "cell_type": "markdown",
   "id": "f53e7dba",
   "metadata": {},
   "source": [
    "A10:\n"
   ]
  },
  {
   "cell_type": "code",
   "execution_count": 3,
   "id": "799aa6c7",
   "metadata": {},
   "outputs": [
    {
     "data": {
      "text/plain": [
       "35350"
      ]
     },
     "execution_count": 3,
     "metadata": {},
     "output_type": "execute_result"
    }
   ],
   "source": [
    "s = 0\n",
    "i = 0\n",
    "k = 0\n",
    "while k <= 100:\n",
    "    s += i\n",
    "    i += 7\n",
    "    k += 1\n",
    "s"
   ]
  },
  {
   "cell_type": "markdown",
   "id": "bc3c049e",
   "metadata": {},
   "source": [
    "A13:\n",
    "    "
   ]
  },
  {
   "cell_type": "code",
   "execution_count": 7,
   "id": "9ca34a28",
   "metadata": {},
   "outputs": [
    {
     "name": "stdout",
     "output_type": "stream",
     "text": [
      "0\n",
      "4\n",
      "8\n",
      "12\n",
      "16\n",
      "20\n",
      "24\n",
      "28\n",
      "32\n",
      "36\n",
      "40\n",
      "44\n",
      "48\n",
      "52\n",
      "56\n",
      "60\n",
      "64\n",
      "68\n"
     ]
    },
    {
     "data": {
      "text/plain": [
       "18"
      ]
     },
     "execution_count": 7,
     "metadata": {},
     "output_type": "execute_result"
    }
   ],
   "source": [
    "s = 0\n",
    "c = 0\n",
    "while s**2 < 5000:\n",
    "    if s**2 % 8 == 0:\n",
    "        c += 1\n",
    "        print (s)\n",
    "    s += 1\n",
    "c"
   ]
  },
  {
   "cell_type": "markdown",
   "id": "24757c3e",
   "metadata": {},
   "source": [
    "A14:"
   ]
  },
  {
   "cell_type": "code",
   "execution_count": 9,
   "id": "dd66dac5",
   "metadata": {},
   "outputs": [
    {
     "data": {
      "text/plain": [
       "493"
      ]
     },
     "execution_count": 9,
     "metadata": {},
     "output_type": "execute_result"
    }
   ],
   "source": [
    "s = 55\n",
    "c = 0\n",
    "while s**2 <= 300000:\n",
    "    c += 1\n",
    "    s += 1\n",
    "c"
   ]
  },
  {
   "cell_type": "markdown",
   "id": "dbdf0c36",
   "metadata": {},
   "source": [
    "A15:"
   ]
  },
  {
   "cell_type": "code",
   "execution_count": 18,
   "id": "955dcfca",
   "metadata": {},
   "outputs": [
    {
     "data": {
      "text/plain": [
       "9"
      ]
     },
     "execution_count": 18,
     "metadata": {},
     "output_type": "execute_result"
    }
   ],
   "source": [
    "    counter = 0\n",
    "    zahl = 0\n",
    "    while zahl**2< 5000:\n",
    "        if zahl % 8 == 0:\n",
    "            counter += 1\n",
    "        zahl += 1\n",
    "    counter\n",
    "    "
   ]
  },
  {
   "cell_type": "code",
   "execution_count": 19,
   "id": "330c40ca",
   "metadata": {},
   "outputs": [
    {
     "data": {
      "text/plain": [
       "72"
      ]
     },
     "execution_count": 19,
     "metadata": {},
     "output_type": "execute_result"
    }
   ],
   "source": [
    "9*8"
   ]
  },
  {
   "cell_type": "code",
   "execution_count": 20,
   "id": "5422980d",
   "metadata": {},
   "outputs": [
    {
     "data": {
      "text/plain": [
       "5184"
      ]
     },
     "execution_count": 20,
     "metadata": {},
     "output_type": "execute_result"
    }
   ],
   "source": [
    "72**2"
   ]
  },
  {
   "cell_type": "code",
   "execution_count": 2,
   "id": "122adeeb",
   "metadata": {},
   "outputs": [
    {
     "data": {
      "text/plain": [
       "2"
      ]
     },
     "execution_count": 2,
     "metadata": {},
     "output_type": "execute_result"
    }
   ],
   "source": [
    "0b10\n"
   ]
  },
  {
   "cell_type": "code",
   "execution_count": 3,
   "id": "f2f17b18",
   "metadata": {},
   "outputs": [
    {
     "data": {
      "text/plain": [
       "10"
      ]
     },
     "execution_count": 3,
     "metadata": {},
     "output_type": "execute_result"
    }
   ],
   "source": [
    "0b1010"
   ]
  },
  {
   "cell_type": "code",
   "execution_count": 4,
   "id": "046e0866",
   "metadata": {},
   "outputs": [
    {
     "data": {
      "text/plain": [
       "4"
      ]
     },
     "execution_count": 4,
     "metadata": {},
     "output_type": "execute_result"
    }
   ],
   "source": [
    "0b100"
   ]
  },
  {
   "cell_type": "code",
   "execution_count": 5,
   "id": "609a1d02",
   "metadata": {},
   "outputs": [
    {
     "data": {
      "text/plain": [
       "8"
      ]
     },
     "execution_count": 5,
     "metadata": {},
     "output_type": "execute_result"
    }
   ],
   "source": [
    "0b1000"
   ]
  },
  {
   "cell_type": "code",
   "execution_count": 6,
   "id": "300f14ca",
   "metadata": {},
   "outputs": [
    {
     "data": {
      "text/plain": [
       "5.0"
      ]
     },
     "execution_count": 6,
     "metadata": {},
     "output_type": "execute_result"
    }
   ],
   "source": [
    "10/2"
   ]
  },
  {
   "cell_type": "code",
   "execution_count": 7,
   "id": "60fd7684",
   "metadata": {},
   "outputs": [
    {
     "data": {
      "text/plain": [
       "3"
      ]
     },
     "execution_count": 7,
     "metadata": {},
     "output_type": "execute_result"
    }
   ],
   "source": [
    "10//3"
   ]
  },
  {
   "cell_type": "code",
   "execution_count": null,
   "id": "7d0940ae",
   "metadata": {},
   "outputs": [],
   "source": []
  }
 ],
 "metadata": {
  "kernelspec": {
   "display_name": "Python 3 (ipykernel)",
   "language": "python",
   "name": "python3"
  },
  "language_info": {
   "codemirror_mode": {
    "name": "ipython",
    "version": 3
   },
   "file_extension": ".py",
   "mimetype": "text/x-python",
   "name": "python",
   "nbconvert_exporter": "python",
   "pygments_lexer": "ipython3",
   "version": "3.10.6"
  }
 },
 "nbformat": 4,
 "nbformat_minor": 5
}
