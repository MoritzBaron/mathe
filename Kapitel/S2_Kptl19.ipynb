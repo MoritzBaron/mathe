{
 "cells": [
  {
   "cell_type": "code",
   "execution_count": null,
   "id": "6c5c343d",
   "metadata": {},
   "outputs": [],
   "source": [
    "#374\n",
    "g(3) = 23"
   ]
  },
  {
   "cell_type": "code",
   "execution_count": null,
   "id": "f862e5f5",
   "metadata": {},
   "outputs": [],
   "source": [
    "#375\n",
    "Rechtseindeutigkeit bedeutet dass von keinem Element der Definitionsmenge zwei oder mehr Pfeile abgehen"
   ]
  },
  {
   "cell_type": "code",
   "execution_count": null,
   "id": "3abf98e4",
   "metadata": {},
   "outputs": [],
   "source": [
    "#376\n",
    "A : ja\n",
    "B : nein\n",
    "C : nein\n",
    "D : ja\n",
    "E : nein\n",
    "F : ja"
   ]
  },
  {
   "cell_type": "code",
   "execution_count": null,
   "id": "2771362a",
   "metadata": {},
   "outputs": [],
   "source": [
    "#377\n",
    "   {1,3,4} -> N\n",
    ":{\n",
    "   x |-> x + 2 "
   ]
  },
  {
   "cell_type": "code",
   "execution_count": 1,
   "id": "15adb5f2",
   "metadata": {},
   "outputs": [
    {
     "data": {
      "text/plain": [
       "(True, False)"
      ]
     },
     "execution_count": 1,
     "metadata": {},
     "output_type": "execute_result"
    }
   ],
   "source": [
    "a = {1, 2, 3}\n",
    "b = [1, 2, 3]\n",
    "type(a) is set, type(b) is set"
   ]
  },
  {
   "cell_type": "code",
   "execution_count": 2,
   "id": "631c1142",
   "metadata": {},
   "outputs": [
    {
     "data": {
      "text/plain": [
       "(False, True, False, True)"
      ]
     },
     "execution_count": 2,
     "metadata": {},
     "output_type": "execute_result"
    }
   ],
   "source": [
    "x, y, c, d, = 2, 2.0, [1,2], [1,2]\n",
    "x is y, x == y, c is d, c == d"
   ]
  },
  {
   "cell_type": "markdown",
   "id": "bc1b6830",
   "metadata": {},
   "source": [
    "New python:"
   ]
  },
  {
   "cell_type": "code",
   "execution_count": 4,
   "id": "85385101",
   "metadata": {},
   "outputs": [],
   "source": [
    "def onlyTuples(s):\n",
    "    for x in s:\n",
    "        if not type(x) is tuple:\n",
    "            return False\n",
    "        return True"
   ]
  },
  {
   "cell_type": "code",
   "execution_count": 5,
   "id": "0f1d7173",
   "metadata": {},
   "outputs": [
    {
     "data": {
      "text/plain": [
       "[1, 4, 9, 16]"
      ]
     },
     "execution_count": 5,
     "metadata": {},
     "output_type": "execute_result"
    }
   ],
   "source": [
    "list(map(lambda x: x * x, [1, 2, 3, 4]))"
   ]
  },
  {
   "cell_type": "code",
   "execution_count": 6,
   "id": "d95e53d1",
   "metadata": {},
   "outputs": [
    {
     "data": {
      "text/plain": [
       "(True, False)"
      ]
     },
     "execution_count": 6,
     "metadata": {},
     "output_type": "execute_result"
    }
   ],
   "source": [
    "all([True, True, True]), all([True, False, True])"
   ]
  },
  {
   "cell_type": "code",
   "execution_count": 7,
   "id": "161c41f1",
   "metadata": {},
   "outputs": [],
   "source": [
    "def NewOnlyTuples(s):\n",
    "    return all(map(lambda x: type(x) is tuple, s))"
   ]
  },
  {
   "cell_type": "code",
   "execution_count": 8,
   "id": "0d4c6412",
   "metadata": {},
   "outputs": [
    {
     "data": {
      "text/plain": [
       "True"
      ]
     },
     "execution_count": 8,
     "metadata": {},
     "output_type": "execute_result"
    }
   ],
   "source": [
    "NewOnlyTuples([(1,2), (3,4), (5,6)])"
   ]
  },
  {
   "cell_type": "code",
   "execution_count": 9,
   "id": "71088a5d",
   "metadata": {},
   "outputs": [],
   "source": [
    "def rightUnique(f):\n",
    "    for x1, y1 in f:\n",
    "        if x1 == x2 and y1 != y2:\n",
    "            return False\n",
    "        return True"
   ]
  },
  {
   "cell_type": "code",
   "execution_count": 10,
   "id": "148496b1",
   "metadata": {},
   "outputs": [],
   "source": [
    "def isFunction(f):\n",
    "    return type(f) is set and NewOnlyTuples(f) and rightUnique(f)"
   ]
  },
  {
   "cell_type": "code",
   "execution_count": null,
   "id": "7a673bae",
   "metadata": {},
   "outputs": [],
   "source": [
    "#378\n",
    "NewOnlyTuples testet auf tuple aber nicht ob 2er oder 3er tuple. für eine funktion benötigen wir paare dh wir müssen\n",
    "explizit auf 2er tuple testen:"
   ]
  },
  {
   "cell_type": "code",
   "execution_count": 12,
   "id": "e6e40cc2",
   "metadata": {},
   "outputs": [],
   "source": [
    "def onlyPairs(s):\n",
    "    return all(map(lambda x: type(s) is tuple and len(s) == 2, s))"
   ]
  },
  {
   "cell_type": "code",
   "execution_count": 14,
   "id": "e7600c94",
   "metadata": {},
   "outputs": [],
   "source": [
    "def NewIsFunction(f):\n",
    "    return type(f) is set and onlyPairs(f) and rightUnique(f)"
   ]
  },
  {
   "cell_type": "code",
   "execution_count": 15,
   "id": "2da19c24",
   "metadata": {},
   "outputs": [
    {
     "data": {
      "text/plain": [
       "[2, 1, 4]"
      ]
     },
     "execution_count": 15,
     "metadata": {},
     "output_type": "execute_result"
    }
   ],
   "source": [
    "#Definitionsbereich = Menge aller ersten Komponenten der Paare\n",
    "def dom(f):\n",
    "    return map(lambda t: t[0], f)\n",
    "\n",
    "list(dom({(1, 2), (2, 3), (4, 8)}))"
   ]
  },
  {
   "cell_type": "code",
   "execution_count": 17,
   "id": "1c444c20",
   "metadata": {},
   "outputs": [
    {
     "data": {
      "text/plain": [
       "[3, 2, 8]"
      ]
     },
     "execution_count": 17,
     "metadata": {},
     "output_type": "execute_result"
    }
   ],
   "source": [
    "#379\n",
    "def rng(f):\n",
    "    return map(lambda t: t[1], f)\n",
    "    \n",
    "list(rng({(1, 2), (2, 3), (4, 8)}))"
   ]
  },
  {
   "cell_type": "code",
   "execution_count": null,
   "id": "26674964",
   "metadata": {},
   "outputs": [],
   "source": [
    "#380\n",
    "nein sie ist nicht injektiv, da 2 Elemente aus dem Definitionsbereich den Wert 23 haben. Würde man nun die \n",
    "Umkehrfunktion nehmen, wäre f(23) nicht rechteindeutig"
   ]
  },
  {
   "cell_type": "code",
   "execution_count": null,
   "id": "7cf721b9",
   "metadata": {},
   "outputs": [],
   "source": [
    "#381\n",
    "nein, f(2) wäre nicht rechtseindeutig"
   ]
  },
  {
   "cell_type": "code",
   "execution_count": null,
   "id": "3a92bf05",
   "metadata": {},
   "outputs": [],
   "source": [
    "#382\n",
    "nein sie ist nicht injektiv. Es würde für unendlich viele Elemente aus dem Definitionsbereich das gleiche Ergebnis\n",
    "rauskommen. wenn man jz also die umkehrfunktion bildet würden einem Element aus dem Definitonsbereich unendlich\n",
    "viele Werte aus dem Wertebreich zugeordnet. -> nicht rechtseindeutig = nicht injektiv"
   ]
  },
  {
   "cell_type": "code",
   "execution_count": 18,
   "id": "4c869c95",
   "metadata": {},
   "outputs": [],
   "source": [
    "#383\n",
    "def injectiv(n):\n",
    "    for (x1, y1) in n:\n",
    "        for (x2, y2)in n:\n",
    "            if x1 != x2 and y1 == y2:\n",
    "                return False\n",
    "            return True"
   ]
  },
  {
   "cell_type": "code",
   "execution_count": null,
   "id": "635efcf9",
   "metadata": {},
   "outputs": [],
   "source": [
    "#384\n",
    "wenn eine Fukntion nicht injektiv ist kann man eine horizontale Linie finden die den Graph mehr als ein mal\n",
    "schneidet.\n",
    "Kann man eine vertikale Linie finden die den Graphen mehr als ein mal schneidet so ist es keine Funktion da die\n",
    "Menge von Paaren nicht rechtseindeutig ist."
   ]
  },
  {
   "cell_type": "code",
   "execution_count": 21,
   "id": "6c1e27b9",
   "metadata": {},
   "outputs": [],
   "source": [
    "#385 falsch, gibt nur das erste Paar umgedreht zurück\n",
    "def invFunction(f):\n",
    "    for (x1, y1) in f:\n",
    "        return(y1, x1)"
   ]
  },
  {
   "cell_type": "code",
   "execution_count": 22,
   "id": "0de15c25",
   "metadata": {},
   "outputs": [
    {
     "data": {
      "text/plain": [
       "(2, 1)"
      ]
     },
     "execution_count": 22,
     "metadata": {},
     "output_type": "execute_result"
    }
   ],
   "source": [
    "invFunction({(1,2), (3,5)})"
   ]
  },
  {
   "cell_type": "code",
   "execution_count": 23,
   "id": "65659c85",
   "metadata": {},
   "outputs": [],
   "source": [
    "#385\n",
    "def invFunction(f):\n",
    "    return set(map(lambda t: t[1], t[0],f))"
   ]
  },
  {
   "cell_type": "code",
   "execution_count": null,
   "id": "8dc8b799",
   "metadata": {},
   "outputs": [],
   "source": [
    "#386 Umkerfunktion bilden:\n",
    "x |-> x//3 +3; y = x//3 +3\n",
    "1. x und y werden vertauscht: x = y//3 + 3\n",
    "2. nach y auflösen: y = (x-3) * 3 = 3x - 9\n"
   ]
  },
  {
   "cell_type": "code",
   "execution_count": null,
   "id": "dbf6ab63",
   "metadata": {},
   "outputs": [],
   "source": [
    "#387\n",
    "y = x**2\n",
    "x = y**2 -> keine Lösung für x negativ oder 2 Lösungen für x positiv\n",
    "\n",
    "bei Definitionbereich von R >= 0:\n",
    "y = sqrt(x)"
   ]
  },
  {
   "cell_type": "code",
   "execution_count": 25,
   "id": "1fb7eee7",
   "metadata": {},
   "outputs": [],
   "source": [
    "#388 eine Funktion bildet genau dann surjektiv auf eine Menge B ab wenn B der Wertebereich der Funktion f ist\n",
    "def surjective(n, B):\n",
    "    return set(rng(n)) == B"
   ]
  },
  {
   "cell_type": "code",
   "execution_count": null,
   "id": "771fc705",
   "metadata": {},
   "outputs": [],
   "source": [
    "#389\n",
    "nein"
   ]
  },
  {
   "cell_type": "code",
   "execution_count": null,
   "id": "44f4f5e8",
   "metadata": {},
   "outputs": [],
   "source": [
    "#390\n",
    "das erste gilt, das zweite nicht"
   ]
  },
  {
   "cell_type": "code",
   "execution_count": 30,
   "id": "3b6fa84b",
   "metadata": {},
   "outputs": [],
   "source": [
    "#391 falsch\n",
    "def comp(f,g):\n",
    "    return set((map(lambda t: t[0], f),(map(lambda x: x[1], g))))"
   ]
  },
  {
   "cell_type": "code",
   "execution_count": 31,
   "id": "0575ca99",
   "metadata": {},
   "outputs": [
    {
     "data": {
      "text/plain": [
       "{<map at 0x7f7d678a2e60>, <map at 0x7f7d678a38b0>}"
      ]
     },
     "execution_count": 31,
     "metadata": {},
     "output_type": "execute_result"
    }
   ],
   "source": [
    "set(comp({(1,2),(3,4)}, {(2,5), (4,7)}))"
   ]
  },
  {
   "cell_type": "code",
   "execution_count": 39,
   "id": "efffa89c",
   "metadata": {},
   "outputs": [],
   "source": [
    "#391 ??\n",
    "def comp(f, g):\n",
    "    result = set()\n",
    "    for (x, y1) in g:\n",
    "        for (y2, z) in f:\n",
    "            if y1 == y2:\n",
    "                result.add((x,z))\n",
    "                break\n",
    "    return result"
   ]
  },
  {
   "cell_type": "code",
   "execution_count": 40,
   "id": "62d9f504",
   "metadata": {},
   "outputs": [
    {
     "data": {
      "text/plain": [
       "set()"
      ]
     },
     "execution_count": 40,
     "metadata": {},
     "output_type": "execute_result"
    }
   ],
   "source": [
    "comp({(1,2),(3,4)}, {(2,5), (4,7)})"
   ]
  },
  {
   "cell_type": "code",
   "execution_count": 41,
   "id": "7053a429",
   "metadata": {},
   "outputs": [],
   "source": [
    "#komposition zweier Python Funktionen:\n",
    "def compPy(f, g):\n",
    "    return lambda x: f(g(x))"
   ]
  },
  {
   "cell_type": "code",
   "execution_count": 45,
   "id": "9add0fa8",
   "metadata": {},
   "outputs": [
    {
     "data": {
      "text/plain": [
       "132"
      ]
     },
     "execution_count": 45,
     "metadata": {},
     "output_type": "execute_result"
    }
   ],
   "source": [
    "f = lambda x: 3 * x\n",
    "g = lambda x: x + 2\n",
    "\n",
    "compPy(f, g)(42)"
   ]
  },
  {
   "cell_type": "code",
   "execution_count": 46,
   "id": "1345d94e",
   "metadata": {},
   "outputs": [
    {
     "data": {
      "text/plain": [
       "False"
      ]
     },
     "execution_count": 46,
     "metadata": {},
     "output_type": "execute_result"
    }
   ],
   "source": [
    "#393\n",
    "compPy(f, g)(1) == compPy(g, f)(1)"
   ]
  },
  {
   "cell_type": "code",
   "execution_count": null,
   "id": "84c1063d",
   "metadata": {},
   "outputs": [],
   "source": [
    "#394\n",
    "f(m,n)= 2m +n\n",
    "\n",
    "def f(m,n):\n",
    "    return 2*m + n\n",
    "\n",
    "\n",
    "from math import sqrt\n",
    "\n",
    "g(x,y)= x**2 + y**1/2\n",
    "\n",
    "def g(x,y):\n",
    "    return x*x*sqrt(y)"
   ]
  },
  {
   "cell_type": "code",
   "execution_count": null,
   "id": "f794afcd",
   "metadata": {},
   "outputs": [],
   "source": [
    "#395\n",
    "beide nicht injektiv da f(20,2) = f(10,22) und g(1,16) = g(2,1)"
   ]
  },
  {
   "cell_type": "code",
   "execution_count": null,
   "id": "49030964",
   "metadata": {},
   "outputs": [],
   "source": [
    "#397\n",
    "für Division, da man 0 durch n teilen darf aber nicht n durch 0"
   ]
  },
  {
   "cell_type": "code",
   "execution_count": null,
   "id": "a478430e",
   "metadata": {},
   "outputs": [],
   "source": [
    "#398\n",
    "(m,n) |-> m+n\n",
    "ja verknüpfung auf N wird definiert\n",
    "\n",
    "(m,n) |-> m - n\n",
    "nein weil sich der definitionsbereich auf Z bezieht"
   ]
  }
 ],
 "metadata": {
  "kernelspec": {
   "display_name": "Python 3 (ipykernel)",
   "language": "python",
   "name": "python3"
  },
  "language_info": {
   "codemirror_mode": {
    "name": "ipython",
    "version": 3
   },
   "file_extension": ".py",
   "mimetype": "text/x-python",
   "name": "python",
   "nbconvert_exporter": "python",
   "pygments_lexer": "ipython3",
   "version": "3.10.6"
  }
 },
 "nbformat": 4,
 "nbformat_minor": 5
}
